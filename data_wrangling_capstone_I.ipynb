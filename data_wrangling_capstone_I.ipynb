{
 "cells": [
  {
   "cell_type": "code",
   "execution_count": 1,
   "metadata": {},
   "outputs": [],
   "source": [
    "import sys\n",
    "import spotipy\n",
    "import spotipy.util as util\n",
    "import pandas as pd\n",
    "\n",
    "\n",
    "cid =\"0d262097ee284912b168027f224d160a\" \n",
    "secret = \"9d1d17eac2034913883c828fcddd83f8\"\n",
    "\n",
    "\n",
    "scope = 'user-library-read'\n",
    "\n",
    "if len(sys.argv) > 1:\n",
    "    username = sys.argv[1]\n",
    "else:\n",
    "    print(\"Usage: %s username\" % (sys.argv[0],))\n",
    "    sys.exit()\n",
    "    \n",
    "token = util.prompt_for_user_token(username,scope,client_id=cid,\n",
    "                                   client_secret=secret, redirect_uri='http://localhost/')\n",
    "\n",
    "sp = spotipy.Spotify(auth=token)"
   ]
  },
  {
   "cell_type": "code",
   "execution_count": 2,
   "metadata": {},
   "outputs": [],
   "source": [
    "# defined a function that grabs all tracks of several playlists and combines into a single list\n",
    "\n",
    "def get_playlist_tracks(playlists):\n",
    "    t_tracks = []\n",
    "    for playlist in playlists:\n",
    "        t_playlist = sp.user_playlist_tracks(username, playlist_id=playlist, fields='items(track(id,name,uri))')['items']\n",
    "        t_playlist = [x['track'] for x in t_playlist]\n",
    "        t_tracks.extend(t_playlist)\n",
    "    return t_tracks\n"
   ]
  },
  {
   "cell_type": "code",
   "execution_count": 3,
   "metadata": {},
   "outputs": [
    {
     "name": "stdout",
     "output_type": "stream",
     "text": [
      "564\n",
      "537\n",
      "609\n",
      "546\n"
     ]
    }
   ],
   "source": [
    "# get tracks of several workout playlists motivation mix, beast mode, power workout, workout, hype, cardio, pumping iron, adrenaline workout, slay the weights\n",
    "playlist_w = ['37i9dQZF1DXdxcBWuJkbcy', '37i9dQZF1DX76Wlfdnj7AP', '37i9dQZF1DWUVpAXiEPK8P', '37i9dQZF1DX70RN3TfWWJh', '37i9dQZF1DX4eRPd9frC1m','37i9dQZF1DWSJHnPb1f0X3','37i9dQZF1DWZYWNM3NfvzJ','37i9dQZF1DXe6bgV3TmZOL','37i9dQZF1DXbHrLkblwdd2']\n",
    "workout_tracks = get_playlist_tracks(playlist_w)\n",
    "workout_tracks = pd.DataFrame(workout_tracks) # turn dict into dataframe using pandas\n",
    "workout_tracks = workout_tracks.drop_duplicates(subset = ['id']) # remove any duplicate songs\n",
    "print(len(workout_tracks)) \n",
    "\n",
    "\n",
    "#get tracks of focus playlists Deep Focus, Brain Food, Intense Studying, Productive Morning, Music for Concentration, Perfect Concentration, Focus Flow\n",
    "playlist_f = ['37i9dQZF1DWZeKCadgRdKQ', '37i9dQZF1DWXLeA8Omikj7', '37i9dQZF1DX8NTLI2TtZa6', '37i9dQZF1DX6T5dWVv97mp', '37i9dQZF1DX3PFzdbtx1Us', '37i9dQZF1DWSluGMsH1R9r','37i9dQZF1DWZZbwlv3Vmtr']\n",
    "focus_tracks = get_playlist_tracks(playlist_f)\n",
    "focus_tracks = pd.DataFrame(focus_tracks) \n",
    "focus_tracks = focus_tracks.drop_duplicates(subset = ['id'])\n",
    "print(len(focus_tracks))\n",
    "\n",
    "\n",
    "#get tracks of party playlists Dance Party, Girls Night, Party Jams, Throwback James, Ultimate Party Classics, TGIF, Beach Party, Dorm Daze, Party Deluxe\n",
    "playlist_p = ['37i9dQZF1DXaXB8fQg7xif', '37i9dQZF1DX0Uv9tZ47pWo', '0ZWYUjUMhaq0Rammqq3qu1', '37i9dQZF1DX8ky12eWIvcW', '37i9dQZF1DX0IlCGIUGBsA','37i9dQZF1DXcRXFNfZr7Tp','37i9dQZF1DX4Y4RhrZqHhr','37i9dQZF1DXdfjr8o5AMIT','37i9dQZF1DWVWiyE9VDkCO']\n",
    "party_tracks = get_playlist_tracks(playlist_p)\n",
    "party_tracks = pd.DataFrame(party_tracks) \n",
    "party_tracks = party_tracks.drop_duplicates(subset = ['id'])\n",
    "print(len(party_tracks))\n",
    "\n",
    "\n",
    "#get tracks of chill playlists Relax and Unwind, Your Favorite Coffee House, Evening Chill, Hanging Out and Relaxing, Chill Vibes, Chillout Lounge\n",
    "playlist_c = ['37i9dQZF1DWU0ScTcjJBdj','37i9dQZF1DX6ziVCJnEm59','37i9dQZF1DWZ0OzPeadl0h', '37i9dQZF1DXci7j0DJQgGp', '37i9dQZF1DX889U0CL85jj','37i9dQZF1DWTvNyxOwkztu']\n",
    "chill_tracks = get_playlist_tracks(playlist_c)\n",
    "chill_tracks = pd.DataFrame(chill_tracks) \n",
    "chill_tracks = chill_tracks.drop_duplicates(subset = ['id'])\n",
    "print(len(chill_tracks))"
   ]
  },
  {
   "cell_type": "code",
   "execution_count": 4,
   "metadata": {},
   "outputs": [],
   "source": [
    "def add_audio_features(x_tracks):\n",
    "    x_ids = x_tracks[:]['id']\n",
    "    features = []\n",
    "    for id in x_ids:\n",
    "        audio_x = sp.audio_features(tracks=id)\n",
    "        features.extend(audio_x)\n",
    "    merged_data = pd.merge(x_tracks, pd.DataFrame(features), on='id').drop(columns=['uri_y', 'track_href', 'type', 'analysis_url'])\n",
    "    return merged_data"
   ]
  },
  {
   "cell_type": "code",
   "execution_count": 5,
   "metadata": {},
   "outputs": [
    {
     "name": "stdout",
     "output_type": "stream",
     "text": [
      "retrying ...1secs\n"
     ]
    }
   ],
   "source": [
    "workout_features = add_audio_features(workout_tracks)\n",
    "focus_features = add_audio_features(focus_tracks)\n",
    "party_features = add_audio_features(party_tracks)\n",
    "chill_features = add_audio_features(chill_tracks)"
   ]
  },
  {
   "cell_type": "code",
   "execution_count": 6,
   "metadata": {},
   "outputs": [],
   "source": [
    "# flag each song with its corresponding playlist \n",
    "workout_features['playlist'] = 'workout'\n",
    "focus_features['playlist'] = 'focus'\n",
    "party_features['playlist'] = 'party'\n",
    "chill_features['playlist'] = 'chill'"
   ]
  },
  {
   "cell_type": "code",
   "execution_count": 7,
   "metadata": {},
   "outputs": [],
   "source": [
    "# combine into one dataset\n",
    "playlist_genres = [workout_features, focus_features, party_features, chill_features]\n",
    "spotify_songs = pd.concat(playlist_genres)"
   ]
  },
  {
   "cell_type": "code",
   "execution_count": 8,
   "metadata": {},
   "outputs": [
    {
     "data": {
      "text/plain": [
       "id                  0\n",
       "name                0\n",
       "uri_x               0\n",
       "acousticness        0\n",
       "danceability        0\n",
       "duration_ms         0\n",
       "energy              0\n",
       "instrumentalness    0\n",
       "key                 0\n",
       "liveness            0\n",
       "loudness            0\n",
       "mode                0\n",
       "speechiness         0\n",
       "tempo               0\n",
       "time_signature      0\n",
       "valence             0\n",
       "playlist            0\n",
       "dtype: int64"
      ]
     },
     "execution_count": 8,
     "metadata": {},
     "output_type": "execute_result"
    }
   ],
   "source": [
    "# search for missing values\n",
    "spotify_songs.isna().sum()"
   ]
  },
  {
   "cell_type": "code",
   "execution_count": 9,
   "metadata": {},
   "outputs": [
    {
     "name": "stdout",
     "output_type": "stream",
     "text": [
      "2256\n"
     ]
    },
    {
     "data": {
      "text/plain": [
       "id                  2216\n",
       "name                2132\n",
       "uri_x               2216\n",
       "acousticness        1384\n",
       "danceability         699\n",
       "duration_ms         2138\n",
       "energy               936\n",
       "instrumentalness    1213\n",
       "key                   12\n",
       "liveness             762\n",
       "loudness            2065\n",
       "mode                   2\n",
       "speechiness          797\n",
       "tempo               2099\n",
       "time_signature         5\n",
       "valence             1007\n",
       "playlist               4\n",
       "dtype: int64"
      ]
     },
     "execution_count": 9,
     "metadata": {},
     "output_type": "execute_result"
    }
   ],
   "source": [
    "print(len(spotify_songs))\n",
    "# inspecting duplicates\n",
    "spotify_songs.nunique()"
   ]
  },
  {
   "cell_type": "code",
   "execution_count": 10,
   "metadata": {},
   "outputs": [],
   "source": [
    "# look for outliers\n",
    "import seaborn as sns\n",
    "import matplotlib\n",
    "import matplotlib.pyplot as plt\n",
    "\n",
    "contin_columns = spotify_songs[['acousticness', 'danceability', 'duration_ms', 'energy', 'instrumentalness', 'key', 'liveness', 'speechiness','tempo','valence']]\n",
    "for i, column in enumerate(contin_columns):\n",
    "    plt.figure(i)\n",
    "    sns.boxplot(x=spotify_songs[column])\n",
    "    "
   ]
  },
  {
   "cell_type": "code",
   "execution_count": 11,
   "metadata": {},
   "outputs": [],
   "source": [
    "#export dataframe as csv for analysis\n",
    "spotify_songs.to_csv('final_spotify_data.csv', index=False)"
   ]
  }
 ],
 "metadata": {
  "kernelspec": {
   "display_name": "Python 3",
   "language": "python",
   "name": "python3"
  },
  "language_info": {
   "codemirror_mode": {
    "name": "ipython",
    "version": 3
   },
   "file_extension": ".py",
   "mimetype": "text/x-python",
   "name": "python",
   "nbconvert_exporter": "python",
   "pygments_lexer": "ipython3",
   "version": "3.7.1"
  }
 },
 "nbformat": 4,
 "nbformat_minor": 2
}
