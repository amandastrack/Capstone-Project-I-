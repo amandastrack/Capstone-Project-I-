{
 "cells": [
  {
   "cell_type": "code",
   "execution_count": 44,
   "metadata": {},
   "outputs": [],
   "source": [
    "import pandas as pd\n",
    "import numpy as np"
   ]
  },
  {
   "cell_type": "code",
   "execution_count": 23,
   "metadata": {},
   "outputs": [],
   "source": [
    "df = pd.read_csv('data/final_spotify_data.csv')"
   ]
  },
  {
   "cell_type": "code",
   "execution_count": 24,
   "metadata": {},
   "outputs": [
    {
     "name": "stdout",
     "output_type": "stream",
     "text": [
      "                       id                               name  \\\n",
      "0  2HZzRcA4c9XbGDpt7U1ZBf  I Wait for You - Ben Pearce Remix   \n",
      "1  29YCC9Vad3O2jI36akkltE                        Communicate   \n",
      "2  7wZnt8sHhTMO8PA4o5Ah3n                            Tempest   \n",
      "3  6j4zFIzEe3NMzF6oC8XVZ0                         Jungle Dub   \n",
      "4  1FXlhqcYaiw6KuUYtXdtAi                              Crash   \n",
      "\n",
      "                                  uri_x  acousticness  danceability  \\\n",
      "0  spotify:track:2HZzRcA4c9XbGDpt7U1ZBf      0.000011         0.573   \n",
      "1  spotify:track:29YCC9Vad3O2jI36akkltE      0.006640         0.587   \n",
      "2  spotify:track:7wZnt8sHhTMO8PA4o5Ah3n      0.000960         0.798   \n",
      "3  spotify:track:6j4zFIzEe3NMzF6oC8XVZ0      0.002080         0.798   \n",
      "4  spotify:track:1FXlhqcYaiw6KuUYtXdtAi      0.000455         0.689   \n",
      "\n",
      "   duration_ms  energy  instrumentalness  key  liveness  loudness  mode  \\\n",
      "0       404520   0.770             0.685   11    0.0975    -9.517     0   \n",
      "1       285600   0.925             0.635    0    0.2130    -5.842     1   \n",
      "2       325744   0.705             0.852    5    0.0828   -10.201     0   \n",
      "3       309539   0.631             0.872    4    0.0728    -9.637     0   \n",
      "4       232982   0.456             0.882    2    0.0700   -12.307     1   \n",
      "\n",
      "   speechiness    tempo  time_signature  valence playlist  \n",
      "0       0.0358  124.020               4    0.228  workout  \n",
      "1       0.0315  124.007               4    0.227  workout  \n",
      "2       0.0575  119.982               4    0.365  workout  \n",
      "3       0.0486  120.998               4    0.212  workout  \n",
      "4       0.0339  126.000               4    0.238  workout  \n"
     ]
    }
   ],
   "source": [
    "print(df.head())"
   ]
  },
  {
   "cell_type": "code",
   "execution_count": 32,
   "metadata": {},
   "outputs": [],
   "source": [
    "## FIRST NEED TO PUT GENRES INTO CLASSES (1,2,3,4)\n",
    "g = ['workout', 'chill', 'party', 'focus']\n",
    "\n",
    "df['labels'] = df['playlist']\n",
    "\n",
    "d = dict(zip(g, range(0,4)))\n",
    "\n",
    "df['labels'] = df['labels'].map(d, na_action='ignore')\n"
   ]
  },
  {
   "cell_type": "code",
   "execution_count": 41,
   "metadata": {},
   "outputs": [],
   "source": [
    "from sklearn.model_selection import train_test_split\n",
    "\n",
    "## SPLIT INTO TRAINING AND TEST\n",
    "\n",
    "X = df.drop(['labels', 'playlist','id','name','uri_x'], axis = 1)\n",
    "y = df['labels']\n",
    "\n",
    "X_train, X_test, y_train, y_test = train_test_split(X, y, test_size=0.33, random_state=42)"
   ]
  },
  {
   "cell_type": "code",
   "execution_count": 63,
   "metadata": {},
   "outputs": [
    {
     "name": "stdout",
     "output_type": "stream",
     "text": [
      "\n",
      " Clasification Report:\n",
      "               precision    recall  f1-score   support\n",
      "\n",
      "           0       0.93      0.96      0.95       180\n",
      "           1       1.00      0.98      0.99       173\n",
      "           2       0.96      0.95      0.95       182\n",
      "           3       1.00      1.00      1.00       175\n",
      "\n",
      "   micro avg       0.97      0.97      0.97       710\n",
      "   macro avg       0.97      0.97      0.97       710\n",
      "weighted avg       0.97      0.97      0.97       710\n",
      "\n",
      "\n",
      " Confusion Matrix:\n",
      " [[173   0   7   0]\n",
      " [  3 170   0   0]\n",
      " [ 10   0 172   0]\n",
      " [  0   0   0 175]]\n",
      "Accuracy: 0.971830985915493\n"
     ]
    },
    {
     "name": "stderr",
     "output_type": "stream",
     "text": [
      "c:\\users\\amand\\appdata\\local\\programs\\python\\python37\\lib\\site-packages\\sklearn\\ensemble\\forest.py:246: FutureWarning: The default value of n_estimators will change from 10 in version 0.20 to 100 in 0.22.\n",
      "  \"10 in version 0.20 to 100 in 0.22.\", FutureWarning)\n"
     ]
    }
   ],
   "source": [
    "from sklearn.ensemble import RandomForestClassifier\n",
    "from sklearn.metrics import (classification_report,confusion_matrix, accuracy_score, precision_score, recall_score, \n",
    "                             f1_score, roc_auc_score, roc_curve)\n",
    "\n",
    "rfclf = RandomForestClassifier()\n",
    "rfclf.fit(X, y)\n",
    "\n",
    "y_pred = rfclf.predict(X_test)\n",
    "\n",
    "print('\\n Clasification Report:\\n',classification_report(y_test,y_pred))\n",
    "print('\\n Confusion Matrix:\\n',confusion_matrix(y_test,y_pred))\n",
    "print(\"Accuracy:\", (accuracy_score(y_test,y_pred)))\n"
   ]
  },
  {
   "cell_type": "code",
   "execution_count": 64,
   "metadata": {},
   "outputs": [
    {
     "name": "stdout",
     "output_type": "stream",
     "text": [
      "{'max_features': 'auto', 'n_estimators': 120}\n",
      "0.7241139680333565\n"
     ]
    }
   ],
   "source": [
    "## OPTIMIZE PARAMETERS FOR RANDOM FOREST ###\n",
    "from sklearn.model_selection import GridSearchCV\n",
    "\n",
    "param_grid = {'n_estimators': np.arange(20,200,10), # Number of trees in random forest\n",
    "              #'min_samples_leaf': np.arange(1,100,10), # Minimum number of samples required at each leaf node\n",
    "              'max_features': ['auto', 'sqrt']} # Method of selecting samples for training each tree\n",
    "\n",
    "\n",
    "rfclf = RandomForestClassifier()\n",
    "\n",
    "cv = GridSearchCV(rfclf, param_grid, cv=5)\n",
    "cv.fit(X_train, y_train)\n",
    "print(cv.best_params_)"
   ]
  },
  {
   "cell_type": "code",
   "execution_count": 70,
   "metadata": {},
   "outputs": [
    {
     "name": "stdout",
     "output_type": "stream",
     "text": [
      "\n",
      " Clasification Report:\n",
      "               precision    recall  f1-score   support\n",
      "\n",
      "           0       0.96      0.97      0.97       180\n",
      "           1       0.99      1.00      1.00       173\n",
      "           2       0.98      0.96      0.97       182\n",
      "           3       1.00      1.00      1.00       175\n",
      "\n",
      "   micro avg       0.98      0.98      0.98       710\n",
      "   macro avg       0.98      0.98      0.98       710\n",
      "weighted avg       0.98      0.98      0.98       710\n",
      "\n",
      "\n",
      " Confusion Matrix:\n",
      " [[175   1   4   0]\n",
      " [  0 173   0   0]\n",
      " [  7   0 175   0]\n",
      " [  0   0   0 175]]\n",
      "Accuracy: 0.9830985915492958\n"
     ]
    }
   ],
   "source": [
    "ne = cv.best_params_['n_estimators']\n",
    "mf = cv.best_params_['max_features']\n",
    "\n",
    "rfclf_tuned = RandomForestClassifier(n_estimators=ne, max_features=mf)\n",
    "\n",
    "rfclf_tuned.fit(X, y)\n",
    "\n",
    "y_pred = rfclf_tuned.predict(X_test)\n",
    "\n",
    "print('\\n Clasification Report:\\n',classification_report(y_test,y_pred))\n",
    "print('\\n Confusion Matrix:\\n',confusion_matrix(y_test,y_pred))\n",
    "print(\"Accuracy:\", (accuracy_score(y_test,y_pred)))"
   ]
  },
  {
   "cell_type": "code",
   "execution_count": 76,
   "metadata": {},
   "outputs": [
    {
     "name": "stdout",
     "output_type": "stream",
     "text": [
      "                  importance\n",
      "instrumentalness    0.183875\n",
      "acousticness        0.123998\n",
      "loudness            0.120965\n",
      "energy              0.119094\n",
      "valence             0.093822\n",
      "danceability        0.080587\n",
      "speechiness         0.077449\n",
      "duration_ms         0.065999\n",
      "tempo               0.050838\n",
      "liveness            0.044210\n",
      "key                 0.027048\n",
      "mode                0.008709\n",
      "time_signature      0.003406\n"
     ]
    }
   ],
   "source": [
    "feature_importances = pd.DataFrame(rfclf_tuned.feature_importances_,\n",
    "                                   index = X_train.columns,\n",
    "                                    columns=['importance']).sort_values('importance',ascending=False)\n",
    "print(feature_importances)"
   ]
  },
  {
   "cell_type": "code",
   "execution_count": 78,
   "metadata": {},
   "outputs": [
    {
     "name": "stdout",
     "output_type": "stream",
     "text": [
      "\n",
      " Clasification Report:\n",
      "               precision    recall  f1-score   support\n",
      "\n",
      "           0       0.94      0.97      0.95       180\n",
      "           1       0.99      0.99      0.99       173\n",
      "           2       0.97      0.95      0.96       182\n",
      "           3       1.00      0.99      0.99       175\n",
      "\n",
      "   micro avg       0.97      0.97      0.97       710\n",
      "   macro avg       0.97      0.97      0.97       710\n",
      "weighted avg       0.97      0.97      0.97       710\n",
      "\n",
      "\n",
      " Confusion Matrix:\n",
      " [[174   1   5   0]\n",
      " [  0 172   1   0]\n",
      " [ 10   0 172   0]\n",
      " [  1   1   0 173]]\n",
      "Accuracy: 0.9732394366197183\n"
     ]
    },
    {
     "name": "stderr",
     "output_type": "stream",
     "text": [
      "c:\\users\\amand\\appdata\\local\\programs\\python\\python37\\lib\\site-packages\\sklearn\\ensemble\\forest.py:246: FutureWarning: The default value of n_estimators will change from 10 in version 0.20 to 100 in 0.22.\n",
      "  \"10 in version 0.20 to 100 in 0.22.\", FutureWarning)\n"
     ]
    }
   ],
   "source": [
    "## REMOVE LOW IMPORTANCE VARIABLES TO SEE IF MAKES MODEL BETTER ###\n",
    "X = df.drop(['labels', 'playlist','id','name','uri_x','mode'], axis = 1)\n",
    "y = df['labels']\n",
    "\n",
    "X_train, X_test, y_train, y_test = train_test_split(X, y, test_size=0.33, random_state=42)\n",
    "rfclf = RandomForestClassifier()\n",
    "rfclf.fit(X, y)\n",
    "\n",
    "y_pred = rfclf.predict(X_test)\n",
    "\n",
    "print('\\n Clasification Report:\\n',classification_report(y_test,y_pred))\n",
    "print('\\n Confusion Matrix:\\n',confusion_matrix(y_test,y_pred))\n",
    "print(\"Accuracy:\", (accuracy_score(y_test,y_pred)))"
   ]
  },
  {
   "cell_type": "code",
   "execution_count": 79,
   "metadata": {},
   "outputs": [
    {
     "name": "stdout",
     "output_type": "stream",
     "text": [
      "{'max_features': 'auto', 'n_estimators': 90}\n"
     ]
    }
   ],
   "source": [
    "from sklearn.model_selection import GridSearchCV\n",
    "\n",
    "param_grid = {'n_estimators': np.arange(20,200,10), # Number of trees in random forest\n",
    "              #'min_samples_leaf': np.arange(1,100,10), # Minimum number of samples required at each leaf node\n",
    "              'max_features': ['auto', 'sqrt']} # Method of selecting samples for training each tree\n",
    "\n",
    "\n",
    "rfclf = RandomForestClassifier()\n",
    "\n",
    "cv = GridSearchCV(rfclf, param_grid, cv=5)\n",
    "cv.fit(X_train, y_train)\n",
    "print(cv.best_params_)"
   ]
  },
  {
   "cell_type": "code",
   "execution_count": 80,
   "metadata": {},
   "outputs": [
    {
     "name": "stdout",
     "output_type": "stream",
     "text": [
      "\n",
      " Clasification Report:\n",
      "               precision    recall  f1-score   support\n",
      "\n",
      "           0       0.97      0.96      0.96       180\n",
      "           1       0.99      1.00      1.00       173\n",
      "           2       0.96      0.97      0.96       182\n",
      "           3       1.00      1.00      1.00       175\n",
      "\n",
      "   micro avg       0.98      0.98      0.98       710\n",
      "   macro avg       0.98      0.98      0.98       710\n",
      "weighted avg       0.98      0.98      0.98       710\n",
      "\n",
      "\n",
      " Confusion Matrix:\n",
      " [[172   1   7   0]\n",
      " [  0 173   0   0]\n",
      " [  6   0 176   0]\n",
      " [  0   0   0 175]]\n",
      "Accuracy: 0.9802816901408451\n"
     ]
    }
   ],
   "source": [
    "ne = cv.best_params_['n_estimators']\n",
    "mf = cv.best_params_['max_features']\n",
    "\n",
    "rfclf_tuned = RandomForestClassifier(n_estimators=ne, max_features=mf)\n",
    "\n",
    "rfclf_tuned.fit(X, y)\n",
    "\n",
    "y_pred = rfclf_tuned.predict(X_test)\n",
    "\n",
    "print('\\n Clasification Report:\\n',classification_report(y_test,y_pred))\n",
    "print('\\n Confusion Matrix:\\n',confusion_matrix(y_test,y_pred))\n",
    "print(\"Accuracy:\", (accuracy_score(y_test,y_pred)))"
   ]
  },
  {
   "cell_type": "markdown",
   "metadata": {},
   "source": [
    "Removing mode makes inital model more accurate, but the tuned model accuracy is lower. "
   ]
  },
  {
   "cell_type": "code",
   "execution_count": null,
   "metadata": {},
   "outputs": [],
   "source": [
    "## TRY REMOVING OUTLIERS THEN REMODELING ##"
   ]
  },
  {
   "cell_type": "code",
   "execution_count": null,
   "metadata": {},
   "outputs": [],
   "source": [
    "## KNN ? USE GRID SEARCH ###"
   ]
  }
 ],
 "metadata": {
  "kernelspec": {
   "display_name": "Python 3",
   "language": "python",
   "name": "python3"
  },
  "language_info": {
   "codemirror_mode": {
    "name": "ipython",
    "version": 3
   },
   "file_extension": ".py",
   "mimetype": "text/x-python",
   "name": "python",
   "nbconvert_exporter": "python",
   "pygments_lexer": "ipython3",
   "version": "3.7.1"
  }
 },
 "nbformat": 4,
 "nbformat_minor": 2
}
