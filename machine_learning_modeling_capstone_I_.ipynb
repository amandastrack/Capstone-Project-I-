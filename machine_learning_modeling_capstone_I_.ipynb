{
 "cells": [
  {
   "cell_type": "markdown",
   "metadata": {},
   "source": [
    "# In-Depth Analysis and Machine Learning\n",
    "\n",
    "First we will evaluate several supervised machine learning techniques with default hyperparameters. Then we will perform hyperparameter tuning on the best peforming default estimators.\n",
    "\n",
    "Classifiers: Random Forest, Support Vector Machines, Naive Bayes, K-Nearest Neighbor, XGBoost\n",
    "\n",
    "Model Evaluation Metrics: accuracy and f1-score\n"
   ]
  },
  {
   "cell_type": "code",
   "execution_count": 2,
   "metadata": {},
   "outputs": [],
   "source": [
    "import pandas as pd\n",
    "import numpy as np"
   ]
  },
  {
   "cell_type": "code",
   "execution_count": 3,
   "metadata": {},
   "outputs": [],
   "source": [
    "df = pd.read_csv('data/final_spotify_data.csv')"
   ]
  },
  {
   "cell_type": "code",
   "execution_count": 4,
   "metadata": {},
   "outputs": [],
   "source": [
    "## FIRST NEED TO PUT GENRES INTO NUMERICAL CLASSES\n",
    "\n",
    "g = ['workout', 'chill', 'party', 'focus']\n",
    "\n",
    "df['labels'] = df['playlist']\n",
    "\n",
    "d = dict(zip(g, range(0,4)))\n",
    "\n",
    "df['labels'] = df['labels'].map(d, na_action='ignore')\n"
   ]
  },
  {
   "cell_type": "code",
   "execution_count": 5,
   "metadata": {},
   "outputs": [],
   "source": [
    "from sklearn.model_selection import train_test_split\n",
    "\n",
    "## SPLIT INTO TRAINING AND TEST\n",
    "\n",
    "X = df.drop(['labels', 'playlist','id','name','uri_x'], axis = 1)\n",
    "y = df['labels']\n",
    "\n",
    "X_train, X_test, y_train, y_test = train_test_split(X, y, test_size=0.33, random_state=42)"
   ]
  },
  {
   "cell_type": "markdown",
   "metadata": {},
   "source": [
    "### Random Forest"
   ]
  },
  {
   "cell_type": "code",
   "execution_count": 6,
   "metadata": {},
   "outputs": [
    {
     "name": "stdout",
     "output_type": "stream",
     "text": [
      "\n",
      " Confusion Matrix:\n",
      " [[101   8  70   1]\n",
      " [ 14 136   9  14]\n",
      " [ 60   8 113   1]\n",
      " [  7  15   3 150]]\n",
      "\n",
      " Classification Report: \n",
      "               precision    recall  f1-score   support\n",
      "\n",
      "           0       0.55      0.56      0.56       180\n",
      "           1       0.81      0.79      0.80       173\n",
      "           2       0.58      0.62      0.60       182\n",
      "           3       0.90      0.86      0.88       175\n",
      "\n",
      "   micro avg       0.70      0.70      0.70       710\n",
      "   macro avg       0.71      0.71      0.71       710\n",
      "weighted avg       0.71      0.70      0.71       710\n",
      "\n",
      "Accuracy: 0.704225352112676\n"
     ]
    },
    {
     "name": "stderr",
     "output_type": "stream",
     "text": [
      "c:\\users\\amand\\appdata\\local\\programs\\python\\python37\\lib\\site-packages\\sklearn\\ensemble\\forest.py:246: FutureWarning: The default value of n_estimators will change from 10 in version 0.20 to 100 in 0.22.\n",
      "  \"10 in version 0.20 to 100 in 0.22.\", FutureWarning)\n"
     ]
    }
   ],
   "source": [
    "from sklearn.ensemble import RandomForestClassifier\n",
    "from sklearn.metrics import (classification_report,confusion_matrix, accuracy_score, precision_score, recall_score, \n",
    "                             f1_score, roc_auc_score, roc_curve)\n",
    "### STANDARD PARAMETERS ###\n",
    "rfclf = RandomForestClassifier()\n",
    "rfclf.fit(X_train, y_train)\n",
    "\n",
    "y_pred = rfclf.predict(X_test)\n",
    "\n",
    "print('\\n Confusion Matrix:\\n',confusion_matrix(y_test,y_pred))\n",
    "print(\"\\n Classification Report: \\n\", classification_report(y_test, y_pred))\n",
    "print(\"Accuracy:\", (accuracy_score(y_test,y_pred)))"
   ]
  },
  {
   "cell_type": "markdown",
   "metadata": {},
   "source": [
    "### Support Vector Machine"
   ]
  },
  {
   "cell_type": "code",
   "execution_count": 7,
   "metadata": {},
   "outputs": [
    {
     "name": "stdout",
     "output_type": "stream",
     "text": [
      "\n",
      " Confusion Matrix:\n",
      " [[ 99   7  72   2]\n",
      " [  6 133  14  20]\n",
      " [ 53   7 122   0]\n",
      " [  5  10   5 155]]\n",
      "\n",
      " Classification Report: \n",
      "               precision    recall  f1-score   support\n",
      "\n",
      "           0       0.61      0.55      0.58       180\n",
      "           1       0.85      0.77      0.81       173\n",
      "           2       0.57      0.67      0.62       182\n",
      "           3       0.88      0.89      0.88       175\n",
      "\n",
      "   micro avg       0.72      0.72      0.72       710\n",
      "   macro avg       0.73      0.72      0.72       710\n",
      "weighted avg       0.72      0.72      0.72       710\n",
      "\n",
      "Accuracy: 0.7169014084507043\n"
     ]
    },
    {
     "name": "stderr",
     "output_type": "stream",
     "text": [
      "c:\\users\\amand\\appdata\\local\\programs\\python\\python37\\lib\\site-packages\\sklearn\\preprocessing\\data.py:645: DataConversionWarning: Data with input dtype int64, float64 were all converted to float64 by StandardScaler.\n",
      "  return self.partial_fit(X, y)\n",
      "c:\\users\\amand\\appdata\\local\\programs\\python\\python37\\lib\\site-packages\\sklearn\\base.py:464: DataConversionWarning: Data with input dtype int64, float64 were all converted to float64 by StandardScaler.\n",
      "  return self.fit(X, **fit_params).transform(X)\n",
      "c:\\users\\amand\\appdata\\local\\programs\\python\\python37\\lib\\site-packages\\ipykernel_launcher.py:7: DataConversionWarning: Data with input dtype int64, float64 were all converted to float64 by StandardScaler.\n",
      "  import sys\n"
     ]
    }
   ],
   "source": [
    "from sklearn.svm import SVC\n",
    "# scale data before \n",
    "# scale data for svm \n",
    "from sklearn.preprocessing import StandardScaler\n",
    "scaler = StandardScaler()\n",
    "X_train_scaled = scaler.fit_transform(X_train)\n",
    "X_test_scaled = scaler.transform(X_test)\n",
    "\n",
    "svmclf = SVC()\n",
    "svmclf = svmclf.fit(X_train_scaled, y_train)\n",
    "svm_pred = svmclf.predict(X_test_scaled)\n",
    "  \n",
    "\n",
    "print('\\n Confusion Matrix:\\n',confusion_matrix(y_test,svm_pred))\n",
    "print(\"\\n Classification Report: \\n\", classification_report(y_test, svm_pred))\n",
    "print(\"Accuracy:\", (accuracy_score(y_test,svm_pred)))"
   ]
  },
  {
   "cell_type": "markdown",
   "metadata": {},
   "source": [
    "### Naive Bayes"
   ]
  },
  {
   "cell_type": "code",
   "execution_count": 8,
   "metadata": {},
   "outputs": [
    {
     "name": "stdout",
     "output_type": "stream",
     "text": [
      "\n",
      " Confusion Matrix:\n",
      " [[ 90   5  81   4]\n",
      " [  8 129  22  14]\n",
      " [ 42  11 128   1]\n",
      " [ 17  25   3 130]]\n",
      "\n",
      " Classification Report: \n",
      "               precision    recall  f1-score   support\n",
      "\n",
      "           0       0.57      0.50      0.53       180\n",
      "           1       0.76      0.75      0.75       173\n",
      "           2       0.55      0.70      0.62       182\n",
      "           3       0.87      0.74      0.80       175\n",
      "\n",
      "   micro avg       0.67      0.67      0.67       710\n",
      "   macro avg       0.69      0.67      0.68       710\n",
      "weighted avg       0.69      0.67      0.67       710\n",
      "\n",
      "Accuracy: 0.671830985915493\n"
     ]
    }
   ],
   "source": [
    "# naive bayes\n",
    "\n",
    "from sklearn.naive_bayes import GaussianNB \n",
    "gnb = GaussianNB().fit(X_train_scaled, y_train) \n",
    "gnb_predictions = gnb.predict(X_test_scaled) \n",
    "  \n",
    "\n",
    "print('\\n Confusion Matrix:\\n',confusion_matrix(y_test,gnb_predictions))\n",
    "print(\"\\n Classification Report: \\n\", classification_report(y_test, gnb_predictions))\n",
    "print(\"Accuracy:\", (accuracy_score(y_test, gnb_predictions)))"
   ]
  },
  {
   "cell_type": "markdown",
   "metadata": {},
   "source": [
    "### KNN"
   ]
  },
  {
   "cell_type": "code",
   "execution_count": 9,
   "metadata": {},
   "outputs": [
    {
     "name": "stdout",
     "output_type": "stream",
     "text": [
      "\n",
      " Confusion Matrix:\n",
      " [[107   7  66   0]\n",
      " [ 22 125  11  15]\n",
      " [ 73   7 101   1]\n",
      " [  9  17   4 145]]\n",
      "\n",
      " Classification Report: \n",
      "               precision    recall  f1-score   support\n",
      "\n",
      "           0       0.51      0.59      0.55       180\n",
      "           1       0.80      0.72      0.76       173\n",
      "           2       0.55      0.55      0.55       182\n",
      "           3       0.90      0.83      0.86       175\n",
      "\n",
      "   micro avg       0.67      0.67      0.67       710\n",
      "   macro avg       0.69      0.68      0.68       710\n",
      "weighted avg       0.69      0.67      0.68       710\n",
      "\n",
      "Accuracy: 0.6732394366197183\n"
     ]
    }
   ],
   "source": [
    "from sklearn.neighbors import KNeighborsClassifier\n",
    "\n",
    "Knnclf = KNeighborsClassifier(n_neighbors=3)\n",
    "Knnclf.fit(X_train_scaled, y_train)\n",
    "\n",
    "knn_predictions = Knnclf.predict(X_test_scaled)\n",
    "\n",
    "print('\\n Confusion Matrix:\\n',confusion_matrix(y_test,knn_predictions))\n",
    "print(\"\\n Classification Report: \\n\", classification_report(y_test, knn_predictions))\n",
    "print(\"Accuracy:\", (accuracy_score(y_test, knn_predictions)))"
   ]
  },
  {
   "cell_type": "markdown",
   "metadata": {},
   "source": [
    "### XGBOOST"
   ]
  },
  {
   "cell_type": "code",
   "execution_count": 10,
   "metadata": {},
   "outputs": [
    {
     "name": "stdout",
     "output_type": "stream",
     "text": [
      "\n",
      " Confusion Matrix:\n",
      " [[102   9  68   1]\n",
      " [ 10 138  11  14]\n",
      " [ 42   5 134   1]\n",
      " [  3   8   3 161]]\n",
      "\n",
      " Classification Report: \n",
      "               precision    recall  f1-score   support\n",
      "\n",
      "           0       0.65      0.57      0.61       180\n",
      "           1       0.86      0.80      0.83       173\n",
      "           2       0.62      0.74      0.67       182\n",
      "           3       0.91      0.92      0.91       175\n",
      "\n",
      "   micro avg       0.75      0.75      0.75       710\n",
      "   macro avg       0.76      0.76      0.76       710\n",
      "weighted avg       0.76      0.75      0.75       710\n",
      "\n",
      "Accuracy: 0.7535211267605634\n",
      "<bound method XGBModel.get_params of XGBClassifier(base_score=0.5, booster='gbtree', colsample_bylevel=1,\n",
      "       colsample_bytree=1, gamma=0, learning_rate=0.1, max_delta_step=0,\n",
      "       max_depth=3, min_child_weight=1, missing=None, n_estimators=100,\n",
      "       n_jobs=1, nthread=None, objective='multi:softprob', random_state=0,\n",
      "       reg_alpha=0, reg_lambda=1, scale_pos_weight=1, seed=None,\n",
      "       silent=True, subsample=1)>\n"
     ]
    }
   ],
   "source": [
    "#XGBOOST\n",
    "from xgboost import XGBClassifier\n",
    "\n",
    "xgb = XGBClassifier()\n",
    "xgb.fit(X_train_scaled, y_train)\n",
    "xgb_pred = xgb.predict(X_test_scaled)\n",
    "\n",
    "print('\\n Confusion Matrix:\\n',confusion_matrix(y_test,xgb_pred))\n",
    "print(\"\\n Classification Report: \\n\", classification_report(y_test, xgb_pred))\n",
    "print(\"Accuracy:\", (accuracy_score(y_test,xgb_pred)))\n",
    "print(xgb.get_params)"
   ]
  },
  {
   "cell_type": "markdown",
   "metadata": {},
   "source": [
    "### Default Estimators Accuracy Scores"
   ]
  },
  {
   "cell_type": "code",
   "execution_count": 11,
   "metadata": {},
   "outputs": [
    {
     "name": "stdout",
     "output_type": "stream",
     "text": [
      "Random Forest: 70.42%\n",
      "SVM: 71.69%\n",
      "Naive Bayes: 67.18%\n",
      "KNN: 67.32%\n",
      "XGBoost: 75.35%\n"
     ]
    }
   ],
   "source": [
    "print(\"Random Forest:\", \"%.2f%%\" %(accuracy_score(y_test,y_pred)*100))\n",
    "print(\"SVM:\", \"%.2f%%\" %(accuracy_score(y_test,svm_pred)*100))\n",
    "print(\"Naive Bayes:\", \"%.2f%%\" %(accuracy_score(y_test,gnb_predictions)*100))\n",
    "print(\"KNN:\", \"%.2f%%\" %(accuracy_score(y_test,knn_predictions)*100))\n",
    "print(\"XGBoost:\", \"%.2f%%\" %(accuracy_score(y_test,xgb_pred)*100))"
   ]
  },
  {
   "cell_type": "markdown",
   "metadata": {},
   "source": [
    "Random Forest, SVM and XGBoost models had the best performance with their default hyperparameters. Now let's tune these models.\n",
    "\n",
    "## Hyperparameter Tuning\n",
    "\n",
    "Now we will find optimal hyperparameters by using a grid search method. This method searches through a grid of parameters for each model, returning the parameters that give the highest k-fold cross validation score.\n",
    "\n",
    "### Tuned Random Forest"
   ]
  },
  {
   "cell_type": "code",
   "execution_count": 12,
   "metadata": {},
   "outputs": [
    {
     "name": "stdout",
     "output_type": "stream",
     "text": [
      "{'max_features': 'sqrt', 'min_samples_split': 2, 'n_estimators': 170}\n"
     ]
    }
   ],
   "source": [
    "from sklearn.model_selection import GridSearchCV\n",
    "\n",
    "param_grid = {'n_estimators': np.arange(20,200,10), # Number of trees in random forest\n",
    "              'min_samples_split': [2,100,1000],\n",
    "              'max_features': ['auto', 'sqrt']} # Method of selecting samples for training each tree\n",
    "\n",
    "\n",
    "\n",
    "cv = GridSearchCV(rfclf, param_grid, cv=5)\n",
    "cv.fit(X_train, y_train)\n",
    "print(cv.best_params_)"
   ]
  },
  {
   "cell_type": "code",
   "execution_count": 13,
   "metadata": {},
   "outputs": [
    {
     "name": "stdout",
     "output_type": "stream",
     "text": [
      "\n",
      " Confusion Matrix:\n",
      " [[101   9  70   0]\n",
      " [ 12 137   8  16]\n",
      " [ 50   6 126   0]\n",
      " [  5   7   6 157]]\n",
      "\n",
      " Classification Report: \n",
      "               precision    recall  f1-score   support\n",
      "\n",
      "           0       0.60      0.56      0.58       180\n",
      "           1       0.86      0.79      0.83       173\n",
      "           2       0.60      0.69      0.64       182\n",
      "           3       0.91      0.90      0.90       175\n",
      "\n",
      "   micro avg       0.73      0.73      0.73       710\n",
      "   macro avg       0.74      0.74      0.74       710\n",
      "weighted avg       0.74      0.73      0.74       710\n",
      "\n",
      "Accuracy: 0.7338028169014085\n"
     ]
    }
   ],
   "source": [
    "ne = cv.best_params_['n_estimators']\n",
    "mf = cv.best_params_['max_features']\n",
    "ms = cv.best_params_['min_samples_split']\n",
    "\n",
    "rfclf_tuned = RandomForestClassifier(n_estimators=ne, max_features=mf, min_samples_split=ms)\n",
    "\n",
    "rfclf_tuned.fit(X_train, y_train)\n",
    "\n",
    "rfclf_pred = rfclf_tuned.predict(X_test)\n",
    "\n",
    "print('\\n Confusion Matrix:\\n',confusion_matrix(y_test,rfclf_pred))\n",
    "print(\"\\n Classification Report: \\n\", classification_report(y_test, rfclf_pred))                                                \n",
    "print(\"Accuracy:\", (accuracy_score(y_test,rfclf_pred)))"
   ]
  },
  {
   "cell_type": "code",
   "execution_count": 14,
   "metadata": {},
   "outputs": [
    {
     "data": {
      "text/plain": [
       "[Text(0, 0.5, 'workout'),\n",
       " Text(0, 1.5, 'chill'),\n",
       " Text(0, 2.5, 'party'),\n",
       " Text(0, 3.5, 'focus')]"
      ]
     },
     "execution_count": 14,
     "metadata": {},
     "output_type": "execute_result"
    },
    {
     "data": {
      "image/png": "[encoded data removed]",
      "text/plain": [
       "<Figure size 1440x576 with 4 Axes>"
      ]
     },
     "metadata": {
      "needs_background": "light"
     },
     "output_type": "display_data"
    }
   ],
   "source": [
    "import seaborn as sns\n",
    "import matplotlib.pyplot as plt     \n",
    "\n",
    "fig = plt.figure(figsize = (20,8))\n",
    "\n",
    "ax= fig.add_subplot(1,2,1)\n",
    "sns.heatmap(confusion_matrix(y_test, rfclf.predict(X_test)), annot=True, ax = ax); \n",
    "\n",
    "# labels, title and ticks\n",
    "ax.set_xlabel('Predicted labels');ax.set_ylabel('True labels'); \n",
    "ax.set_title('Default Random Forest Confusion Matrix'); \n",
    "ax.xaxis.set_ticklabels(['workout', 'chill', 'party', 'focus']); ax.yaxis.set_ticklabels(['workout', 'chill', 'party', 'focus'])\n",
    "\n",
    "ax2= fig.add_subplot(1,2,2)\n",
    "sns.heatmap(confusion_matrix(y_test, rfclf_pred), annot=True, ax = ax2); \n",
    "\n",
    "# labels, title and ticks\n",
    "ax2.set_xlabel('Predicted labels');ax.set_ylabel('True labels'); \n",
    "ax2.set_title('Tuned Random Forest Confusion Matrix'); \n",
    "ax2.xaxis.set_ticklabels(['workout', 'chill', 'party', 'focus']); ax2.yaxis.set_ticklabels(['workout', 'chill', 'party', 'focus'])"
   ]
  },
  {
   "cell_type": "markdown",
   "metadata": {},
   "source": [
    "Our accuracy score for Random Forest increased by 4.08%\n",
    "\n",
    "### Tuned SVM"
   ]
  },
  {
   "cell_type": "code",
   "execution_count": 15,
   "metadata": {},
   "outputs": [
    {
     "name": "stdout",
     "output_type": "stream",
     "text": [
      "{'C': 1.3700000000000003}\n"
     ]
    }
   ],
   "source": [
    "param_grid_svm = {'C': np.arange(1,2,.01)}\n",
    "\n",
    "\n",
    "grid_search = GridSearchCV(SVC(gamma='auto'), param_grid_svm, cv=5)\n",
    "\n",
    "grid_search.fit(X_train_scaled, y_train)\n",
    "print(grid_search.best_params_)\n"
   ]
  },
  {
   "cell_type": "code",
   "execution_count": 16,
   "metadata": {},
   "outputs": [
    {
     "name": "stdout",
     "output_type": "stream",
     "text": [
      "\n",
      " Confusion Matrix:\n",
      " [[102   7  69   2]\n",
      " [  7 134  14  18]\n",
      " [ 51   8 123   0]\n",
      " [  6   9   4 156]]\n",
      "\n",
      " Classification Report: \n",
      "               precision    recall  f1-score   support\n",
      "\n",
      "           0       0.61      0.57      0.59       180\n",
      "           1       0.85      0.77      0.81       173\n",
      "           2       0.59      0.68      0.63       182\n",
      "           3       0.89      0.89      0.89       175\n",
      "\n",
      "   micro avg       0.73      0.73      0.73       710\n",
      "   macro avg       0.73      0.73      0.73       710\n",
      "weighted avg       0.73      0.73      0.73       710\n",
      "\n",
      "Accuracy: 0.7253521126760564\n"
     ]
    }
   ],
   "source": [
    "svmclf_tuned = SVC(C=1.3700000000000003, gamma='auto')\n",
    "\n",
    "svmclf_tuned.fit(X_train_scaled, y_train)\n",
    "\n",
    "svm_tuned_pred = svmclf_tuned.predict(X_test_scaled)\n",
    "\n",
    "print('\\n Confusion Matrix:\\n',confusion_matrix(y_test,svm_tuned_pred))\n",
    "print(\"\\n Classification Report: \\n\", classification_report(y_test, svm_tuned_pred)) \n",
    "print(\"Accuracy:\", (accuracy_score(y_test,svm_tuned_pred)))"
   ]
  },
  {
   "cell_type": "code",
   "execution_count": 17,
   "metadata": {},
   "outputs": [
    {
     "data": {
      "text/plain": [
       "[Text(0, 0.5, 'workout'),\n",
       " Text(0, 1.5, 'chill'),\n",
       " Text(0, 2.5, 'party'),\n",
       " Text(0, 3.5, 'focus')]"
      ]
     },
     "execution_count": 17,
     "metadata": {},
     "output_type": "execute_result"
    },
    {
     "data": {
      "image/png": "[encoded data removed]",
      "text/plain": [
       "<Figure size 1440x576 with 4 Axes>"
      ]
     },
     "metadata": {
      "needs_background": "light"
     },
     "output_type": "display_data"
    }
   ],
   "source": [
    "fig = plt.figure(figsize = (20,8))\n",
    "\n",
    "ax= fig.add_subplot(1,2,1)\n",
    "sns.heatmap(confusion_matrix(y_test, svm_pred), annot=True, ax = ax); \n",
    "\n",
    "# labels, title and ticks\n",
    "ax.set_xlabel('Predicted labels');ax.set_ylabel('True labels'); \n",
    "ax.set_title('Default SVM Confusion Matrix'); \n",
    "ax.xaxis.set_ticklabels(['workout', 'chill', 'party', 'focus']); ax.yaxis.set_ticklabels(['workout', 'chill', 'party', 'focus'])\n",
    "\n",
    "ax2= fig.add_subplot(1,2,2)\n",
    "sns.heatmap(confusion_matrix(y_test, svm_tuned_pred), annot=True, ax = ax2); \n",
    "\n",
    "# labels, title and ticks\n",
    "ax2.set_xlabel('Predicted labels');ax2.set_ylabel('True labels'); \n",
    "ax2.set_title('Tuned SVM Confusion Matrix'); \n",
    "ax2.xaxis.set_ticklabels(['workout', 'chill', 'party', 'focus']); ax2.yaxis.set_ticklabels(['workout', 'chill', 'party', 'focus'])"
   ]
  },
  {
   "cell_type": "markdown",
   "metadata": {},
   "source": [
    "Our accuracy score increased by 0.85% by tuning 'C'.\n",
    "\n",
    "\n",
    "### Tuned XGBoost\n",
    "\n",
    "We tune max_depth and min_child_weight first, as they will have the highest impact on model outcome. These parameters can be used to control the complexity of the trees. \n",
    "\n",
    "Use random search instead of grid search. Grid search has proven to be too exhaustive for extensive parameter grids. Random Search is more efficient in this case. "
   ]
  },
  {
   "cell_type": "code",
   "execution_count": 18,
   "metadata": {},
   "outputs": [],
   "source": [
    "param_grid1 = {\"max_depth\"        : [ 2, 3, 4, 5, 6, 8, 10, 12, 15],\n",
    "               \"min_child_weight\" : [ 1, 2, 3, 4, 5, 6] }\n"
   ]
  },
  {
   "cell_type": "code",
   "execution_count": 19,
   "metadata": {},
   "outputs": [
    {
     "name": "stderr",
     "output_type": "stream",
     "text": [
      "c:\\users\\amand\\appdata\\local\\programs\\python\\python37\\lib\\site-packages\\sklearn\\model_selection\\_search.py:271: UserWarning: The total space of parameters 54 is smaller than n_iter=100. Running 54 iterations. For exhaustive searches, use GridSearchCV.\n",
      "  % (grid_size, self.n_iter, grid_size), UserWarning)\n"
     ]
    },
    {
     "name": "stdout",
     "output_type": "stream",
     "text": [
      "{'min_child_weight': 2, 'max_depth': 2} 0.7255038220986796\n"
     ]
    }
   ],
   "source": [
    "# tune XGBoost\n",
    "\n",
    "from sklearn.model_selection import RandomizedSearchCV\n",
    "\n",
    "gs_random = RandomizedSearchCV(XGBClassifier(), param_grid1, cv= 5,n_iter=100)\n",
    "\n",
    "gs_random.fit(X_train_scaled, y_train)\n",
    "print(gs_random.best_params_, gs_random.best_score_)\n"
   ]
  },
  {
   "cell_type": "code",
   "execution_count": 20,
   "metadata": {},
   "outputs": [],
   "source": [
    "param_grid1b = {\"max_depth\": [1, 2]}"
   ]
  },
  {
   "cell_type": "code",
   "execution_count": 21,
   "metadata": {},
   "outputs": [
    {
     "name": "stderr",
     "output_type": "stream",
     "text": [
      "c:\\users\\amand\\appdata\\local\\programs\\python\\python37\\lib\\site-packages\\sklearn\\model_selection\\_search.py:271: UserWarning: The total space of parameters 2 is smaller than n_iter=100. Running 2 iterations. For exhaustive searches, use GridSearchCV.\n",
      "  % (grid_size, self.n_iter, grid_size), UserWarning)\n"
     ]
    },
    {
     "name": "stdout",
     "output_type": "stream",
     "text": [
      "{'max_depth': 2} 0.7255038220986796\n"
     ]
    }
   ],
   "source": [
    "gs_random1b = RandomizedSearchCV(XGBClassifier(min_child_weight= 2, max_depth= 2), param_grid1b, cv= 5,n_iter=100)\n",
    "\n",
    "gs_random1b.fit(X_train_scaled, y_train)\n",
    "print(gs_random1b.best_params_, gs_random1b.best_score_)"
   ]
  },
  {
   "cell_type": "code",
   "execution_count": 22,
   "metadata": {},
   "outputs": [
    {
     "name": "stderr",
     "output_type": "stream",
     "text": [
      "c:\\users\\amand\\appdata\\local\\programs\\python\\python37\\lib\\site-packages\\sklearn\\model_selection\\_search.py:271: UserWarning: The total space of parameters 5 is smaller than n_iter=100. Running 5 iterations. For exhaustive searches, use GridSearchCV.\n",
      "  % (grid_size, self.n_iter, grid_size), UserWarning)\n"
     ]
    },
    {
     "name": "stdout",
     "output_type": "stream",
     "text": [
      "{'gamma': 0.3} 0.7275886031966643\n"
     ]
    }
   ],
   "source": [
    "param_grid2 = {\"gamma\": [0.2, 0.3, 0.4, 0.5, 0.6]}\n",
    "\n",
    "gs_random2 = RandomizedSearchCV(XGBClassifier(min_child_weight= 2, max_depth= 2), param_grid2, cv= 5,n_iter=100)\n",
    "\n",
    "gs_random2.fit(X_train_scaled, y_train)\n",
    "print(gs_random2.best_params_, gs_random2.best_score_)"
   ]
  },
  {
   "cell_type": "code",
   "execution_count": 23,
   "metadata": {},
   "outputs": [],
   "source": [
    "param_grid3 = {\"colsample_bytree\" : [ 0.6 , 0.7, 0.8, 1.0],\n",
    "               \"subsample\" : [ 0.6 , 0.7, 0.8, 1.0]}"
   ]
  },
  {
   "cell_type": "code",
   "execution_count": 24,
   "metadata": {},
   "outputs": [
    {
     "name": "stderr",
     "output_type": "stream",
     "text": [
      "c:\\users\\amand\\appdata\\local\\programs\\python\\python37\\lib\\site-packages\\sklearn\\model_selection\\_search.py:271: UserWarning: The total space of parameters 16 is smaller than n_iter=100. Running 16 iterations. For exhaustive searches, use GridSearchCV.\n",
      "  % (grid_size, self.n_iter, grid_size), UserWarning)\n"
     ]
    },
    {
     "name": "stdout",
     "output_type": "stream",
     "text": [
      "{'subsample': 0.7, 'colsample_bytree': 1.0} 0.7275886031966643\n"
     ]
    }
   ],
   "source": [
    "gs_random3 = RandomizedSearchCV(XGBClassifier(min_child_weight= 2, max_depth= 2, gamma=0.3), param_grid3, cv= 5,n_iter=100)\n",
    "\n",
    "gs_random3.fit(X_train_scaled, y_train)\n",
    "print(gs_random3.best_params_, gs_random3.best_score_)"
   ]
  },
  {
   "cell_type": "code",
   "execution_count": 25,
   "metadata": {},
   "outputs": [],
   "source": [
    "param_grid4 = {\"subsample\" : [ 0.65 , 0.7, 0.75],\n",
    "               \"colsample_bytree\" : [ 0.95, 1.0]}"
   ]
  },
  {
   "cell_type": "code",
   "execution_count": 26,
   "metadata": {},
   "outputs": [
    {
     "name": "stderr",
     "output_type": "stream",
     "text": [
      "c:\\users\\amand\\appdata\\local\\programs\\python\\python37\\lib\\site-packages\\sklearn\\model_selection\\_search.py:271: UserWarning: The total space of parameters 6 is smaller than n_iter=100. Running 6 iterations. For exhaustive searches, use GridSearchCV.\n",
      "  % (grid_size, self.n_iter, grid_size), UserWarning)\n"
     ]
    },
    {
     "name": "stdout",
     "output_type": "stream",
     "text": [
      "{'subsample': 0.75, 'colsample_bytree': 0.95} 0.7282835302293259\n"
     ]
    }
   ],
   "source": [
    "gs_random4 = RandomizedSearchCV(XGBClassifier(min_child_weight= 2, max_depth= 2, gamma=0.3, subsample=0.7, colsample_bytree=1.0), param_grid4, cv= 5,n_iter=100)\n",
    "\n",
    "gs_random4.fit(X_train_scaled, y_train)\n",
    "print(gs_random4.best_params_, gs_random4.best_score_)"
   ]
  },
  {
   "cell_type": "markdown",
   "metadata": {},
   "source": [
    "I manually tuned the learning rate and number of trees. I gradually decreased learning rate while increasing the number of trees until I got an optimal model. "
   ]
  },
  {
   "cell_type": "code",
   "execution_count": 27,
   "metadata": {},
   "outputs": [
    {
     "name": "stdout",
     "output_type": "stream",
     "text": [
      "\n",
      " Confusion Matrix:\n",
      " [[108   7  64   1]\n",
      " [ 12 138   8  15]\n",
      " [ 45   6 130   1]\n",
      " [  5  10   2 158]]\n",
      "\n",
      " Classification Report: \n",
      "               precision    recall  f1-score   support\n",
      "\n",
      "           0       0.64      0.60      0.62       180\n",
      "           1       0.86      0.80      0.83       173\n",
      "           2       0.64      0.71      0.67       182\n",
      "           3       0.90      0.90      0.90       175\n",
      "\n",
      "   micro avg       0.75      0.75      0.75       710\n",
      "   macro avg       0.76      0.75      0.75       710\n",
      "weighted avg       0.76      0.75      0.75       710\n",
      "\n",
      "Accuracy: 0.752112676056338\n",
      "<bound method XGBModel.get_params of XGBClassifier(base_score=0.5, booster='gbtree', colsample_bylevel=1,\n",
      "       colsample_bytree=0.95, gamma=0.3, learning_rate=0.01,\n",
      "       max_delta_step=0, max_depth=2, min_child_weight=2, missing=None,\n",
      "       n_estimators=1000, n_jobs=1, nthread=None,\n",
      "       objective='multi:softprob', random_state=0, reg_alpha=0,\n",
      "       reg_lambda=1, scale_pos_weight=1, seed=None, silent=True,\n",
      "       subsample=0.75)>\n"
     ]
    }
   ],
   "source": [
    "xgb_tuned = XGBClassifier(\n",
    " max_depth=2,\n",
    " min_child_weight=2,\n",
    " gamma=0.3,\n",
    " subsample=0.75,\n",
    " colsample_bytree=.95,\n",
    " learning_rate=0.01,\n",
    "n_estimators=1000)\n",
    "\n",
    "xgb_tuned.fit(X_train_scaled, y_train)\n",
    "\n",
    "xgb_pred2 = xgb_tuned.predict(X_test_scaled)\n",
    "\n",
    "print('\\n Confusion Matrix:\\n',confusion_matrix(y_test,xgb_pred2))\n",
    "print(\"\\n Classification Report: \\n\", classification_report(y_test, xgb_pred2))\n",
    "print(\"Accuracy:\", (accuracy_score(y_test,xgb_pred2)))\n",
    "print(xgb_tuned.get_params)"
   ]
  },
  {
   "cell_type": "markdown",
   "metadata": {},
   "source": [
    "Our accuracy score is lower than our inital model but this may be due to imbalanced classes. The weighted F-score is the same as our inital model. If you look at the F-scores for each class and the confusion matrices, you can see that this model is more accurate in predicting class '0' (workout). Our inital model is more accurate in predicting class '3' (focus). Since predicting one class more accurately than another in this case is not relevant, we choose the model with the best performance time-wise."
   ]
  },
  {
   "cell_type": "markdown",
   "metadata": {},
   "source": [
    "Since tuning the hyperparameters for XGBoost is not improving our scores. However, since it is still our highest score, I will see if I have improve the model by implementing feature selection. \n",
    "\n",
    "#### Feature Importance and Selection\n",
    "\n",
    "We will use Feature importance scores for feature selection."
   ]
  },
  {
   "cell_type": "code",
   "execution_count": 36,
   "metadata": {},
   "outputs": [
    {
     "name": "stdout",
     "output_type": "stream",
     "text": [
      "Index(['acousticness', 'danceability', 'duration_ms', 'energy',\n",
      "       'instrumentalness', 'key', 'liveness', 'loudness', 'mode',\n",
      "       'speechiness', 'tempo', 'time_signature', 'valence'],\n",
      "      dtype='object')\n"
     ]
    }
   ],
   "source": [
    "print(X.columns)"
   ]
  },
  {
   "cell_type": "code",
   "execution_count": 28,
   "metadata": {},
   "outputs": [
    {
     "data": {
      "image/png": "[encoded data removed]",
      "text/plain": [
       "<Figure size 432x288 with 1 Axes>"
      ]
     },
     "metadata": {
      "needs_background": "light"
     },
     "output_type": "display_data"
    }
   ],
   "source": [
    "from xgboost import plot_importance\n",
    "import matplotlib.pyplot as plt\n",
    "\n",
    "# plot feature importance\n",
    "plot_importance(xgb_tuned)\n",
    "plt.show()"
   ]
  },
  {
   "cell_type": "markdown",
   "metadata": {},
   "source": [
    "From an article, I found a code that uses the SelectFromModel class to test multiple thresholds for selecting features by feature importance. It allows us to test each subset of features by importance, starting with all features and ending with a subset with the most important feature."
   ]
  },
  {
   "cell_type": "code",
   "execution_count": 29,
   "metadata": {},
   "outputs": [
    {
     "name": "stdout",
     "output_type": "stream",
     "text": [
      "Thresh=0.025, n=13, Accuracy: 75.35%\n",
      "Thresh=0.026, n=12, Accuracy: 75.49%\n",
      "Thresh=0.031, n=11, Accuracy: 75.21%\n",
      "Thresh=0.032, n=10, Accuracy: 73.80%\n",
      "Thresh=0.036, n=9, Accuracy: 73.66%\n",
      "Thresh=0.061, n=8, Accuracy: 73.38%\n",
      "Thresh=0.072, n=7, Accuracy: 73.80%\n",
      "Thresh=0.072, n=6, Accuracy: 71.97%\n",
      "Thresh=0.094, n=5, Accuracy: 70.70%\n",
      "Thresh=0.102, n=4, Accuracy: 68.03%\n",
      "Thresh=0.104, n=3, Accuracy: 68.87%\n",
      "Thresh=0.151, n=2, Accuracy: 63.80%\n",
      "Thresh=0.195, n=1, Accuracy: 51.27%\n"
     ]
    }
   ],
   "source": [
    "#adapted from https://machinelearningmastery.com/feature-importance-and-feature-selection-with-xgboost-in-python/\n",
    "from numpy import sort\n",
    "from sklearn.feature_selection import SelectFromModel\n",
    "\n",
    "thresholds = sort(xgb_tuned.feature_importances_)\n",
    "for thresh in thresholds:\n",
    "    # select features using threshold\n",
    "    selection = SelectFromModel(xgb_tuned, threshold=thresh, prefit=True)\n",
    "    select_X_train = selection.transform(X_train_scaled)\n",
    "    # train model\n",
    "    selection_model = XGBClassifier()\n",
    "    selection_model.fit(select_X_train, y_train)\n",
    "    # eval model\n",
    "    select_X_test = selection.transform(X_test_scaled)\n",
    "    y_pred = selection_model.predict(select_X_test)\n",
    "    predictions = [round(value) for value in y_pred]\n",
    "    accuracy = accuracy_score(y_test, predictions)\n",
    "    print(\"Thresh=%.3f, n=%d, Accuracy: %.2f%%\" % (thresh, select_X_train.shape[1], accuracy*100.0))"
   ]
  },
  {
   "cell_type": "markdown",
   "metadata": {},
   "source": [
    "Optimal threshold is using 12 features. I will revalute the model with this threshold."
   ]
  },
  {
   "cell_type": "code",
   "execution_count": 30,
   "metadata": {},
   "outputs": [
    {
     "name": "stdout",
     "output_type": "stream",
     "text": [
      "\n",
      " Confusion Matrix:\n",
      " [[103   9  67   1]\n",
      " [ 10 138  11  14]\n",
      " [ 42   5 134   1]\n",
      " [  3   8   3 161]]\n",
      "\n",
      " Classification Report: \n",
      "               precision    recall  f1-score   support\n",
      "\n",
      "           0       0.65      0.57      0.61       180\n",
      "           1       0.86      0.80      0.83       173\n",
      "           2       0.62      0.74      0.68       182\n",
      "           3       0.91      0.92      0.91       175\n",
      "\n",
      "   micro avg       0.75      0.75      0.75       710\n",
      "   macro avg       0.76      0.76      0.76       710\n",
      "weighted avg       0.76      0.75      0.75       710\n",
      "\n",
      "Accuracy: 0.7549295774647887\n"
     ]
    }
   ],
   "source": [
    "xgb_features = SelectFromModel(xgb_tuned, threshold=0.025, prefit=True)\n",
    "select_X_train = xgb_features.transform(X_train_scaled)\n",
    "# train model\n",
    "selection_model = XGBClassifier().fit(select_X_train, y_train)\n",
    "# eval model\n",
    "select_X_test = xgb_features.transform(X_test_scaled)\n",
    "y_pred = selection_model.predict(select_X_test)\n",
    "\n",
    "print('\\n Confusion Matrix:\\n',confusion_matrix(y_test,y_pred))\n",
    "print(\"\\n Classification Report: \\n\", classification_report(y_test, y_pred))\n",
    "print(\"Accuracy:\", (accuracy_score(y_test,y_pred)))"
   ]
  },
  {
   "cell_type": "code",
   "execution_count": 38,
   "metadata": {},
   "outputs": [
    {
     "data": {
      "text/plain": [
       "[Text(0, 0.5, 'workout'),\n",
       " Text(0, 1.5, 'chill'),\n",
       " Text(0, 2.5, 'party'),\n",
       " Text(0, 3.5, 'focus')]"
      ]
     },
     "execution_count": 38,
     "metadata": {},
     "output_type": "execute_result"
    },
    {
     "data": {
      "image/png": "[encoded data removed]",
      "text/plain": [
       "<Figure size 1440x576 with 4 Axes>"
      ]
     },
     "metadata": {
      "needs_background": "light"
     },
     "output_type": "display_data"
    }
   ],
   "source": [
    "fig = plt.figure(figsize = (20,8))\n",
    "\n",
    "ax= fig.add_subplot(1,2,1)\n",
    "sns.heatmap(confusion_matrix(y_test, xgb_pred), annot=True, ax = ax, fmt='g'); \n",
    "\n",
    "# labels, title and ticks\n",
    "ax.set_xlabel('Predicted labels');ax.set_ylabel('True labels'); \n",
    "ax.set_title('Default XGBoost Confusion Matrix (75.35% Accuracy)'); \n",
    "ax.xaxis.set_ticklabels(['workout', 'chill', 'party', 'focus']); ax.yaxis.set_ticklabels(['workout', 'chill', 'party', 'focus'])\n",
    "\n",
    "ax2= fig.add_subplot(1,2,2)\n",
    "sns.heatmap(confusion_matrix(y_test, y_pred), annot=True, ax = ax2, fmt='g'); \n",
    "\n",
    "# labels, title and ticks\n",
    "ax2.set_xlabel('Predicted labels');ax2.set_ylabel('True labels'); \n",
    "ax2.set_title('Tuned XGBoost Confusion Matrix (75.49% Accuracy)'); \n",
    "ax2.xaxis.set_ticklabels(['workout', 'chill', 'party', 'focus']); ax2.yaxis.set_ticklabels(['workout', 'chill', 'party', 'focus'])"
   ]
  },
  {
   "cell_type": "markdown",
   "metadata": {},
   "source": [
    "By using this feature threshold, the performance improved by 0.15%. XGBoost is our best performing model at 75.49% accuracy. \n",
    "\n",
    "Notice that the scores for class '0' (workout) and class '2' (party) are consistently lower than the other classes for all our models. From the confusion matrix, you can tell that the workout and party class scores are low because our estimators often 'confuse' the two. For true labels of party, the model predicted workout 67 times. For true labels of workout, our estimator predicted party 42 times. \n",
    "\n",
    "This is not a shock since during our EDA, we found that workout and party distributions were very similar. This can be improved by adding more features to our dataset. Future recommendations include adding metadata of the song artist or gathering other sound metrics. Librosa is a package that can extract high and low level audio features from a song. However, this would require you have to each song file in your library."
   ]
  }
 ],
 "metadata": {
  "kernelspec": {
   "display_name": "Python 3",
   "language": "python",
   "name": "python3"
  },
  "language_info": {
   "codemirror_mode": {
    "name": "ipython",
    "version": 3
   },
   "file_extension": ".py",
   "mimetype": "text/x-python",
   "name": "python",
   "nbconvert_exporter": "python",
   "pygments_lexer": "ipython3",
   "version": "3.7.1"
  }
 },
 "nbformat": 4,
 "nbformat_minor": 2
}
