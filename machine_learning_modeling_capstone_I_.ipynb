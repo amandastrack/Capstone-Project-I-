{
 "cells": [
  {
   "cell_type": "markdown",
   "metadata": {},
   "source": [
    "# In-Depth Analysis and Machine Learning\n",
    "\n",
    "First we will evaluate several supervised machine learning techniques with default hyperparameters. Then we will perform hyperparameter tuning on the best peforming default estimators.\n",
    "\n",
    "Classifiers: Random Forest, Support Vector Machines, Naive Bayes, K-Nearest Neighbor, XGBoost\n",
    "\n",
    "Model Evaluation Metrics: accuracy and f1-score\n"
   ]
  },
  {
   "cell_type": "code",
   "execution_count": 135,
   "metadata": {},
   "outputs": [],
   "source": [
    "import pandas as pd\n",
    "import numpy as np"
   ]
  },
  {
   "cell_type": "code",
   "execution_count": 136,
   "metadata": {},
   "outputs": [],
   "source": [
    "df = pd.read_csv('data/final_spotify_data.csv')"
   ]
  },
  {
   "cell_type": "code",
   "execution_count": 137,
   "metadata": {},
   "outputs": [],
   "source": [
    "df = df.drop_duplicates(subset='id', keep='first') # remove duplicate songs"
   ]
  },
  {
   "cell_type": "code",
   "execution_count": 138,
   "metadata": {},
   "outputs": [
    {
     "name": "stdout",
     "output_type": "stream",
     "text": [
      "<class 'pandas.core.frame.DataFrame'>\n",
      "Int64Index: 2117 entries, 0 to 2148\n",
      "Data columns (total 17 columns):\n",
      "id                  2117 non-null object\n",
      "name                2117 non-null object\n",
      "uri_x               2117 non-null object\n",
      "acousticness        2117 non-null float64\n",
      "danceability        2117 non-null float64\n",
      "duration_ms         2117 non-null int64\n",
      "energy              2117 non-null float64\n",
      "instrumentalness    2117 non-null float64\n",
      "key                 2117 non-null int64\n",
      "liveness            2117 non-null float64\n",
      "loudness            2117 non-null float64\n",
      "mode                2117 non-null int64\n",
      "speechiness         2117 non-null float64\n",
      "tempo               2117 non-null float64\n",
      "time_signature      2117 non-null int64\n",
      "valence             2117 non-null float64\n",
      "playlist            2117 non-null object\n",
      "dtypes: float64(9), int64(4), object(4)\n",
      "memory usage: 297.7+ KB\n",
      "None\n",
      "2117\n"
     ]
    }
   ],
   "source": [
    "print(df.info())\n",
    "print(len(df))"
   ]
  },
  {
   "cell_type": "code",
   "execution_count": 139,
   "metadata": {},
   "outputs": [
    {
     "data": {
      "text/html": [
       "<div>\n",
       "<style scoped>\n",
       "    .dataframe tbody tr th:only-of-type {\n",
       "        vertical-align: middle;\n",
       "    }\n",
       "\n",
       "    .dataframe tbody tr th {\n",
       "        vertical-align: top;\n",
       "    }\n",
       "\n",
       "    .dataframe thead th {\n",
       "        text-align: right;\n",
       "    }\n",
       "</style>\n",
       "<table border=\"1\" class=\"dataframe\">\n",
       "  <thead>\n",
       "    <tr style=\"text-align: right;\">\n",
       "      <th></th>\n",
       "      <th>id</th>\n",
       "      <th>name</th>\n",
       "      <th>uri_x</th>\n",
       "      <th>acousticness</th>\n",
       "      <th>danceability</th>\n",
       "      <th>duration_ms</th>\n",
       "      <th>energy</th>\n",
       "      <th>instrumentalness</th>\n",
       "      <th>key</th>\n",
       "      <th>liveness</th>\n",
       "      <th>loudness</th>\n",
       "      <th>mode</th>\n",
       "      <th>speechiness</th>\n",
       "      <th>tempo</th>\n",
       "      <th>time_signature</th>\n",
       "      <th>valence</th>\n",
       "      <th>playlist</th>\n",
       "    </tr>\n",
       "    <tr>\n",
       "      <th>playlist</th>\n",
       "      <th></th>\n",
       "      <th></th>\n",
       "      <th></th>\n",
       "      <th></th>\n",
       "      <th></th>\n",
       "      <th></th>\n",
       "      <th></th>\n",
       "      <th></th>\n",
       "      <th></th>\n",
       "      <th></th>\n",
       "      <th></th>\n",
       "      <th></th>\n",
       "      <th></th>\n",
       "      <th></th>\n",
       "      <th></th>\n",
       "      <th></th>\n",
       "      <th></th>\n",
       "    </tr>\n",
       "  </thead>\n",
       "  <tbody>\n",
       "    <tr>\n",
       "      <th>chill</th>\n",
       "      <td>536</td>\n",
       "      <td>524</td>\n",
       "      <td>536</td>\n",
       "      <td>426</td>\n",
       "      <td>352</td>\n",
       "      <td>528</td>\n",
       "      <td>374</td>\n",
       "      <td>451</td>\n",
       "      <td>12</td>\n",
       "      <td>259</td>\n",
       "      <td>518</td>\n",
       "      <td>2</td>\n",
       "      <td>294</td>\n",
       "      <td>527</td>\n",
       "      <td>4</td>\n",
       "      <td>395</td>\n",
       "      <td>1</td>\n",
       "    </tr>\n",
       "    <tr>\n",
       "      <th>focus</th>\n",
       "      <td>525</td>\n",
       "      <td>516</td>\n",
       "      <td>525</td>\n",
       "      <td>325</td>\n",
       "      <td>383</td>\n",
       "      <td>514</td>\n",
       "      <td>439</td>\n",
       "      <td>265</td>\n",
       "      <td>12</td>\n",
       "      <td>258</td>\n",
       "      <td>518</td>\n",
       "      <td>2</td>\n",
       "      <td>322</td>\n",
       "      <td>519</td>\n",
       "      <td>4</td>\n",
       "      <td>410</td>\n",
       "      <td>1</td>\n",
       "    </tr>\n",
       "    <tr>\n",
       "      <th>party</th>\n",
       "      <td>533</td>\n",
       "      <td>519</td>\n",
       "      <td>533</td>\n",
       "      <td>454</td>\n",
       "      <td>318</td>\n",
       "      <td>526</td>\n",
       "      <td>343</td>\n",
       "      <td>300</td>\n",
       "      <td>12</td>\n",
       "      <td>364</td>\n",
       "      <td>515</td>\n",
       "      <td>2</td>\n",
       "      <td>403</td>\n",
       "      <td>524</td>\n",
       "      <td>4</td>\n",
       "      <td>394</td>\n",
       "      <td>1</td>\n",
       "    </tr>\n",
       "    <tr>\n",
       "      <th>workout</th>\n",
       "      <td>523</td>\n",
       "      <td>516</td>\n",
       "      <td>523</td>\n",
       "      <td>476</td>\n",
       "      <td>342</td>\n",
       "      <td>518</td>\n",
       "      <td>325</td>\n",
       "      <td>366</td>\n",
       "      <td>12</td>\n",
       "      <td>345</td>\n",
       "      <td>501</td>\n",
       "      <td>2</td>\n",
       "      <td>392</td>\n",
       "      <td>514</td>\n",
       "      <td>4</td>\n",
       "      <td>390</td>\n",
       "      <td>1</td>\n",
       "    </tr>\n",
       "  </tbody>\n",
       "</table>\n",
       "</div>"
      ],
      "text/plain": [
       "           id  name  uri_x  acousticness  danceability  duration_ms  energy  \\\n",
       "playlist                                                                      \n",
       "chill     536   524    536           426           352          528     374   \n",
       "focus     525   516    525           325           383          514     439   \n",
       "party     533   519    533           454           318          526     343   \n",
       "workout   523   516    523           476           342          518     325   \n",
       "\n",
       "          instrumentalness  key  liveness  loudness  mode  speechiness  tempo  \\\n",
       "playlist                                                                        \n",
       "chill                  451   12       259       518     2          294    527   \n",
       "focus                  265   12       258       518     2          322    519   \n",
       "party                  300   12       364       515     2          403    524   \n",
       "workout                366   12       345       501     2          392    514   \n",
       "\n",
       "          time_signature  valence  playlist  \n",
       "playlist                                     \n",
       "chill                  4      395         1  \n",
       "focus                  4      410         1  \n",
       "party                  4      394         1  \n",
       "workout                4      390         1  "
      ]
     },
     "execution_count": 139,
     "metadata": {},
     "output_type": "execute_result"
    }
   ],
   "source": [
    "df.groupby('playlist').nunique()"
   ]
  },
  {
   "cell_type": "code",
   "execution_count": 140,
   "metadata": {},
   "outputs": [],
   "source": [
    "## FIRST NEED TO PUT GENRES INTO NUMERICAL CLASSES\n",
    "\n",
    "g = ['workout', 'chill', 'party', 'focus']\n",
    "\n",
    "df['labels'] = df['playlist']\n",
    "\n",
    "d = dict(zip(g, range(0,4)))\n",
    "\n",
    "df['labels'] = df['labels'].map(d, na_action='ignore')\n"
   ]
  },
  {
   "cell_type": "code",
   "execution_count": 141,
   "metadata": {},
   "outputs": [
    {
     "data": {
      "text/html": [
       "<div>\n",
       "<style scoped>\n",
       "    .dataframe tbody tr th:only-of-type {\n",
       "        vertical-align: middle;\n",
       "    }\n",
       "\n",
       "    .dataframe tbody tr th {\n",
       "        vertical-align: top;\n",
       "    }\n",
       "\n",
       "    .dataframe thead th {\n",
       "        text-align: right;\n",
       "    }\n",
       "</style>\n",
       "<table border=\"1\" class=\"dataframe\">\n",
       "  <thead>\n",
       "    <tr style=\"text-align: right;\">\n",
       "      <th></th>\n",
       "      <th>id</th>\n",
       "      <th>name</th>\n",
       "      <th>uri_x</th>\n",
       "      <th>acousticness</th>\n",
       "      <th>danceability</th>\n",
       "      <th>duration_ms</th>\n",
       "      <th>energy</th>\n",
       "      <th>instrumentalness</th>\n",
       "      <th>key</th>\n",
       "      <th>liveness</th>\n",
       "      <th>loudness</th>\n",
       "      <th>mode</th>\n",
       "      <th>speechiness</th>\n",
       "      <th>tempo</th>\n",
       "      <th>time_signature</th>\n",
       "      <th>valence</th>\n",
       "      <th>playlist</th>\n",
       "      <th>labels</th>\n",
       "    </tr>\n",
       "    <tr>\n",
       "      <th>labels</th>\n",
       "      <th></th>\n",
       "      <th></th>\n",
       "      <th></th>\n",
       "      <th></th>\n",
       "      <th></th>\n",
       "      <th></th>\n",
       "      <th></th>\n",
       "      <th></th>\n",
       "      <th></th>\n",
       "      <th></th>\n",
       "      <th></th>\n",
       "      <th></th>\n",
       "      <th></th>\n",
       "      <th></th>\n",
       "      <th></th>\n",
       "      <th></th>\n",
       "      <th></th>\n",
       "      <th></th>\n",
       "    </tr>\n",
       "  </thead>\n",
       "  <tbody>\n",
       "    <tr>\n",
       "      <th>0</th>\n",
       "      <td>523</td>\n",
       "      <td>516</td>\n",
       "      <td>523</td>\n",
       "      <td>476</td>\n",
       "      <td>342</td>\n",
       "      <td>518</td>\n",
       "      <td>325</td>\n",
       "      <td>366</td>\n",
       "      <td>12</td>\n",
       "      <td>345</td>\n",
       "      <td>501</td>\n",
       "      <td>2</td>\n",
       "      <td>392</td>\n",
       "      <td>514</td>\n",
       "      <td>4</td>\n",
       "      <td>390</td>\n",
       "      <td>1</td>\n",
       "      <td>1</td>\n",
       "    </tr>\n",
       "    <tr>\n",
       "      <th>1</th>\n",
       "      <td>536</td>\n",
       "      <td>524</td>\n",
       "      <td>536</td>\n",
       "      <td>426</td>\n",
       "      <td>352</td>\n",
       "      <td>528</td>\n",
       "      <td>374</td>\n",
       "      <td>451</td>\n",
       "      <td>12</td>\n",
       "      <td>259</td>\n",
       "      <td>518</td>\n",
       "      <td>2</td>\n",
       "      <td>294</td>\n",
       "      <td>527</td>\n",
       "      <td>4</td>\n",
       "      <td>395</td>\n",
       "      <td>1</td>\n",
       "      <td>1</td>\n",
       "    </tr>\n",
       "    <tr>\n",
       "      <th>2</th>\n",
       "      <td>533</td>\n",
       "      <td>519</td>\n",
       "      <td>533</td>\n",
       "      <td>454</td>\n",
       "      <td>318</td>\n",
       "      <td>526</td>\n",
       "      <td>343</td>\n",
       "      <td>300</td>\n",
       "      <td>12</td>\n",
       "      <td>364</td>\n",
       "      <td>515</td>\n",
       "      <td>2</td>\n",
       "      <td>403</td>\n",
       "      <td>524</td>\n",
       "      <td>4</td>\n",
       "      <td>394</td>\n",
       "      <td>1</td>\n",
       "      <td>1</td>\n",
       "    </tr>\n",
       "    <tr>\n",
       "      <th>3</th>\n",
       "      <td>525</td>\n",
       "      <td>516</td>\n",
       "      <td>525</td>\n",
       "      <td>325</td>\n",
       "      <td>383</td>\n",
       "      <td>514</td>\n",
       "      <td>439</td>\n",
       "      <td>265</td>\n",
       "      <td>12</td>\n",
       "      <td>258</td>\n",
       "      <td>518</td>\n",
       "      <td>2</td>\n",
       "      <td>322</td>\n",
       "      <td>519</td>\n",
       "      <td>4</td>\n",
       "      <td>410</td>\n",
       "      <td>1</td>\n",
       "      <td>1</td>\n",
       "    </tr>\n",
       "  </tbody>\n",
       "</table>\n",
       "</div>"
      ],
      "text/plain": [
       "         id  name  uri_x  acousticness  danceability  duration_ms  energy  \\\n",
       "labels                                                                      \n",
       "0       523   516    523           476           342          518     325   \n",
       "1       536   524    536           426           352          528     374   \n",
       "2       533   519    533           454           318          526     343   \n",
       "3       525   516    525           325           383          514     439   \n",
       "\n",
       "        instrumentalness  key  liveness  loudness  mode  speechiness  tempo  \\\n",
       "labels                                                                        \n",
       "0                    366   12       345       501     2          392    514   \n",
       "1                    451   12       259       518     2          294    527   \n",
       "2                    300   12       364       515     2          403    524   \n",
       "3                    265   12       258       518     2          322    519   \n",
       "\n",
       "        time_signature  valence  playlist  labels  \n",
       "labels                                             \n",
       "0                    4      390         1       1  \n",
       "1                    4      395         1       1  \n",
       "2                    4      394         1       1  \n",
       "3                    4      410         1       1  "
      ]
     },
     "execution_count": 141,
     "metadata": {},
     "output_type": "execute_result"
    }
   ],
   "source": [
    "df.groupby('labels').nunique()"
   ]
  },
  {
   "cell_type": "code",
   "execution_count": 142,
   "metadata": {},
   "outputs": [],
   "source": [
    "from sklearn.model_selection import train_test_split\n",
    "from sklearn.model_selection import cross_val_score\n",
    "## SPLIT INTO TRAINING AND TEST\n",
    "\n",
    "X = df.drop(['labels', 'playlist','id','name','uri_x'], axis = 1)\n",
    "y = df['labels']\n",
    "\n",
    "X_train, X_test, y_train, y_test = train_test_split(X, y, test_size=0.33, random_state=42)\n"
   ]
  },
  {
   "cell_type": "code",
   "execution_count": 143,
   "metadata": {},
   "outputs": [
    {
     "name": "stderr",
     "output_type": "stream",
     "text": [
      "c:\\users\\amand\\appdata\\local\\programs\\python\\python37\\lib\\site-packages\\sklearn\\preprocessing\\data.py:645: DataConversionWarning: Data with input dtype int64, float64 were all converted to float64 by StandardScaler.\n",
      "  return self.partial_fit(X, y)\n",
      "c:\\users\\amand\\appdata\\local\\programs\\python\\python37\\lib\\site-packages\\sklearn\\base.py:464: DataConversionWarning: Data with input dtype int64, float64 were all converted to float64 by StandardScaler.\n",
      "  return self.fit(X, **fit_params).transform(X)\n",
      "c:\\users\\amand\\appdata\\local\\programs\\python\\python37\\lib\\site-packages\\ipykernel_launcher.py:4: DataConversionWarning: Data with input dtype int64, float64 were all converted to float64 by StandardScaler.\n",
      "  after removing the cwd from sys.path.\n"
     ]
    }
   ],
   "source": [
    "from sklearn.preprocessing import StandardScaler\n",
    "scaler = StandardScaler()\n",
    "X_train_scaled = scaler.fit_transform(X_train)\n",
    "X_test_scaled = scaler.transform(X_test)"
   ]
  },
  {
   "cell_type": "markdown",
   "metadata": {},
   "source": [
    "### Random Forest"
   ]
  },
  {
   "cell_type": "code",
   "execution_count": 144,
   "metadata": {},
   "outputs": [
    {
     "name": "stdout",
     "output_type": "stream",
     "text": [
      "\n",
      " Confusion Matrix:\n",
      " [[113   8  59   1]\n",
      " [ 12 145   6  15]\n",
      " [ 60   6 104   1]\n",
      " [ 10  14   1 144]]\n",
      "\n",
      " Classification Report: \n",
      "               precision    recall  f1-score   support\n",
      "\n",
      "           0       0.58      0.62      0.60       181\n",
      "           1       0.84      0.81      0.83       178\n",
      "           2       0.61      0.61      0.61       171\n",
      "           3       0.89      0.85      0.87       169\n",
      "\n",
      "   micro avg       0.72      0.72      0.72       699\n",
      "   macro avg       0.73      0.72      0.73       699\n",
      "weighted avg       0.73      0.72      0.73       699\n",
      "\n",
      "Accuracy: 0.7238912732474965\n"
     ]
    },
    {
     "name": "stderr",
     "output_type": "stream",
     "text": [
      "c:\\users\\amand\\appdata\\local\\programs\\python\\python37\\lib\\site-packages\\sklearn\\ensemble\\forest.py:246: FutureWarning: The default value of n_estimators will change from 10 in version 0.20 to 100 in 0.22.\n",
      "  \"10 in version 0.20 to 100 in 0.22.\", FutureWarning)\n"
     ]
    }
   ],
   "source": [
    "from sklearn.ensemble import RandomForestClassifier\n",
    "from sklearn.metrics import (classification_report,confusion_matrix, accuracy_score, precision_score, recall_score, \n",
    "                             f1_score, roc_auc_score, roc_curve)\n",
    "### STANDARD PARAMETERS ###\n",
    "rfclf = RandomForestClassifier()\n",
    "rfclf.fit(X_train_scaled, y_train)\n",
    "\n",
    "y_pred = rfclf.predict(X_test_scaled)\n",
    "\n",
    "print('\\n Confusion Matrix:\\n',confusion_matrix(y_test,y_pred))\n",
    "print(\"\\n Classification Report: \\n\", classification_report(y_test, y_pred))\n",
    "print(\"Accuracy:\", (accuracy_score(y_test,y_pred)))\n"
   ]
  },
  {
   "cell_type": "markdown",
   "metadata": {},
   "source": [
    "### Support Vector Machine"
   ]
  },
  {
   "cell_type": "code",
   "execution_count": 145,
   "metadata": {},
   "outputs": [
    {
     "name": "stdout",
     "output_type": "stream",
     "text": [
      "\n",
      " Confusion Matrix:\n",
      " [[101   7  70   3]\n",
      " [  8 136  16  18]\n",
      " [ 50   3 116   2]\n",
      " [  5  12   6 146]]\n",
      "\n",
      " Classification Report: \n",
      "               precision    recall  f1-score   support\n",
      "\n",
      "           0       0.62      0.56      0.59       181\n",
      "           1       0.86      0.76      0.81       178\n",
      "           2       0.56      0.68      0.61       171\n",
      "           3       0.86      0.86      0.86       169\n",
      "\n",
      "   micro avg       0.71      0.71      0.71       699\n",
      "   macro avg       0.72      0.72      0.72       699\n",
      "weighted avg       0.72      0.71      0.72       699\n",
      "\n",
      "Accuracy: 0.7138769670958512\n"
     ]
    }
   ],
   "source": [
    "from sklearn.svm import SVC\n",
    "\n",
    "svm_clf = SVC()\n",
    "svm_clf = svm_clf.fit(X_train_scaled, y_train)\n",
    "svm_pred = svm_clf.predict(X_test_scaled)\n",
    "  \n",
    "\n",
    "print('\\n Confusion Matrix:\\n',confusion_matrix(y_test,svm_pred))\n",
    "print(\"\\n Classification Report: \\n\", classification_report(y_test, svm_pred))\n",
    "print(\"Accuracy:\", (accuracy_score(y_test,svm_pred)))"
   ]
  },
  {
   "cell_type": "markdown",
   "metadata": {},
   "source": [
    "### Naive Bayes"
   ]
  },
  {
   "cell_type": "code",
   "execution_count": 146,
   "metadata": {},
   "outputs": [
    {
     "name": "stdout",
     "output_type": "stream",
     "text": [
      "\n",
      " Confusion Matrix:\n",
      " [[111   7  58   5]\n",
      " [ 13 129  19  17]\n",
      " [ 59   4 107   1]\n",
      " [ 20  21   4 124]]\n",
      "\n",
      " Classification Report: \n",
      "               precision    recall  f1-score   support\n",
      "\n",
      "           0       0.55      0.61      0.58       181\n",
      "           1       0.80      0.72      0.76       178\n",
      "           2       0.57      0.63      0.60       171\n",
      "           3       0.84      0.73      0.78       169\n",
      "\n",
      "   micro avg       0.67      0.67      0.67       699\n",
      "   macro avg       0.69      0.67      0.68       699\n",
      "weighted avg       0.69      0.67      0.68       699\n",
      "\n",
      "Accuracy: 0.6738197424892703\n"
     ]
    }
   ],
   "source": [
    "# naive bayes\n",
    "\n",
    "from sklearn.naive_bayes import GaussianNB \n",
    "gnb = GaussianNB().fit(X_train_scaled, y_train) \n",
    "gnb_predictions = gnb.predict(X_test_scaled) \n",
    "  \n",
    "\n",
    "print('\\n Confusion Matrix:\\n',confusion_matrix(y_test,gnb_predictions))\n",
    "print(\"\\n Classification Report: \\n\", classification_report(y_test, gnb_predictions))\n",
    "print(\"Accuracy:\", (accuracy_score(y_test, gnb_predictions)))"
   ]
  },
  {
   "cell_type": "markdown",
   "metadata": {},
   "source": [
    "### KNN"
   ]
  },
  {
   "cell_type": "code",
   "execution_count": 147,
   "metadata": {},
   "outputs": [
    {
     "name": "stdout",
     "output_type": "stream",
     "text": [
      "\n",
      " Confusion Matrix:\n",
      " [[111   8  62   0]\n",
      " [ 22 132  13  11]\n",
      " [ 76   7  86   2]\n",
      " [ 10  14   6 139]]\n",
      "\n",
      " Classification Report: \n",
      "               precision    recall  f1-score   support\n",
      "\n",
      "           0       0.51      0.61      0.55       181\n",
      "           1       0.82      0.74      0.78       178\n",
      "           2       0.51      0.50      0.51       171\n",
      "           3       0.91      0.82      0.87       169\n",
      "\n",
      "   micro avg       0.67      0.67      0.67       699\n",
      "   macro avg       0.69      0.67      0.68       699\n",
      "weighted avg       0.69      0.67      0.68       699\n",
      "\n",
      "Accuracy: 0.6695278969957081\n"
     ]
    }
   ],
   "source": [
    "from sklearn.neighbors import KNeighborsClassifier\n",
    "\n",
    "Knnclf = KNeighborsClassifier(n_neighbors=3)\n",
    "Knnclf.fit(X_train_scaled, y_train)\n",
    "\n",
    "knn_predictions = Knnclf.predict(X_test_scaled)\n",
    "\n",
    "print('\\n Confusion Matrix:\\n',confusion_matrix(y_test,knn_predictions))\n",
    "print(\"\\n Classification Report: \\n\", classification_report(y_test, knn_predictions))\n",
    "print(\"Accuracy:\", (accuracy_score(y_test, knn_predictions)))"
   ]
  },
  {
   "cell_type": "markdown",
   "metadata": {},
   "source": [
    "### XGBOOST"
   ]
  },
  {
   "cell_type": "code",
   "execution_count": 148,
   "metadata": {},
   "outputs": [
    {
     "name": "stdout",
     "output_type": "stream",
     "text": [
      "\n",
      " Confusion Matrix:\n",
      " [[107  11  61   2]\n",
      " [ 11 143  11  13]\n",
      " [ 55   8 108   0]\n",
      " [  6  11   3 149]]\n",
      "\n",
      " Classification Report: \n",
      "               precision    recall  f1-score   support\n",
      "\n",
      "           0       0.60      0.59      0.59       181\n",
      "           1       0.83      0.80      0.81       178\n",
      "           2       0.59      0.63      0.61       171\n",
      "           3       0.91      0.88      0.89       169\n",
      "\n",
      "   micro avg       0.73      0.73      0.73       699\n",
      "   macro avg       0.73      0.73      0.73       699\n",
      "weighted avg       0.73      0.73      0.73       699\n",
      "\n",
      "Accuracy: 0.7253218884120172\n"
     ]
    }
   ],
   "source": [
    "#XGBOOST\n",
    "from xgboost import XGBClassifier\n",
    "xgb = XGBClassifier()\n",
    "xgb.fit(X_train_scaled, y_train)\n",
    "xgb_pred = xgb.predict(X_test_scaled)\n",
    "\n",
    "print('\\n Confusion Matrix:\\n',confusion_matrix(y_test,xgb_pred))\n",
    "print(\"\\n Classification Report: \\n\", classification_report(y_test, xgb_pred))\n",
    "print(\"Accuracy:\", (accuracy_score(y_test,xgb_pred)))\n",
    "\n"
   ]
  },
  {
   "cell_type": "markdown",
   "metadata": {},
   "source": [
    "### Default Estimators Accuracy Scores"
   ]
  },
  {
   "cell_type": "code",
   "execution_count": 149,
   "metadata": {},
   "outputs": [
    {
     "name": "stdout",
     "output_type": "stream",
     "text": [
      "Random Forest: 72.39%\n",
      "SVM: 71.39%\n",
      "Naive Bayes: 67.38%\n",
      "KNN: 66.95%\n",
      "XGBoost: 72.53%\n"
     ]
    }
   ],
   "source": [
    "print(\"Random Forest:\", \"%.2f%%\" %(accuracy_score(y_test,y_pred)*100))\n",
    "print(\"SVM:\", \"%.2f%%\" %(accuracy_score(y_test,svm_pred)*100))\n",
    "print(\"Naive Bayes:\", \"%.2f%%\" %(accuracy_score(y_test,gnb_predictions)*100))\n",
    "print(\"KNN:\", \"%.2f%%\" %(accuracy_score(y_test,knn_predictions)*100))\n",
    "print(\"XGBoost:\", \"%.2f%%\" %(accuracy_score(y_test,xgb_pred)*100))"
   ]
  },
  {
   "cell_type": "markdown",
   "metadata": {},
   "source": [
    "Random Forest, SVM and XGBoost models had the best performance with their default hyperparameters. Now let's tune these models.\n",
    "\n",
    "## Hyperparameter Tuning\n",
    "\n",
    "Now we will find optimal hyperparameters by using a grid search method. This method searches through a grid of parameters for each model, returning the parameters that give the highest k-fold cross validation score.\n",
    "\n",
    "### Tuned XGBoost"
   ]
  },
  {
   "cell_type": "markdown",
   "metadata": {},
   "source": [
    "\n",
    "We tune max_depth and min_child_weight first, as they will have the highest impact on model outcome. These parameters can be used to control the complexity of the trees. \n",
    "\n",
    "Use random search instead of grid search. Grid search has proven to be too exhaustive for extensive parameter grids. Random Search is more efficient in this case. Cross validation is used to evaluate the training data."
   ]
  },
  {
   "cell_type": "code",
   "execution_count": 150,
   "metadata": {},
   "outputs": [
    {
     "name": "stdout",
     "output_type": "stream",
     "text": [
      "Average Cross-Validation Score: 74.33%\n"
     ]
    }
   ],
   "source": [
    "# evaluate base model\n",
    "cross_val_scores= cross_val_score(xgb, X_train_scaled, y_train, \\\n",
    "                                  cv=5, scoring=\"accuracy\")*100\n",
    "\n",
    "print(\"Average Cross-Validation Score: %.2f%%\" % np.mean(cross_val_scores))"
   ]
  },
  {
   "cell_type": "code",
   "execution_count": 151,
   "metadata": {},
   "outputs": [],
   "source": [
    "param_grid1 = {\"max_depth\"        : [1, 2, 3, 4, 5, 6, 8],\n",
    "               \"min_child_weight\" : [ 1, 2, 3, 4, 5, 6] }\n"
   ]
  },
  {
   "cell_type": "code",
   "execution_count": 154,
   "metadata": {},
   "outputs": [
    {
     "name": "stderr",
     "output_type": "stream",
     "text": [
      "c:\\users\\amand\\appdata\\local\\programs\\python\\python37\\lib\\site-packages\\sklearn\\model_selection\\_search.py:271: UserWarning: The total space of parameters 42 is smaller than n_iter=100. Running 42 iterations. For exhaustive searches, use GridSearchCV.\n",
      "  % (grid_size, self.n_iter, grid_size), UserWarning)\n"
     ]
    },
    {
     "name": "stdout",
     "output_type": "stream",
     "text": [
      "{'min_child_weight': 1, 'max_depth': 6} 0.7496473906911142\n"
     ]
    }
   ],
   "source": [
    "# tune XGBoost\n",
    "\n",
    "from sklearn.model_selection import RandomizedSearchCV\n",
    "\n",
    "gs_random = RandomizedSearchCV(XGBClassifier(), param_grid1, cv= 5,n_iter=100)\n",
    "\n",
    "gs_random.fit(X_train_scaled, y_train)\n",
    "gs_pred = gs_random.predict(X_train_scaled)\n",
    "print(gs_random.best_params_, gs_random.best_score_)"
   ]
  },
  {
   "cell_type": "code",
   "execution_count": 155,
   "metadata": {},
   "outputs": [
    {
     "name": "stderr",
     "output_type": "stream",
     "text": [
      "c:\\users\\amand\\appdata\\local\\programs\\python\\python37\\lib\\site-packages\\sklearn\\model_selection\\_search.py:271: UserWarning: The total space of parameters 7 is smaller than n_iter=100. Running 7 iterations. For exhaustive searches, use GridSearchCV.\n",
      "  % (grid_size, self.n_iter, grid_size), UserWarning)\n"
     ]
    },
    {
     "name": "stdout",
     "output_type": "stream",
     "text": [
      "{'gamma': 0} 0.7496473906911142\n"
     ]
    }
   ],
   "source": [
    "param_grid2 = {\"gamma\": [0, 0.1, 0.2, 0.3, 0.4, 0.5, 0.6]}\n",
    "\n",
    "gs_random2 = RandomizedSearchCV(XGBClassifier(min_child_weight= 1, max_depth= 6), param_grid2, cv= 5,n_iter=100)\n",
    "\n",
    "gs_random2.fit(X_train_scaled, y_train)\n",
    "print(gs_random2.best_params_, gs_random2.best_score_)"
   ]
  },
  {
   "cell_type": "code",
   "execution_count": 156,
   "metadata": {},
   "outputs": [],
   "source": [
    "param_grid3 = {\"colsample_bytree\" : [ 0.6 , 0.7, 0.8, 1.0],\n",
    "               \"subsample\" : [ 0.6 , 0.7, 0.8, 1.0]}"
   ]
  },
  {
   "cell_type": "code",
   "execution_count": 157,
   "metadata": {},
   "outputs": [
    {
     "name": "stderr",
     "output_type": "stream",
     "text": [
      "c:\\users\\amand\\appdata\\local\\programs\\python\\python37\\lib\\site-packages\\sklearn\\model_selection\\_search.py:271: UserWarning: The total space of parameters 16 is smaller than n_iter=100. Running 16 iterations. For exhaustive searches, use GridSearchCV.\n",
      "  % (grid_size, self.n_iter, grid_size), UserWarning)\n"
     ]
    },
    {
     "name": "stdout",
     "output_type": "stream",
     "text": [
      "{'subsample': 1.0, 'colsample_bytree': 1.0} 0.7496473906911142\n"
     ]
    }
   ],
   "source": [
    "gs_random3 = RandomizedSearchCV(XGBClassifier(min_child_weight= 1, max_depth= 6, gamma=0), param_grid3, cv= 5,n_iter=100)\n",
    "\n",
    "gs_random3.fit(X_train_scaled, y_train)\n",
    "print(gs_random3.best_params_, gs_random3.best_score_)"
   ]
  },
  {
   "cell_type": "code",
   "execution_count": 158,
   "metadata": {},
   "outputs": [],
   "source": [
    "param_grid4 = {\"subsample\" : [0.85, 0.9, 1.0],\n",
    "               \"colsample_bytree\" : [0.85, 0.9, 1.0]}"
   ]
  },
  {
   "cell_type": "code",
   "execution_count": 159,
   "metadata": {},
   "outputs": [
    {
     "name": "stderr",
     "output_type": "stream",
     "text": [
      "c:\\users\\amand\\appdata\\local\\programs\\python\\python37\\lib\\site-packages\\sklearn\\model_selection\\_search.py:271: UserWarning: The total space of parameters 9 is smaller than n_iter=100. Running 9 iterations. For exhaustive searches, use GridSearchCV.\n",
      "  % (grid_size, self.n_iter, grid_size), UserWarning)\n"
     ]
    },
    {
     "name": "stdout",
     "output_type": "stream",
     "text": [
      "{'subsample': 0.85, 'colsample_bytree': 0.85} 0.7503526093088858\n"
     ]
    }
   ],
   "source": [
    "gs_random4 = RandomizedSearchCV(XGBClassifier(min_child_weight= 1, max_depth= 6, gamma=0, subsample=1.0, colsample_bytree=1.0), param_grid4, cv= 5,n_iter=100)\n",
    "\n",
    "gs_random4.fit(X_train_scaled, y_train)\n",
    "print(gs_random4.best_params_, gs_random4.best_score_)"
   ]
  },
  {
   "cell_type": "code",
   "execution_count": 160,
   "metadata": {},
   "outputs": [
    {
     "name": "stderr",
     "output_type": "stream",
     "text": [
      "c:\\users\\amand\\appdata\\local\\programs\\python\\python37\\lib\\site-packages\\sklearn\\model_selection\\_search.py:271: UserWarning: The total space of parameters 9 is smaller than n_iter=100. Running 9 iterations. For exhaustive searches, use GridSearchCV.\n",
      "  % (grid_size, self.n_iter, grid_size), UserWarning)\n"
     ]
    },
    {
     "name": "stdout",
     "output_type": "stream",
     "text": [
      "{'n_estimators': 100, 'learning_rate': 0.1} 0.7503526093088858\n"
     ]
    }
   ],
   "source": [
    "param_grid5 = {\"learning_rate\" : [0.1,0.05,.01],\n",
    "               \"n_estimators\" : [100,500,1000]}\n",
    "gs_random5 = RandomizedSearchCV(XGBClassifier(min_child_weight= 1, max_depth= 6, gamma=0, subsample=0.85, colsample_bytree=0.85), param_grid5, cv= 5,n_iter=100)\n",
    "\n",
    "gs_random5.fit(X_train_scaled, y_train)\n",
    "print(gs_random5.best_params_, gs_random5.best_score_)"
   ]
  },
  {
   "cell_type": "markdown",
   "metadata": {},
   "source": [
    "Now we gradually decrease learning rate while increasing the number of trees until we reach an optimal score."
   ]
  },
  {
   "cell_type": "code",
   "execution_count": 161,
   "metadata": {},
   "outputs": [
    {
     "name": "stdout",
     "output_type": "stream",
     "text": [
      "Average Cross-Validation Score: 75.0284%\n"
     ]
    }
   ],
   "source": [
    "xgb_tuned = XGBClassifier(\n",
    " max_depth=6,\n",
    " min_child_weight=1,\n",
    " gamma=0,\n",
    " subsample=0.85,\n",
    " colsample_bytree=0.85,\n",
    " learning_rate=0.1,\n",
    "n_estimators=100)\n",
    "\n",
    "xgb_tuned.fit(X_train_scaled, y_train)\n",
    "\n",
    "cross_val_scores= cross_val_score(xgb_tuned, X_train_scaled, y_train, \\\n",
    "                                  cv=5, scoring=\"accuracy\")*100\n",
    "\n",
    "print(\"Average Cross-Validation Score: %.4f%%\" % np.mean(cross_val_scores))"
   ]
  },
  {
   "cell_type": "markdown",
   "metadata": {},
   "source": [
    "The tuned hyperparameters increase CV performance by 0.7%. Now lets evaluate the tuned model on our test set."
   ]
  },
  {
   "cell_type": "code",
   "execution_count": 162,
   "metadata": {},
   "outputs": [
    {
     "name": "stdout",
     "output_type": "stream",
     "text": [
      "\n",
      " Confusion Matrix:\n",
      " [[104  10  65   2]\n",
      " [ 11 142  11  14]\n",
      " [ 51   5 115   0]\n",
      " [  3  11   4 151]]\n",
      "\n",
      " Classification Report: \n",
      "               precision    recall  f1-score   support\n",
      "\n",
      "           0       0.62      0.57      0.59       181\n",
      "           1       0.85      0.80      0.82       178\n",
      "           2       0.59      0.67      0.63       171\n",
      "           3       0.90      0.89      0.90       169\n",
      "\n",
      "   micro avg       0.73      0.73      0.73       699\n",
      "   macro avg       0.74      0.73      0.74       699\n",
      "weighted avg       0.74      0.73      0.73       699\n",
      "\n",
      "Accuracy: 0.7324749642346209\n",
      "<bound method XGBModel.get_params of XGBClassifier(base_score=0.5, booster='gbtree', colsample_bylevel=1,\n",
      "       colsample_bytree=0.85, gamma=0, learning_rate=0.1, max_delta_step=0,\n",
      "       max_depth=6, min_child_weight=1, missing=None, n_estimators=100,\n",
      "       n_jobs=1, nthread=None, objective='multi:softprob', random_state=0,\n",
      "       reg_alpha=0, reg_lambda=1, scale_pos_weight=1, seed=None,\n",
      "       silent=True, subsample=0.85)>\n"
     ]
    }
   ],
   "source": [
    "# evaluate hold out set\n",
    "\n",
    "xgb_pred2 = xgb_tuned.predict(X_test_scaled)\n",
    "\n",
    "print('\\n Confusion Matrix:\\n',confusion_matrix(y_test,xgb_pred2))\n",
    "print(\"\\n Classification Report: \\n\", classification_report(y_test, xgb_pred2))\n",
    "print(\"Accuracy:\", (accuracy_score(y_test,xgb_pred2)))\n",
    "print(xgb_tuned.get_params)"
   ]
  },
  {
   "cell_type": "markdown",
   "metadata": {},
   "source": [
    "When evaluating the hyperparameters on our test set, we find that the accuracy score is lower than our inital model. The weighted F-score is the same as our inital model. If you look at the F-scores for each class and the confusion matrices, you can see that this model is more accurate in predicting class '0' (workout). Our inital model is more accurate in predicting class '1' (party). Since predicting one class more accurately than another in this case is not relevant, we choose the model with the highest accuracy. This model is the default XGBoost estimator."
   ]
  },
  {
   "cell_type": "markdown",
   "metadata": {},
   "source": [
    "Tuning the hyperparameters for XGBoost is not improving our scores. However, since it is still our highest score, I will see if I have improve the model by implementing feature selection. \n",
    "\n",
    "#### Feature Importance and Selection\n",
    "\n",
    "We will use Feature importance scores for feature selection."
   ]
  },
  {
   "cell_type": "code",
   "execution_count": 163,
   "metadata": {},
   "outputs": [
    {
     "name": "stdout",
     "output_type": "stream",
     "text": [
      "Index(['acousticness', 'danceability', 'duration_ms', 'energy',\n",
      "       'instrumentalness', 'key', 'liveness', 'loudness', 'mode',\n",
      "       'speechiness', 'tempo', 'time_signature', 'valence'],\n",
      "      dtype='object')\n"
     ]
    }
   ],
   "source": [
    "print(X.columns)"
   ]
  },
  {
   "cell_type": "code",
   "execution_count": 164,
   "metadata": {},
   "outputs": [
    {
     "data": {
      "image/png": "[encoded data removed]",
      "text/plain": [
       "<Figure size 432x288 with 1 Axes>"
      ]
     },
     "metadata": {
      "needs_background": "light"
     },
     "output_type": "display_data"
    }
   ],
   "source": [
    "from xgboost import plot_importance\n",
    "import matplotlib.pyplot as plt\n",
    "\n",
    "# plot feature importance\n",
    "plot_importance(xgb_tuned)\n",
    "plt.show()"
   ]
  },
  {
   "cell_type": "code",
   "execution_count": 165,
   "metadata": {},
   "outputs": [
    {
     "name": "stdout",
     "output_type": "stream",
     "text": [
      "[0.10878567 0.05987058 0.05619697 0.09955791 0.23149806 0.03641569\n",
      " 0.03970172 0.11424374 0.04676833 0.06963248 0.04506895 0.00780199\n",
      " 0.084458  ]\n"
     ]
    }
   ],
   "source": [
    "print(xgb_tuned.feature_importances_)"
   ]
  },
  {
   "cell_type": "markdown",
   "metadata": {},
   "source": [
    "From an article, I found a code that uses the SelectFromModel class to test multiple thresholds for selecting features by feature importance. It allows us to test each subset of features by importance, starting with all features and ending with a subset with the most important feature."
   ]
  },
  {
   "cell_type": "code",
   "execution_count": 166,
   "metadata": {},
   "outputs": [
    {
     "name": "stdout",
     "output_type": "stream",
     "text": [
      "Thresh=0.0078, n=13, Accuracy: 73.25%\n",
      "Thresh=0.0364, n=12, Accuracy: 72.82%\n",
      "Thresh=0.0397, n=11, Accuracy: 72.53%\n",
      "Thresh=0.0451, n=10, Accuracy: 73.10%\n",
      "Thresh=0.0468, n=9, Accuracy: 71.96%\n",
      "Thresh=0.0562, n=8, Accuracy: 71.82%\n",
      "Thresh=0.0599, n=7, Accuracy: 71.10%\n",
      "Thresh=0.0696, n=6, Accuracy: 68.81%\n",
      "Thresh=0.0845, n=5, Accuracy: 70.82%\n",
      "Thresh=0.0996, n=4, Accuracy: 63.81%\n",
      "Thresh=0.1088, n=3, Accuracy: 64.66%\n",
      "Thresh=0.1142, n=2, Accuracy: 59.94%\n",
      "Thresh=0.2315, n=1, Accuracy: 48.35%\n"
     ]
    }
   ],
   "source": [
    "#adapted from https://machinelearningmastery.com/feature-importance-and-feature-selection-with-xgboost-in-python/\n",
    "from numpy import sort\n",
    "from sklearn.feature_selection import SelectFromModel\n",
    "thresholds = sort(xgb_tuned.feature_importances_)\n",
    "for thresh in thresholds:\n",
    "    # select features using threshold\n",
    "    selection = SelectFromModel(xgb_tuned, threshold=thresh, prefit=True)\n",
    "    select_X_train = selection.transform(X_train_scaled)\n",
    "    # train model\n",
    "    selection_model = XGBClassifier(max_depth=6,min_child_weight=1,\n",
    "                                    gamma=0,subsample=0.85,colsample_bytree=0.85,\n",
    "                                    learning_rate=0.1,n_estimators=100)\n",
    "    selection_model.fit(select_X_train, y_train)\n",
    "    # eval model\n",
    "    select_X_test = selection.transform(X_test_scaled)\n",
    "    y_pred = selection_model.predict(select_X_test)\n",
    "    predictions = [round(value) for value in y_pred]\n",
    "    accuracy = accuracy_score(y_test, predictions)\n",
    "    print(\"Thresh=%.4f, n=%d, Accuracy: %.2f%%\" % (thresh, select_X_train.shape[1], accuracy*100.0))"
   ]
  },
  {
   "cell_type": "markdown",
   "metadata": {},
   "source": [
    "Optimal threshold is using all features. \n"
   ]
  },
  {
   "cell_type": "code",
   "execution_count": 167,
   "metadata": {},
   "outputs": [
    {
     "data": {
      "text/plain": [
       "[Text(0, 0.5, 'workout'),\n",
       " Text(0, 1.5, 'chill'),\n",
       " Text(0, 2.5, 'party'),\n",
       " Text(0, 3.5, 'focus')]"
      ]
     },
     "execution_count": 167,
     "metadata": {},
     "output_type": "execute_result"
    },
    {
     "data": {
      "image/png": "[encoded data removed]",
      "text/plain": [
       "<Figure size 1440x576 with 4 Axes>"
      ]
     },
     "metadata": {
      "needs_background": "light"
     },
     "output_type": "display_data"
    }
   ],
   "source": [
    "import seaborn as sns\n",
    "\n",
    "fig = plt.figure(figsize = (20,8))\n",
    "\n",
    "ax= fig.add_subplot(1,2,1)\n",
    "sns.heatmap(confusion_matrix(y_test, xgb_pred), annot=True, ax = ax, fmt='g'); \n",
    "\n",
    "# labels, title and ticks\n",
    "ax.set_xlabel('Predicted labels');ax.set_ylabel('True labels'); \n",
    "ax.set_title('Default XGBoost Confusion Matrix (72.53% Accuracy)'); \n",
    "ax.xaxis.set_ticklabels(['workout', 'chill', 'party', 'focus']); ax.yaxis.set_ticklabels(['workout', 'chill', 'party', 'focus'])\n",
    "\n",
    "ax2= fig.add_subplot(1,2,2)\n",
    "sns.heatmap(confusion_matrix(y_test, y_pred), annot=True, ax = ax2, fmt='g'); \n",
    "\n",
    "# labels, title and ticks\n",
    "ax2.set_xlabel('Predicted labels');ax2.set_ylabel('True labels'); \n",
    "ax2.set_title('Tuned XGBoost Confusion Matrix (73.25% Accuracy)'); \n",
    "ax2.xaxis.set_ticklabels(['workout', 'chill', 'party', 'focus']); ax2.yaxis.set_ticklabels(['workout', 'chill', 'party', 'focus'])"
   ]
  },
  {
   "cell_type": "markdown",
   "metadata": {},
   "source": [
    "XGBoost is our best performing model at 73.25% accuracy. \n",
    "\n",
    "Notice that the scores for class '0' (workout) and class '2' (party) are consistently lower than the other classes for all our models. From the confusion matrix, you can tell that the workout and party class scores are low because our estimators often 'confuse' the two. For true labels of party, the model predicted workout 67 times. For true labels of workout, our estimator predicted party 42 times. This is not a shock since during our EDA, we found that workout and party distributions were very similar. "
   ]
  },
  {
   "cell_type": "markdown",
   "metadata": {},
   "source": [
    "### Ensembling\n",
    "\n",
    "Since our model is confusing classes 0 and 2 quite frequently, we will implement ensembling to build on our classfier. We will first train a model to only classify between workout and party songs. Then we will combine this model with our previous model to see if it improves performance. We start with Random Forest since it had the next best performance of our base models."
   ]
  },
  {
   "cell_type": "code",
   "execution_count": 168,
   "metadata": {},
   "outputs": [
    {
     "name": "stdout",
     "output_type": "stream",
     "text": [
      "Average Cross-Validation Score: 66.89%\n"
     ]
    },
    {
     "name": "stderr",
     "output_type": "stream",
     "text": [
      "c:\\users\\amand\\appdata\\local\\programs\\python\\python37\\lib\\site-packages\\sklearn\\ensemble\\forest.py:246: FutureWarning: The default value of n_estimators will change from 10 in version 0.20 to 100 in 0.22.\n",
      "  \"10 in version 0.20 to 100 in 0.22.\", FutureWarning)\n"
     ]
    }
   ],
   "source": [
    "# random forest with just workout and party\n",
    "# combine train X and Y so we can extract only 0 and 2 classes\n",
    "df_train =pd.DataFrame(data=X_train_scaled, index=y_train.index)  \n",
    "\n",
    "df_train['label'] = y_train\n",
    "\n",
    "# remove any rows with label of 1 or 3 so we can train our sub model\n",
    "df_train_bi = df_train[(df_train.label != 1) & (df_train.label != 3)]\n",
    "\n",
    "# split back to X and y\n",
    "X_df_train = df_train_bi.drop(['label'], axis = 1)\n",
    "y_df_train = df_train_bi['label']\n",
    "\n",
    "rfclf_new = RandomForestClassifier()\n",
    "rfclf_new.fit(X_df_train, y_df_train)\n",
    "\n",
    "\n",
    "cross_val_scores= cross_val_score(rfclf_new, X_df_train, y_df_train, \\\n",
    "                                  cv=5, scoring=\"accuracy\")*100\n",
    "\n",
    "print(\"Average Cross-Validation Score: %.2f%%\" % np.mean(cross_val_scores))"
   ]
  },
  {
   "cell_type": "markdown",
   "metadata": {},
   "source": [
    "Now lets tune our parameters using Randomized Grid Search."
   ]
  },
  {
   "cell_type": "code",
   "execution_count": 169,
   "metadata": {},
   "outputs": [],
   "source": [
    "# combine test X and Y so we can extract only 0 and 2 classes\n",
    "df_test =pd.DataFrame(data=X_test_scaled, index=y_test.index)  \n",
    "\n",
    "df_test['label'] = y_test\n",
    "\n",
    "# remove any rows with label of 1 or 3 so we can train our sub model\n",
    "df_test_bi = df_test[(df_test.label != 1) & (df_test.label != 3)]\n",
    "\n",
    "# split back to X and y\n",
    "X_df_test = df_test_bi.drop(['label'], axis = 1)\n",
    "y_df_test = df_test_bi['label']"
   ]
  },
  {
   "cell_type": "code",
   "execution_count": 170,
   "metadata": {},
   "outputs": [],
   "source": [
    "param_grid_new ={'bootstrap': [True, False],\n",
    " 'max_depth': [10, 20, 30, 40, 50, 60, 70, 80, 90, 100, None],\n",
    " 'max_features': ['auto', 'sqrt'],\n",
    " 'min_samples_leaf': [3, 4, 5, 7],\n",
    " 'min_samples_split': [8, 10, 15],\n",
    " 'n_estimators': [200, 400, 600, 800, 1000, 1200, 1400, 1600, 1800, 2000]}"
   ]
  },
  {
   "cell_type": "code",
   "execution_count": 171,
   "metadata": {},
   "outputs": [
    {
     "name": "stderr",
     "output_type": "stream",
     "text": [
      "c:\\users\\amand\\appdata\\local\\programs\\python\\python37\\lib\\site-packages\\sklearn\\model_selection\\_search.py:841: DeprecationWarning: The default of the `iid` parameter will change from True to False in version 0.22 and will be removed in 0.24. This will change numeric results when test-set sizes are unequal.\n",
      "  DeprecationWarning)\n"
     ]
    },
    {
     "name": "stdout",
     "output_type": "stream",
     "text": [
      "{'n_estimators': 1000, 'min_samples_split': 8, 'min_samples_leaf': 5, 'max_features': 'auto', 'max_depth': 50, 'bootstrap': True} 0.7215909090909091\n"
     ]
    }
   ],
   "source": [
    "## tune smaller dataset\n",
    "cv_new = RandomizedSearchCV(rfclf_new, param_grid_new, cv=5)\n",
    "cv_new.fit(X_df_train, y_df_train)\n",
    "print(cv_new.best_params_, cv_new.best_score_)"
   ]
  },
  {
   "cell_type": "code",
   "execution_count": 172,
   "metadata": {},
   "outputs": [
    {
     "name": "stdout",
     "output_type": "stream",
     "text": [
      "\n",
      " Confusion Matrix:\n",
      " [[115  66]\n",
      " [ 56 115]]\n",
      "\n",
      " Classification Report: \n",
      "               precision    recall  f1-score   support\n",
      "\n",
      "           0       0.67      0.64      0.65       181\n",
      "           2       0.64      0.67      0.65       171\n",
      "\n",
      "   micro avg       0.65      0.65      0.65       352\n",
      "   macro avg       0.65      0.65      0.65       352\n",
      "weighted avg       0.65      0.65      0.65       352\n",
      "\n",
      "Accuracy: 0.6534090909090909\n"
     ]
    }
   ],
   "source": [
    "rfclf_tuned_new = cv_new.best_estimator_\n",
    "rfclf_tuned_new.fit(X_df_train, y_df_train)\n",
    "\n",
    "rfclf_pred_new = rfclf_tuned_new.predict(X_df_test)\n",
    "\n",
    "print('\\n Confusion Matrix:\\n',confusion_matrix(y_df_test,rfclf_pred_new))\n",
    "print(\"\\n Classification Report: \\n\", classification_report(y_df_test, rfclf_pred_new))                                                \n",
    "print(\"Accuracy:\", (accuracy_score(y_df_test,rfclf_pred_new)))"
   ]
  },
  {
   "cell_type": "markdown",
   "metadata": {},
   "source": [
    "Now we will train another model (SVM) on the two classes."
   ]
  },
  {
   "cell_type": "code",
   "execution_count": 173,
   "metadata": {},
   "outputs": [
    {
     "name": "stdout",
     "output_type": "stream",
     "text": [
      "\n",
      " Confusion Matrix:\n",
      " [[105  76]\n",
      " [ 50 121]]\n",
      "\n",
      " Classification Report: \n",
      "               precision    recall  f1-score   support\n",
      "\n",
      "           0       0.68      0.58      0.62       181\n",
      "           2       0.61      0.71      0.66       171\n",
      "\n",
      "   micro avg       0.64      0.64      0.64       352\n",
      "   macro avg       0.65      0.64      0.64       352\n",
      "weighted avg       0.65      0.64      0.64       352\n",
      "\n",
      "Accuracy: 0.6420454545454546\n"
     ]
    },
    {
     "name": "stderr",
     "output_type": "stream",
     "text": [
      "c:\\users\\amand\\appdata\\local\\programs\\python\\python37\\lib\\site-packages\\sklearn\\svm\\base.py:196: FutureWarning: The default value of gamma will change from 'auto' to 'scale' in version 0.22 to account better for unscaled features. Set gamma explicitly to 'auto' or 'scale' to avoid this warning.\n",
      "  \"avoid this warning.\", FutureWarning)\n"
     ]
    }
   ],
   "source": [
    "svmclf = SVC(probability=True,kernel='rbf')\n",
    "svmclf = svmclf.fit(X_df_train, y_df_train)\n",
    "svm_pred = svmclf.predict(X_df_test)\n",
    "  \n",
    "\n",
    "print('\\n Confusion Matrix:\\n',confusion_matrix(y_df_test,svm_pred))\n",
    "print(\"\\n Classification Report: \\n\", classification_report(y_df_test, svm_pred))\n",
    "print(\"Accuracy:\", (accuracy_score(y_df_test,svm_pred)))"
   ]
  },
  {
   "cell_type": "markdown",
   "metadata": {},
   "source": [
    "Again, use random search to tune the hyperparameters."
   ]
  },
  {
   "cell_type": "code",
   "execution_count": 174,
   "metadata": {},
   "outputs": [
    {
     "name": "stdout",
     "output_type": "stream",
     "text": [
      "{'gamma': 0.001, 'C': 25} 0.6747159090909091\n"
     ]
    }
   ],
   "source": [
    "tuned_parameters = {'gamma': [1e-2, 1e-3, 1e-4, 1e-5],\n",
    "                     'C': [0.001, 0.10, 0.1, 10, 25, 50, 100, 1000]}\n",
    "svm_cv = RandomizedSearchCV(svmclf, tuned_parameters, cv=5)\n",
    "svm_cv.fit(X_df_train, y_df_train)\n",
    "print(svm_cv.best_params_, svm_cv.best_score_)\n"
   ]
  },
  {
   "cell_type": "code",
   "execution_count": 175,
   "metadata": {},
   "outputs": [
    {
     "name": "stdout",
     "output_type": "stream",
     "text": [
      "\n",
      " Confusion Matrix:\n",
      " [[112  69]\n",
      " [ 60 111]]\n",
      "\n",
      " Classification Report: \n",
      "               precision    recall  f1-score   support\n",
      "\n",
      "           0       0.65      0.62      0.63       181\n",
      "           2       0.62      0.65      0.63       171\n",
      "\n",
      "   micro avg       0.63      0.63      0.63       352\n",
      "   macro avg       0.63      0.63      0.63       352\n",
      "weighted avg       0.63      0.63      0.63       352\n",
      "\n",
      "Accuracy: 0.6335227272727273\n"
     ]
    }
   ],
   "source": [
    "svmclf_tuned = svm_cv.best_estimator_\n",
    "svmclf_tuned.fit(X_df_train, y_df_train)\n",
    "\n",
    "svmclf_tuned_pred = svmclf_tuned.predict(X_df_test)\n",
    "\n",
    "print('\\n Confusion Matrix:\\n',confusion_matrix(y_df_test,svmclf_tuned_pred))\n",
    "print(\"\\n Classification Report: \\n\", classification_report(y_df_test, svmclf_tuned_pred))                                                \n",
    "print(\"Accuracy:\", (accuracy_score(y_df_test,svmclf_tuned_pred)))"
   ]
  },
  {
   "cell_type": "markdown",
   "metadata": {},
   "source": [
    "Now we ensemble our three models. To do this we take the predicted probabilities and average them for classes of 0 and 2."
   ]
  },
  {
   "cell_type": "code",
   "execution_count": 176,
   "metadata": {},
   "outputs": [],
   "source": [
    "# get probabilties of XGBoost multiclass model\n",
    "x = xgb_tuned.predict_proba(X_test_scaled)\n",
    "\n",
    "# get probabilities of random forest binary classifier\n",
    "r = rfclf_tuned_new.predict_proba(X_df_test)\n",
    "\n",
    "# get probabilities of SVM binary classifier\n",
    "s = svmclf.predict_proba(X_df_test)"
   ]
  },
  {
   "cell_type": "code",
   "execution_count": 177,
   "metadata": {},
   "outputs": [],
   "source": [
    "#add index to probabilities so we can merge\n",
    "x = pd.DataFrame(data=x, index=df_test.index)\n",
    "r = pd.DataFrame(data=r, index=df_test_bi.index)\n",
    "s = pd.DataFrame(data=s, index=df_test_bi.index)"
   ]
  },
  {
   "cell_type": "code",
   "execution_count": 178,
   "metadata": {
    "scrolled": true
   },
   "outputs": [],
   "source": [
    "# build a dataframe of probabilities (averaged for class 0 and 2)\n",
    "P = pd.DataFrame(index=df_test.index)\n",
    "for i in P.index:\n",
    "    try:\n",
    "        P.loc[i,0] = (x.loc[i,0] + r.loc[i,0] + s.loc[i,0])/3\n",
    "        P.loc[i,1] = x.loc[i,1]\n",
    "        P.loc[i,2] = (x.loc[i,2] + r.loc[i,1] + s.loc[i,1])/3\n",
    "        P.loc[i,3] = x.loc[i,3]\n",
    "    except KeyError:\n",
    "        P.loc[i,:] = x.loc[i,:]\n",
    "   "
   ]
  },
  {
   "cell_type": "code",
   "execution_count": 179,
   "metadata": {},
   "outputs": [],
   "source": [
    "# label predictions\n",
    "pred = []\n",
    "for i in P.index:\n",
    "    for column in P:\n",
    "        if P.loc[i,column] == max(P.loc[i,:].values):\n",
    "           pred.append(column)"
   ]
  },
  {
   "cell_type": "code",
   "execution_count": 180,
   "metadata": {},
   "outputs": [
    {
     "name": "stdout",
     "output_type": "stream",
     "text": [
      "\n",
      " Confusion Matrix:\n",
      " [[111   7  61   2]\n",
      " [ 11 142  11  14]\n",
      " [ 51   4 116   0]\n",
      " [  3  11   4 151]]\n",
      "\n",
      " Classification Report: \n",
      "               precision    recall  f1-score   support\n",
      "\n",
      "           0       0.63      0.61      0.62       181\n",
      "           1       0.87      0.80      0.83       178\n",
      "           2       0.60      0.68      0.64       171\n",
      "           3       0.90      0.89      0.90       169\n",
      "\n",
      "   micro avg       0.74      0.74      0.74       699\n",
      "   macro avg       0.75      0.75      0.75       699\n",
      "weighted avg       0.75      0.74      0.75       699\n",
      "\n",
      "Accuracy: 0.7439198855507868\n"
     ]
    }
   ],
   "source": [
    "print('\\n Confusion Matrix:\\n',confusion_matrix(y_test,pred))\n",
    "print(\"\\n Classification Report: \\n\", classification_report(y_test, pred))\n",
    "print(\"Accuracy:\", (accuracy_score(y_test,pred)))"
   ]
  },
  {
   "cell_type": "code",
   "execution_count": 185,
   "metadata": {},
   "outputs": [
    {
     "data": {
      "text/plain": [
       "[Text(0, 0.5, 'workout'),\n",
       " Text(0, 1.5, 'chill'),\n",
       " Text(0, 2.5, 'party'),\n",
       " Text(0, 3.5, 'focus')]"
      ]
     },
     "execution_count": 185,
     "metadata": {},
     "output_type": "execute_result"
    },
    {
     "data": {
      "image/png": "[encoded data removed]",
      "text/plain": [
       "<Figure size 1440x576 with 2 Axes>"
      ]
     },
     "metadata": {
      "needs_background": "light"
     },
     "output_type": "display_data"
    }
   ],
   "source": [
    "fig3 = plt.figure(figsize = (20,8))\n",
    "\n",
    "ax3= fig3.add_subplot(1,1,1)\n",
    "sns.heatmap(confusion_matrix(y_test, xgb_pred), annot=True, ax = ax3, fmt='g'); \n",
    "\n",
    "# labels, title and ticks\n",
    "ax3.set_xlabel('Predicted labels');ax3.set_ylabel('True labels'); \n",
    "ax3.set_title('Final Ensemble Model Confusion Matrix'); \n",
    "ax3.xaxis.set_ticklabels(['workout', 'chill', 'party', 'focus']); ax3.yaxis.set_ticklabels(['workout', 'chill', 'party', 'focus'])\n"
   ]
  },
  {
   "cell_type": "markdown",
   "metadata": {},
   "source": [
    "Our accuracy score increased by 1.14% and our F1-Score increased by .02. Although our model did improve slightly, we still see error in predicting workout and party classes. \n",
    "\n",
    "This can be improved by adding more features to our dataset. Future recommendations include adding metadata of the song artist or gathering other sound metrics. Librosa is a package that can extract high and low level audio features from a song. However, this would require you have to each song file in your library."
   ]
  }
 ],
 "metadata": {
  "kernelspec": {
   "display_name": "Python 3",
   "language": "python",
   "name": "python3"
  },
  "language_info": {
   "codemirror_mode": {
    "name": "ipython",
    "version": 3
   },
   "file_extension": ".py",
   "mimetype": "text/x-python",
   "name": "python",
   "nbconvert_exporter": "python",
   "pygments_lexer": "ipython3",
   "version": "3.7.1"
  }
 },
 "nbformat": 4,
 "nbformat_minor": 2
}
