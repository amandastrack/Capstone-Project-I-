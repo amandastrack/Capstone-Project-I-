{
 "cells": [
  {
   "cell_type": "markdown",
   "metadata": {},
   "source": [
    "# Machine Learning\n",
    "\n",
    "First we will evaluate several supervised machine learning techniques with default hyperparameters. Then we will perform hyperparameter tuning on the best peforming default estimators.\n",
    "\n",
    "The training will be done on 67% of the data. The remaining 33% will be our test set."
   ]
  },
  {
   "cell_type": "code",
   "execution_count": 145,
   "metadata": {},
   "outputs": [],
   "source": [
    "import pandas as pd\n",
    "import numpy as np"
   ]
  },
  {
   "cell_type": "code",
   "execution_count": 146,
   "metadata": {},
   "outputs": [],
   "source": [
    "df = pd.read_csv('data/final_spotify_data.csv')"
   ]
  },
  {
   "cell_type": "code",
   "execution_count": 186,
   "metadata": {},
   "outputs": [],
   "source": [
    "## FIRST NEED TO PUT GENRES INTO NUMERICAL CLASSES \n",
    "\n",
    "g = ['workout', 'chill', 'party', 'focus']\n",
    "\n",
    "df['labels'] = df['playlist']\n",
    "\n",
    "d = dict(zip(g, range(0,4)))\n",
    "\n",
    "df['labels'] = df['labels'].map(d, na_action='ignore')\n"
   ]
  },
  {
   "cell_type": "code",
   "execution_count": 187,
   "metadata": {},
   "outputs": [],
   "source": [
    "from sklearn.model_selection import train_test_split\n",
    "\n",
    "## SPLIT INTO TRAINING AND TEST\n",
    "\n",
    "X = df.drop(['labels', 'playlist','id','name','uri_x'], axis = 1)\n",
    "y = df['labels']\n",
    "\n",
    "X_train, X_test, y_train, y_test = train_test_split(X, y, test_size=0.33, random_state=42)"
   ]
  },
  {
   "cell_type": "markdown",
   "metadata": {},
   "source": [
    "### Random Forest"
   ]
  },
  {
   "cell_type": "code",
   "execution_count": 188,
   "metadata": {},
   "outputs": [
    {
     "name": "stdout",
     "output_type": "stream",
     "text": [
      "\n",
      " Confusion Matrix:\n",
      " [[113  11  55   1]\n",
      " [ 14 137   9  13]\n",
      " [ 64  13 105   0]\n",
      " [  9   9   4 153]]\n",
      "Accuracy: 0.7154929577464789\n"
     ]
    },
    {
     "name": "stderr",
     "output_type": "stream",
     "text": [
      "c:\\users\\amand\\appdata\\local\\programs\\python\\python37\\lib\\site-packages\\sklearn\\ensemble\\forest.py:246: FutureWarning: The default value of n_estimators will change from 10 in version 0.20 to 100 in 0.22.\n",
      "  \"10 in version 0.20 to 100 in 0.22.\", FutureWarning)\n"
     ]
    }
   ],
   "source": [
    "from sklearn.ensemble import RandomForestClassifier\n",
    "from sklearn.metrics import (classification_report,confusion_matrix, accuracy_score, precision_score, recall_score, \n",
    "                             f1_score, roc_auc_score, roc_curve)\n",
    "### STANDARD PARAMETERS ###\n",
    "rfclf = RandomForestClassifier()\n",
    "rfclf.fit(X_train, y_train)\n",
    "\n",
    "y_pred = rfclf.predict(X_test)\n",
    "\n",
    "print('\\n Confusion Matrix:\\n',confusion_matrix(y_test,y_pred))\n",
    "print(\"Accuracy:\", (accuracy_score(y_test,y_pred)))\n"
   ]
  },
  {
   "cell_type": "markdown",
   "metadata": {},
   "source": [
    "### Support Vector Machine"
   ]
  },
  {
   "cell_type": "code",
   "execution_count": 192,
   "metadata": {},
   "outputs": [
    {
     "name": "stdout",
     "output_type": "stream",
     "text": [
      "\n",
      " Confusion Matrix:\n",
      " [[ 99   7  72   2]\n",
      " [  6 133  14  20]\n",
      " [ 53   7 122   0]\n",
      " [  5  10   5 155]]\n",
      "Accuracy: 0.7169014084507043\n"
     ]
    },
    {
     "name": "stderr",
     "output_type": "stream",
     "text": [
      "c:\\users\\amand\\appdata\\local\\programs\\python\\python37\\lib\\site-packages\\sklearn\\preprocessing\\data.py:645: DataConversionWarning: Data with input dtype int64, float64 were all converted to float64 by StandardScaler.\n",
      "  return self.partial_fit(X, y)\n",
      "c:\\users\\amand\\appdata\\local\\programs\\python\\python37\\lib\\site-packages\\sklearn\\base.py:464: DataConversionWarning: Data with input dtype int64, float64 were all converted to float64 by StandardScaler.\n",
      "  return self.fit(X, **fit_params).transform(X)\n",
      "c:\\users\\amand\\appdata\\local\\programs\\python\\python37\\lib\\site-packages\\ipykernel_launcher.py:7: DataConversionWarning: Data with input dtype int64, float64 were all converted to float64 by StandardScaler.\n",
      "  import sys\n"
     ]
    }
   ],
   "source": [
    "from sklearn.svm import SVC\n",
    "\n",
    "# scale data for svm \n",
    "from sklearn.preprocessing import StandardScaler\n",
    "scaler = StandardScaler()\n",
    "X_train_scaled = scaler.fit_transform(X_train)\n",
    "X_test_scaled = scaler.transform(X_test)\n",
    "\n",
    "svmclf = SVC()\n",
    "svmclf = svmclf.fit(X_train_scaled, y_train)\n",
    "svm_pred = svmclf.predict(X_test_scaled)\n",
    "  \n",
    "\n",
    "print('\\n Confusion Matrix:\\n',confusion_matrix(y_test,svm_pred))\n",
    "print(\"Accuracy:\", (accuracy_score(y_test,svm_pred)))"
   ]
  },
  {
   "cell_type": "markdown",
   "metadata": {},
   "source": [
    "### Naive Bayes"
   ]
  },
  {
   "cell_type": "code",
   "execution_count": 163,
   "metadata": {},
   "outputs": [
    {
     "name": "stdout",
     "output_type": "stream",
     "text": [
      "\n",
      " Confusion Matrix:\n",
      " [[ 90   5  81   4]\n",
      " [  8 129  22  14]\n",
      " [ 42  11 128   1]\n",
      " [ 17  25   3 130]]\n",
      "Accuracy: 0.671830985915493\n"
     ]
    }
   ],
   "source": [
    "# naive bayes\n",
    "\n",
    "from sklearn.naive_bayes import GaussianNB \n",
    "gnb = GaussianNB().fit(X_train_scaled, y_train) \n",
    "gnb_predictions = gnb.predict(X_test_scaled) \n",
    "  \n",
    "\n",
    "print('\\n Confusion Matrix:\\n',confusion_matrix(y_test,gnb_predictions))\n",
    "print(\"Accuracy:\", (accuracy_score(y_test, gnb_predictions)))"
   ]
  },
  {
   "cell_type": "markdown",
   "metadata": {},
   "source": [
    "### KNN"
   ]
  },
  {
   "cell_type": "code",
   "execution_count": 164,
   "metadata": {},
   "outputs": [
    {
     "name": "stdout",
     "output_type": "stream",
     "text": [
      "\n",
      " Confusion Matrix:\n",
      " [[107   7  66   0]\n",
      " [ 22 125  11  15]\n",
      " [ 73   7 101   1]\n",
      " [  9  17   4 145]]\n",
      "Accuracy: 0.6732394366197183\n"
     ]
    }
   ],
   "source": [
    "from sklearn.neighbors import KNeighborsClassifier\n",
    "\n",
    "Knnclf = KNeighborsClassifier(n_neighbors=3)\n",
    "Knnclf.fit(X_train_scaled, y_train)\n",
    "\n",
    "knn_predictions = Knnclf.predict(X_test_scaled)\n",
    "\n",
    "print('\\n Confusion Matrix:\\n',confusion_matrix(y_test,knn_predictions))\n",
    "print(\"Accuracy:\", (accuracy_score(y_test, knn_predictions)))"
   ]
  },
  {
   "cell_type": "markdown",
   "metadata": {},
   "source": [
    "### XGBOOST"
   ]
  },
  {
   "cell_type": "code",
   "execution_count": 194,
   "metadata": {},
   "outputs": [
    {
     "name": "stdout",
     "output_type": "stream",
     "text": [
      "\n",
      " Confusion Matrix:\n",
      " [[102   9  68   1]\n",
      " [ 10 138  11  14]\n",
      " [ 42   5 134   1]\n",
      " [  3   8   3 161]]\n",
      "Accuracy: 0.7535211267605634\n"
     ]
    }
   ],
   "source": [
    "#XGBOOST\n",
    "from xgboost import XGBClassifier\n",
    "\n",
    "xgb = XGBClassifier()\n",
    "xgb.fit(X_train_scaled, y_train)\n",
    "xgb_pred = xgb.predict(X_test_scaled)\n",
    "\n",
    "print('\\n Confusion Matrix:\\n',confusion_matrix(y_test,xgb_pred))\n",
    "print(\"Accuracy:\", (accuracy_score(y_test,xgb_pred)))"
   ]
  },
  {
   "cell_type": "markdown",
   "metadata": {},
   "source": [
    "### Default Estimators Accuracy Scores"
   ]
  },
  {
   "cell_type": "code",
   "execution_count": 195,
   "metadata": {},
   "outputs": [
    {
     "name": "stdout",
     "output_type": "stream",
     "text": [
      "Random Forest: 71.55%\n",
      "SVM: 71.69%\n",
      "Naive Bayes: 67.18%\n",
      "KNN: 67.32%\n",
      "XGBoost: 75.35%\n"
     ]
    }
   ],
   "source": [
    "print(\"Random Forest:\", \"%.2f%%\" %(accuracy_score(y_test,y_pred)*100))\n",
    "print(\"SVM:\", \"%.2f%%\" %(accuracy_score(y_test,svm_pred)*100))\n",
    "print(\"Naive Bayes:\", \"%.2f%%\" %(accuracy_score(y_test,gnb_predictions)*100))\n",
    "print(\"KNN:\", \"%.2f%%\" %(accuracy_score(y_test,knn_predictions)*100))\n",
    "print(\"XGBoost:\", \"%.2f%%\" %(accuracy_score(y_test,xgb_pred)*100))"
   ]
  },
  {
   "cell_type": "markdown",
   "metadata": {},
   "source": [
    "Random Forest, SVM and XGBoost models had the best performance with their default hyperparameters. Now let's tune these models.\n",
    "\n",
    "\n",
    "### Tuned Random Forest"
   ]
  },
  {
   "cell_type": "code",
   "execution_count": 166,
   "metadata": {},
   "outputs": [
    {
     "name": "stdout",
     "output_type": "stream",
     "text": [
      "{'max_features': 'sqrt', 'n_estimators': 140}\n"
     ]
    }
   ],
   "source": [
    "from sklearn.model_selection import GridSearchCV\n",
    "\n",
    "param_grid = {'n_estimators': np.arange(20,200,10), # Number of trees in random forest\n",
    "              'max_features': ['auto', 'sqrt']} # Method of selecting samples for training each tree\n",
    "\n",
    "\n",
    "\n",
    "cv = GridSearchCV(rfclf, param_grid, cv=5)\n",
    "cv.fit(X_train, y_train)\n",
    "print(cv.best_params_)"
   ]
  },
  {
   "cell_type": "code",
   "execution_count": 167,
   "metadata": {},
   "outputs": [
    {
     "name": "stdout",
     "output_type": "stream",
     "text": [
      "\n",
      " Confusion Matrix:\n",
      " [[ 99   8  73   0]\n",
      " [ 12 141   7  13]\n",
      " [ 44   6 131   1]\n",
      " [  5   7   6 157]]\n",
      "Accuracy: 0.7436619718309859\n"
     ]
    }
   ],
   "source": [
    "ne = cv.best_params_['n_estimators']\n",
    "mf = cv.best_params_['max_features']\n",
    "\n",
    "rfclf_tuned = RandomForestClassifier(n_estimators=ne, max_features=mf)\n",
    "\n",
    "rfclf_tuned.fit(X_train, y_train)\n",
    "\n",
    "rfclf_pred = rfclf_tuned.predict(X_test)\n",
    "\n",
    "print('\\n Confusion Matrix:\\n',confusion_matrix(y_test,rfclf_pred))\n",
    "print(\"Accuracy:\", (accuracy_score(y_test,rfclf_pred)))"
   ]
  },
  {
   "cell_type": "markdown",
   "metadata": {},
   "source": [
    "Our accuracy score for Random Forest increased by 3.52%.\n",
    "\n",
    "### Tuned SVM"
   ]
  },
  {
   "cell_type": "code",
   "execution_count": 168,
   "metadata": {},
   "outputs": [
    {
     "name": "stdout",
     "output_type": "stream",
     "text": [
      "{'C': 1.3700000000000003}\n"
     ]
    }
   ],
   "source": [
    "param_grid_svm = {'C': np.arange(1,2,.01)}\n",
    "\n",
    "grid_search = GridSearchCV(SVC(gamma='auto'), param_grid_svm, cv=5)\n",
    "\n",
    "grid_search.fit(X_train_scaled, y_train)\n",
    "print(grid_search.best_params_)\n"
   ]
  },
  {
   "cell_type": "code",
   "execution_count": 169,
   "metadata": {},
   "outputs": [
    {
     "name": "stdout",
     "output_type": "stream",
     "text": [
      "\n",
      " Confusion Matrix:\n",
      " [[102   7  69   2]\n",
      " [  7 134  14  18]\n",
      " [ 51   8 123   0]\n",
      " [  6   9   4 156]]\n",
      "Accuracy: 0.7253521126760564\n"
     ]
    }
   ],
   "source": [
    "svmclf_tuned = SVC(C=1.3700000000000003, gamma='auto')\n",
    "\n",
    "svmclf_tuned.fit(X_train_scaled, y_train)\n",
    "\n",
    "svm_tuned_pred = svmclf_tuned.predict(X_test_scaled)\n",
    "\n",
    "print('\\n Confusion Matrix:\\n',confusion_matrix(y_test,svm_tuned_pred))\n",
    "print(\"Accuracy:\", (accuracy_score(y_test,svm_tuned_pred)))"
   ]
  },
  {
   "cell_type": "markdown",
   "metadata": {},
   "source": [
    "Our accuracy score increased by 0.85% by just tuning 'C'.\n",
    "\n",
    "\n",
    "### Tuned XGBoost\n",
    "\n",
    "We tune max_depth and min_child_weight first, as they will have the highest impact on model outcome. These parameters can be used to control the complexity of the trees. It is important to tune them together in order to find a good trade-off between model bias and variance."
   ]
  },
  {
   "cell_type": "code",
   "execution_count": 198,
   "metadata": {},
   "outputs": [
    {
     "name": "stdout",
     "output_type": "stream",
     "text": [
      "{'max_depth': 2, 'min_child_weight': 2} 0.7255038220986796\n"
     ]
    }
   ],
   "source": [
    "# tune XGBoost\n",
    "param_grid3 = { 'max_depth':range(1,5,1), 'min_child_weight':range(1,5,1)}\n",
    "\n",
    "\n",
    "grid_search_XG = GridSearchCV(XGBClassifier(), param_grid3, cv=5)\n",
    "\n",
    "grid_search_XG.fit(X_train_scaled, y_train)\n",
    "print(grid_search_XG.best_params_, grid_search_XG.best_score_)\n"
   ]
  },
  {
   "cell_type": "code",
   "execution_count": 199,
   "metadata": {},
   "outputs": [
    {
     "name": "stdout",
     "output_type": "stream",
     "text": [
      "\n",
      " Confusion Matrix:\n",
      " [[106   8  65   1]\n",
      " [ 11 137  10  15]\n",
      " [ 45   7 129   1]\n",
      " [  3  10   2 160]]\n",
      "Accuracy: 0.7492957746478873\n"
     ]
    }
   ],
   "source": [
    "xgb_tuned = XGBClassifier(\n",
    " max_depth=2,\n",
    " min_child_weight=2,\n",
    ")\n",
    "\n",
    "\n",
    "xgb_tuned.fit(X_train_scaled, y_train)\n",
    "\n",
    "xgb_pred2 = xgb_tuned.predict(X_test_scaled)\n",
    "\n",
    "print('\\n Confusion Matrix:\\n',confusion_matrix(y_test,xgb_pred2))\n",
    "print(\"Accuracy:\", (accuracy_score(y_test,xgb_pred2)))"
   ]
  },
  {
   "cell_type": "markdown",
   "metadata": {},
   "source": [
    "Since tuning the hyperparameters for XGBoost is not improving accuracy score. I will go ahead and see if I have improve the model by implementing feature selection. "
   ]
  },
  {
   "cell_type": "code",
   "execution_count": 200,
   "metadata": {},
   "outputs": [
    {
     "data": {
      "image/png": "[encoded data removed]",
      "text/plain": [
       "<Figure size 432x288 with 1 Axes>"
      ]
     },
     "metadata": {
      "needs_background": "light"
     },
     "output_type": "display_data"
    }
   ],
   "source": [
    "from xgboost import plot_importance\n",
    "import matplotlib.pyplot as plt\n",
    "\n",
    "# plot feature importance\n",
    "plot_importance(xgb_tuned)\n",
    "plt.show()"
   ]
  },
  {
   "cell_type": "code",
   "execution_count": 201,
   "metadata": {},
   "outputs": [
    {
     "name": "stdout",
     "output_type": "stream",
     "text": [
      "Thresh=0.000, n=13, Accuracy: 75.35%\n",
      "Thresh=0.018, n=12, Accuracy: 75.49%\n",
      "Thresh=0.019, n=11, Accuracy: 75.21%\n",
      "Thresh=0.021, n=10, Accuracy: 73.80%\n",
      "Thresh=0.031, n=9, Accuracy: 73.66%\n",
      "Thresh=0.066, n=8, Accuracy: 73.38%\n",
      "Thresh=0.067, n=7, Accuracy: 72.11%\n",
      "Thresh=0.076, n=6, Accuracy: 71.97%\n",
      "Thresh=0.099, n=5, Accuracy: 70.70%\n",
      "Thresh=0.099, n=4, Accuracy: 68.03%\n",
      "Thresh=0.109, n=3, Accuracy: 66.48%\n",
      "Thresh=0.177, n=2, Accuracy: 63.80%\n",
      "Thresh=0.219, n=1, Accuracy: 51.27%\n"
     ]
    }
   ],
   "source": [
    "#adapted from https://machinelearningmastery.com/feature-importance-and-feature-selection-with-xgboost-in-python/\n",
    "from numpy import sort\n",
    "from sklearn.feature_selection import SelectFromModel\n",
    "\n",
    "thresholds = sort(xgb_tuned.feature_importances_)\n",
    "for thresh in thresholds:\n",
    "    # select features using threshold\n",
    "    selection = SelectFromModel(xgb_tuned, threshold=thresh, prefit=True)\n",
    "    select_X_train = selection.transform(X_train_scaled)\n",
    "    # train model\n",
    "    selection_model = XGBClassifier()\n",
    "    selection_model.fit(select_X_train, y_train)\n",
    "    # eval model\n",
    "    select_X_test = selection.transform(X_test_scaled)\n",
    "    y_pred = selection_model.predict(select_X_test)\n",
    "    predictions = [round(value) for value in y_pred]\n",
    "    accuracy = accuracy_score(y_test, predictions)\n",
    "    print(\"Thresh=%.3f, n=%d, Accuracy: %.2f%%\" % (thresh, select_X_train.shape[1], accuracy*100.0))"
   ]
  },
  {
   "cell_type": "markdown",
   "metadata": {},
   "source": [
    "Optimal threshold is using 12 features. I will revalute the model with this threshold."
   ]
  },
  {
   "cell_type": "code",
   "execution_count": 203,
   "metadata": {},
   "outputs": [
    {
     "name": "stdout",
     "output_type": "stream",
     "text": [
      "\n",
      " Confusion Matrix:\n",
      " [[103   9  67   1]\n",
      " [ 10 138  11  14]\n",
      " [ 42   5 134   1]\n",
      " [  3   8   3 161]]\n",
      "Accuracy: 0.7549295774647887\n"
     ]
    }
   ],
   "source": [
    "selection = SelectFromModel(xgb_tuned, threshold=0.018, prefit=True)\n",
    "select_X_train = selection.transform(X_train_scaled)\n",
    "# train model\n",
    "selection_model = XGBClassifier()\n",
    "selection_model.fit(select_X_train, y_train)\n",
    "# eval model\n",
    "select_X_test = selection.transform(X_test_scaled)\n",
    "y_pred = selection_model.predict(select_X_test)\n",
    "\n",
    "print('\\n Confusion Matrix:\\n',confusion_matrix(y_test,y_pred))\n",
    "print(\"Accuracy:\", (accuracy_score(y_test,y_pred)))"
   ]
  },
  {
   "cell_type": "markdown",
   "metadata": {},
   "source": [
    "With removing a feature, the performance improved by 0.15%."
   ]
  },
  {
   "cell_type": "code",
   "execution_count": null,
   "metadata": {},
   "outputs": [],
   "source": []
  }
 ],
 "metadata": {
  "kernelspec": {
   "display_name": "Python 3",
   "language": "python",
   "name": "python3"
  },
  "language_info": {
   "codemirror_mode": {
    "name": "ipython",
    "version": 3
   },
   "file_extension": ".py",
   "mimetype": "text/x-python",
   "name": "python",
   "nbconvert_exporter": "python",
   "pygments_lexer": "ipython3",
   "version": "3.7.1"
  }
 },
 "nbformat": 4,
 "nbformat_minor": 2
}
