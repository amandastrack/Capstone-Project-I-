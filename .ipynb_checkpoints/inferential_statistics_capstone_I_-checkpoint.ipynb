{
 "cells": [
  {
   "cell_type": "code",
   "execution_count": 20,
   "metadata": {},
   "outputs": [],
   "source": [
    "import pandas as pd\n",
    "\n",
    "#import dataset\n",
    "spotify_songs = pd.read_csv('data/final_spotify_data.csv')\n",
    "\n",
    "#subset data based on playlist genre\n",
    "w = spotify_songs.loc[spotify_songs['playlist'] == 'workout']\n",
    "c = spotify_songs.loc[spotify_songs['playlist'] == 'chill']\n",
    "p = spotify_songs.loc[spotify_songs['playlist'] == 'party']\n",
    "f = spotify_songs.loc[spotify_songs['playlist'] == 'focus']"
   ]
  },
  {
   "cell_type": "markdown",
   "metadata": {},
   "source": [
    "# Inferential Statistics\n",
    "\n",
    "## Are the variable significant in terms of predicting Playlist genre?\n",
    "\n",
    "We will use inferential statistics to determine which variables will be good candidates for our models. To do this, I will use to hypothesis testing to prove that the variables are significantly different across the playlist categories. "
   ]
  },
  {
   "cell_type": "markdown",
   "metadata": {},
   "source": [
    "### Are workout and party playlists significantly different from each other?"
   ]
  },
  {
   "cell_type": "markdown",
   "metadata": {},
   "source": [
    "In the data storytelling stage, we found that there were many duplicate songs shared between Workout and Party playlists. This might indicate that the two playlists are very similar. I want to perform hypothesis testing to confirm if that two playlists are significantly different from each other. "
   ]
  },
  {
   "cell_type": "markdown",
   "metadata": {},
   "source": [
    "##### Two sample T test:\n",
    "\n",
    "H0: the means of the samples are the same.\n",
    "\n",
    "H1: the means of the samples are not the same.\n"
   ]
  },
  {
   "cell_type": "code",
   "execution_count": 47,
   "metadata": {},
   "outputs": [
    {
     "name": "stdout",
     "output_type": "stream",
     "text": [
      "acousticness \n",
      "--------------------\n",
      "T Statistic: -7.784\n",
      "P-Value: 0.000000\n",
      "The means are not the same (reject null hypothesis)\n",
      "\n",
      "danceability \n",
      "--------------------\n",
      "T Statistic: -6.753\n",
      "P-Value: 0.000000\n",
      "The means are not the same (reject null hypothesis)\n",
      "\n",
      "duration_ms \n",
      "--------------------\n",
      "T Statistic: 0.903\n",
      "P-Value: 0.366590\n",
      "The means are the same (do not reject null hypothesis)\n",
      "\n",
      "energy \n",
      "--------------------\n",
      "T Statistic: 7.677\n",
      "P-Value: 0.000000\n",
      "The means are not the same (reject null hypothesis)\n",
      "\n",
      "instrumentalness \n",
      "--------------------\n",
      "T Statistic: 3.432\n",
      "P-Value: 0.000623\n",
      "The means are not the same (reject null hypothesis)\n",
      "\n",
      "liveness \n",
      "--------------------\n",
      "T Statistic: 0.322\n",
      "P-Value: 0.747544\n",
      "The means are the same (do not reject null hypothesis)\n",
      "\n",
      "loudness \n",
      "--------------------\n",
      "T Statistic: 6.251\n",
      "P-Value: 0.000000\n",
      "The means are not the same (reject null hypothesis)\n",
      "\n",
      "speechiness \n",
      "--------------------\n",
      "T Statistic: 1.177\n",
      "P-Value: 0.239262\n",
      "The means are the same (do not reject null hypothesis)\n",
      "\n",
      "tempo \n",
      "--------------------\n",
      "T Statistic: 4.637\n",
      "P-Value: 0.000004\n",
      "The means are not the same (reject null hypothesis)\n",
      "\n",
      "valence \n",
      "--------------------\n",
      "T Statistic: -10.090\n",
      "P-Value: 0.000000\n",
      "The means are not the same (reject null hypothesis)\n",
      "\n"
     ]
    }
   ],
   "source": [
    "from scipy import stats\n",
    "from scipy.stats import ttest_ind\n",
    "\n",
    "\n",
    "features = ['acousticness', 'danceability', 'duration_ms', 'energy', 'instrumentalness', \n",
    "            'liveness', 'loudness', 'speechiness', 'tempo', 'valence']\n",
    "\n",
    "for feature in features:\n",
    "    data1, data2 = w[feature], p[feature]\n",
    "    stat, pval = ttest_ind(data1, data2)\n",
    "\n",
    "    print(feature, \"\\n--------------------\")\n",
    "    print(\"T Statistic: %.3f\" % stat)\n",
    "    print(\"P-Value: %f\" % pval)\n",
    "    if pval > 0.05:\n",
    "        print(\"The means are the same (do not reject null hypothesis)\\n\")\n",
    "    else:\n",
    "        print(\"The means are not the same (reject null hypothesis)\\n\")"
   ]
  },
  {
   "cell_type": "markdown",
   "metadata": {},
   "source": [
    "The results from the t-test show that duration, liveness, and speechiness are not significantly different between workout and party playlist."
   ]
  },
  {
   "cell_type": "markdown",
   "metadata": {},
   "source": [
    "### Are variables significantly different across playlist genres?\n",
    "\n",
    "Now lets test if all playlists are significantly different from each other. \n",
    "\n"
   ]
  },
  {
   "cell_type": "markdown",
   "metadata": {},
   "source": [
    "##### Kruskal-Wallis H Test\n",
    "\n",
    "The Kruskal-Wallis test assesses for significant differences on a continuous dependent variable by a categorical independent variable (with two or more groups). It is the non-paramteric counterpart to ANOVA test.\n",
    "\n",
    "H0: the distributions of all categories are equal.\n",
    "\n",
    "H1: the distributions of one or more categories are not equal.\n"
   ]
  },
  {
   "cell_type": "code",
   "execution_count": 48,
   "metadata": {},
   "outputs": [
    {
     "name": "stdout",
     "output_type": "stream",
     "text": [
      "acousticness \n",
      "--------------------\n",
      "Kruskal-Wallis H: 973.123\n",
      "P-Value: 0.000000\n",
      "Distributions are not the same (reject null hypothesis)\n",
      "\n",
      "danceability \n",
      "--------------------\n",
      "Kruskal-Wallis H: 519.786\n",
      "P-Value: 0.000000\n",
      "Distributions are not the same (reject null hypothesis)\n",
      "\n",
      "duration_ms \n",
      "--------------------\n",
      "Kruskal-Wallis H: 98.430\n",
      "P-Value: 0.000000\n",
      "Distributions are not the same (reject null hypothesis)\n",
      "\n",
      "energy \n",
      "--------------------\n",
      "Kruskal-Wallis H: 1121.449\n",
      "P-Value: 0.000000\n",
      "Distributions are not the same (reject null hypothesis)\n",
      "\n",
      "instrumentalness \n",
      "--------------------\n",
      "Kruskal-Wallis H: 1137.366\n",
      "P-Value: 0.000000\n",
      "Distributions are not the same (reject null hypothesis)\n",
      "\n",
      "liveness \n",
      "--------------------\n",
      "Kruskal-Wallis H: 71.343\n",
      "P-Value: 0.000000\n",
      "Distributions are not the same (reject null hypothesis)\n",
      "\n",
      "loudness \n",
      "--------------------\n",
      "Kruskal-Wallis H: 1197.174\n",
      "P-Value: 0.000000\n",
      "Distributions are not the same (reject null hypothesis)\n",
      "\n",
      "speechiness \n",
      "--------------------\n",
      "Kruskal-Wallis H: 507.999\n",
      "P-Value: 0.000000\n",
      "Distributions are not the same (reject null hypothesis)\n",
      "\n",
      "tempo \n",
      "--------------------\n",
      "Kruskal-Wallis H: 98.232\n",
      "P-Value: 0.000000\n",
      "Distributions are not the same (reject null hypothesis)\n",
      "\n",
      "valence \n",
      "--------------------\n",
      "Kruskal-Wallis H: 690.898\n",
      "P-Value: 0.000000\n",
      "Distributions are not the same (reject null hypothesis)\n",
      "\n"
     ]
    }
   ],
   "source": [
    "from scipy.stats import kruskal\n",
    "\n",
    "\n",
    "features = ['acousticness', 'danceability', 'duration_ms', 'energy', 'instrumentalness', \n",
    "            'liveness', 'loudness', 'speechiness', 'tempo', 'valence']\n",
    "\n",
    "for feature in features:\n",
    "    data1, data2, data3, data4 = w[feature], p[feature], c[feature], f[feature]\n",
    "    stat, pval = kruskal(data1, data2, data3, data4)\n",
    "\n",
    "    print(feature, \"\\n--------------------\")\n",
    "    print(\"Kruskal-Wallis H: %.3f\" % stat)\n",
    "    print(\"P-Value: %f\" % pval)\n",
    "    if pval > 0.05:\n",
    "        print(\"Distributions are the same (do not reject null hypothesis)\\n\")\n",
    "    else:\n",
    "        print(\"Distributions are not the same (reject null hypothesis)\\n\")"
   ]
  },
  {
   "cell_type": "markdown",
   "metadata": {},
   "source": [
    "We reject the null hypothesis for all the variables. There is a significant difference between all genre categories. Therefore, we can conclude that all these variables will be good features to include in our model. \n",
    "\n",
    "Kruskal-Wallis is only valid for continuous variables. We will use a different test for our three categorical variables.\n",
    "\n",
    "\n",
    "\n",
    "##### Chi-Squared Test\n",
    "\n",
    "H0: the two samples are independent.\n",
    "\n",
    "H1: there is a dependency between the samples.\n",
    "\n"
   ]
  },
  {
   "cell_type": "code",
   "execution_count": 62,
   "metadata": {},
   "outputs": [
    {
     "name": "stdout",
     "output_type": "stream",
     "text": [
      "playlist  chill  focus  party  workout   All\n",
      "mode                                        \n",
      "0           145    183    224      233   785\n",
      "1           392    342    340      290  1364\n",
      "All         537    525    564      523  2149\n"
     ]
    }
   ],
   "source": [
    "mode_tab = pd.crosstab(spotify_songs['mode'], spotify_songs['playlist'], margins = True)\n",
    "\n",
    "\n",
    "observed = mode_tab.iloc[0:5,0:3]   # Get table without totals for later use\n",
    "print(mode_tab)"
   ]
  },
  {
   "cell_type": "code",
   "execution_count": 64,
   "metadata": {},
   "outputs": [
    {
     "name": "stdout",
     "output_type": "stream",
     "text": [
      "mode \n",
      "--------------------\n",
      "Chi-Sqaured: 20.117\n",
      "P-Value: 0.000473\n",
      "The two samples are dependent (reject null hypothesis)\n",
      "\n"
     ]
    }
   ],
   "source": [
    "chi2, p, dof, exp = stats.chi2_contingency(observed= observed)\n",
    "\n",
    "print('mode', \"\\n--------------------\")\n",
    "print(\"Chi-Sqaured: %.3f\" % chi2)\n",
    "print(\"P-Value: %f\" % p)\n",
    "if p > 0.05:\n",
    "    print(\"The two samples are independent (do not reject null hypothesis)\\n\")\n",
    "else:\n",
    "    print(\"The two samples are dependent (reject null hypothesis)\\n\")"
   ]
  },
  {
   "cell_type": "code",
   "execution_count": 65,
   "metadata": {},
   "outputs": [],
   "source": [
    "key_tab = pd.crosstab(spotify_songs['key'], spotify_songs['playlist'], margins = True)\n",
    "\n",
    "\n",
    "observed = key_tab.iloc[0:5,0:3]  "
   ]
  },
  {
   "cell_type": "code",
   "execution_count": 66,
   "metadata": {},
   "outputs": [
    {
     "name": "stdout",
     "output_type": "stream",
     "text": [
      "key \n",
      "--------------------\n",
      "Chi-Sqaured: 25.792\n",
      "P-Value: 0.001140\n",
      "The two samples are dependent (reject null hypothesis)\n",
      "\n"
     ]
    }
   ],
   "source": [
    "chi2, p, dof, exp = stats.chi2_contingency(observed= observed)\n",
    "\n",
    "print('key', \"\\n--------------------\")\n",
    "print(\"Chi-Sqaured: %.3f\" % chi2)\n",
    "print(\"P-Value: %f\" % p)\n",
    "if p > 0.05:\n",
    "    print(\"The two samples are independent (do not reject null hypothesis)\\n\")\n",
    "else:\n",
    "    print(\"The two samples are dependent (reject null hypothesis)\\n\")"
   ]
  },
  {
   "cell_type": "code",
   "execution_count": 67,
   "metadata": {},
   "outputs": [],
   "source": [
    "timesig_tab = pd.crosstab(spotify_songs['time_signature'], spotify_songs['playlist'], margins = True)\n",
    "\n",
    "\n",
    "observed = timesig_tab.iloc[0:5,0:3]  "
   ]
  },
  {
   "cell_type": "code",
   "execution_count": 68,
   "metadata": {},
   "outputs": [
    {
     "name": "stdout",
     "output_type": "stream",
     "text": [
      "time signature \n",
      "--------------------\n",
      "Chi-Sqaured: 134.510\n",
      "P-Value: 0.000000\n",
      "The two samples are dependent (reject null hypothesis)\n",
      "\n"
     ]
    }
   ],
   "source": [
    "chi2, p, dof, exp = stats.chi2_contingency(observed= observed)\n",
    "\n",
    "print('time signature', \"\\n--------------------\")\n",
    "print(\"Chi-Sqaured: %.3f\" % chi2)\n",
    "print(\"P-Value: %f\" % p)\n",
    "if p > 0.05:\n",
    "    print(\"The two samples are independent (do not reject null hypothesis)\\n\")\n",
    "else:\n",
    "    print(\"The two samples are dependent (reject null hypothesis)\\n\")"
   ]
  },
  {
   "cell_type": "markdown",
   "metadata": {},
   "source": [
    "The chi-squared test shows a significant relationship between mode, key, time signature and playlist genre. Therefore, these categorical variables are good candidates for our model. \n",
    "\n",
    "### Conclusion:\n",
    "\n",
    "Our tests show that all our variables significantly vary based on playlist genre. All of the features are good candidates for our model.\n",
    "\n",
    "However, we did see that duration, liveness, and speechiness are not significantly different between workout and party playlists. This will be good to keep in mind when evaluating our model. "
   ]
  }
 ],
 "metadata": {
  "kernelspec": {
   "display_name": "Python 3",
   "language": "python",
   "name": "python3"
  },
  "language_info": {
   "codemirror_mode": {
    "name": "ipython",
    "version": 3
   },
   "file_extension": ".py",
   "mimetype": "text/x-python",
   "name": "python",
   "nbconvert_exporter": "python",
   "pygments_lexer": "ipython3",
   "version": "3.7.1"
  }
 },
 "nbformat": 4,
 "nbformat_minor": 2
}
