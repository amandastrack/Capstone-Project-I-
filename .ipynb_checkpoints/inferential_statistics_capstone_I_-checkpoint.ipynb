{
 "cells": [
  {
   "cell_type": "code",
   "execution_count": 29,
   "metadata": {},
   "outputs": [],
   "source": [
    "import pandas as pd\n",
    "\n",
    "#import dataset\n",
    "spotify_songs = pd.read_csv('data/final_spotify_data.csv')\n",
    "\n",
    "#subset data based on playlist genre\n",
    "w = spotify_songs.loc[spotify_songs['playlist'] == 'workout']\n",
    "c = spotify_songs.loc[spotify_songs['playlist'] == 'chill']\n",
    "p = spotify_songs.loc[spotify_songs['playlist'] == 'party']\n",
    "f = spotify_songs.loc[spotify_songs['playlist'] == 'focus']"
   ]
  },
  {
   "cell_type": "markdown",
   "metadata": {},
   "source": [
    "# Inferential Statistics\n",
    "\n",
    "## Are the variable significant in terms of predicting Playlist genre?\n",
    "\n",
    "We will use inferential statistics to determine which variables will be good candidates for our models. To do this, I will use to hypothesis testing to prove that the variables are significantly different across the playlist categories. "
   ]
  },
  {
   "cell_type": "markdown",
   "metadata": {},
   "source": [
    "### Are workout and party playlists significantly different from each other?"
   ]
  },
  {
   "cell_type": "markdown",
   "metadata": {},
   "source": [
    "In the data storytelling stage, we found that there were many duplicate songs shared between Workout and Party playlists. This might indicate that the two playlists are very similar. I want to perform hypothesis testing to confirm if that two playlists are significantly different from each other. "
   ]
  },
  {
   "cell_type": "markdown",
   "metadata": {},
   "source": [
    "##### Two sample T test:\n",
    "\n",
    "H0: the means of the samples are the same.\n",
    "\n",
    "H1: the means of the samples are not the same.\n"
   ]
  },
  {
   "cell_type": "code",
   "execution_count": 3,
   "metadata": {},
   "outputs": [
    {
     "name": "stdout",
     "output_type": "stream",
     "text": [
      "acousticness \n",
      "--------------------\n",
      "T Statistic: -7.784\n",
      "P-Value: 0.000000\n",
      "The means are not the same (reject null hypothesis)\n",
      "\n",
      "danceability \n",
      "--------------------\n",
      "T Statistic: -6.753\n",
      "P-Value: 0.000000\n",
      "The means are not the same (reject null hypothesis)\n",
      "\n",
      "duration_ms \n",
      "--------------------\n",
      "T Statistic: 0.903\n",
      "P-Value: 0.366590\n",
      "The means are the same (do not reject null hypothesis)\n",
      "\n",
      "energy \n",
      "--------------------\n",
      "T Statistic: 7.677\n",
      "P-Value: 0.000000\n",
      "The means are not the same (reject null hypothesis)\n",
      "\n",
      "instrumentalness \n",
      "--------------------\n",
      "T Statistic: 3.432\n",
      "P-Value: 0.000623\n",
      "The means are not the same (reject null hypothesis)\n",
      "\n",
      "liveness \n",
      "--------------------\n",
      "T Statistic: 0.322\n",
      "P-Value: 0.747544\n",
      "The means are the same (do not reject null hypothesis)\n",
      "\n",
      "loudness \n",
      "--------------------\n",
      "T Statistic: 6.251\n",
      "P-Value: 0.000000\n",
      "The means are not the same (reject null hypothesis)\n",
      "\n",
      "speechiness \n",
      "--------------------\n",
      "T Statistic: 1.177\n",
      "P-Value: 0.239262\n",
      "The means are the same (do not reject null hypothesis)\n",
      "\n",
      "tempo \n",
      "--------------------\n",
      "T Statistic: 4.637\n",
      "P-Value: 0.000004\n",
      "The means are not the same (reject null hypothesis)\n",
      "\n",
      "valence \n",
      "--------------------\n",
      "T Statistic: -10.090\n",
      "P-Value: 0.000000\n",
      "The means are not the same (reject null hypothesis)\n",
      "\n"
     ]
    }
   ],
   "source": [
    "from scipy import stats\n",
    "from scipy.stats import ttest_ind\n",
    "\n",
    "\n",
    "features = ['acousticness', 'danceability', 'duration_ms', 'energy', 'instrumentalness', \n",
    "            'liveness', 'loudness', 'speechiness', 'tempo', 'valence']\n",
    "\n",
    "for feature in features:\n",
    "    data1, data2 = w[feature], p[feature]\n",
    "    stat, pval = ttest_ind(data1, data2)\n",
    "\n",
    "    print(feature, \"\\n--------------------\")\n",
    "    print(\"T Statistic: %.3f\" % stat)\n",
    "    print(\"P-Value: %f\" % pval)\n",
    "    if pval > 0.05:\n",
    "        print(\"The means are the same (do not reject null hypothesis)\\n\")\n",
    "    else:\n",
    "        print(\"The means are not the same (reject null hypothesis)\\n\")"
   ]
  },
  {
   "cell_type": "markdown",
   "metadata": {},
   "source": [
    "The results from the t-test show that duration, liveness, and speechiness are not significantly different between workout and party playlist.\n",
    "\n",
    "T-test only tests for continuous variables. For our categorical variables, I will use the chi-squared test.\n",
    "\n",
    "##### Chi-Squared Test\n",
    "\n",
    "H0: the two samples are independent.\n",
    "\n",
    "H1: there is a dependency between the samples."
   ]
  },
  {
   "cell_type": "code",
   "execution_count": 27,
   "metadata": {},
   "outputs": [
    {
     "name": "stdout",
     "output_type": "stream",
     "text": [
      "playlist  party  workout   All\n",
      "mode                          \n",
      "0           224      233   457\n",
      "1           340      290   630\n",
      "All         564      523  1087 \n",
      "\n",
      "mode \n",
      "--------------------\n",
      "Chi-Squared: 2.408\n",
      "P-Value: 0.120707\n",
      "Expected: [[237.11867525 219.88132475]\n",
      " [326.88132475 303.11867525]]\n",
      "The two samples are independent (do not reject null hypothesis)\n",
      "\n"
     ]
    }
   ],
   "source": [
    "workout_party = spotify_songs[(spotify_songs['playlist'] == 'workout') | (spotify_songs['playlist'] == 'party')]\n",
    "\n",
    "mode = pd.crosstab(workout_party['mode'], workout_party['playlist'], margins = True)\n",
    "\n",
    "\n",
    "observed = mode.iloc[0:2,0:2]   # Get table without totals for later use\n",
    "print(mode, \"\\n\")\n",
    "\n",
    "\n",
    "chi2, p_val, dof, exp = stats.chi2_contingency(observed= observed)\n",
    "\n",
    "print('mode', \"\\n--------------------\")\n",
    "print(\"Chi-Squared: %.3f\" % chi2)\n",
    "print(\"P-Value: %f\" % p_val)\n",
    "print(\"Expected:\", exp)\n",
    "if p > 0.05:\n",
    "    print(\"The two samples are independent (do not reject null hypothesis)\\n\")\n",
    "else:\n",
    "    print(\"The two samples are dependent (reject null hypothesis)\\n\")"
   ]
  },
  {
   "cell_type": "code",
   "execution_count": 26,
   "metadata": {},
   "outputs": [
    {
     "name": "stdout",
     "output_type": "stream",
     "text": [
      "playlist  party  workout   All\n",
      "key                           \n",
      "0            75       46   121\n",
      "1            82       68   150\n",
      "2            35       49    84\n",
      "3            16       13    29\n",
      "4            35       30    65\n",
      "5            45       46    91\n",
      "6            53       50   103\n",
      "7            47       51    98\n",
      "8            32       31    63\n",
      "9            51       41    92\n",
      "10           44       39    83\n",
      "11           49       59   108\n",
      "All         564      523  1087 \n",
      "\n",
      "key \n",
      "--------------------\n",
      "Chi-Squared: 12.348\n",
      "P-Value: 0.338056\n",
      "Expected: [[62.78196872 58.21803128]\n",
      " [77.82888684 72.17111316]\n",
      " [43.58417663 40.41582337]\n",
      " [15.04691812 13.95308188]\n",
      " [33.72585097 31.27414903]\n",
      " [47.21619135 43.78380865]\n",
      " [53.4425023  49.5574977 ]\n",
      " [50.84820607 47.15179393]\n",
      " [32.68813247 30.31186753]\n",
      " [47.7350506  44.2649494 ]\n",
      " [43.06531739 39.93468261]\n",
      " [56.03679853 51.96320147]]\n",
      "The two samples are independent (do not reject null hypothesis)\n",
      "\n"
     ]
    }
   ],
   "source": [
    "key = pd.crosstab(workout_party['key'], workout_party['playlist'], margins = True)\n",
    "\n",
    "\n",
    "observed = key.iloc[0:12,0:2]   # Get table without totals for later use\n",
    "print(key, \"\\n\")\n",
    "\n",
    "chi2, p_val, dof, exp = stats.chi2_contingency(observed= observed)\n",
    "\n",
    "print('key', \"\\n--------------------\")\n",
    "print(\"Chi-Squared: %.3f\" % chi2)\n",
    "print(\"P-Value: %f\" % p_val)\n",
    "print(\"Expected:\", exp)\n",
    "if p > 0.05:\n",
    "    print(\"The two samples are independent (do not reject null hypothesis)\\n\")\n",
    "else:\n",
    "    print(\"The two samples are dependent (reject null hypothesis)\\n\")"
   ]
  },
  {
   "cell_type": "code",
   "execution_count": 23,
   "metadata": {},
   "outputs": [
    {
     "name": "stdout",
     "output_type": "stream",
     "text": [
      "playlist        party  workout   All\n",
      "time_signature                      \n",
      "1                   1        1     2\n",
      "3                   7       10    17\n",
      "4                 548      508  1056\n",
      "5                   8        4    12\n",
      "All               564      523  1087 \n",
      "\n",
      "time signature \n",
      "--------------------\n",
      "Chi-Squared: 1.834\n",
      "P-Value: 0.607554\n",
      "Expected: [[  1.03771849   0.96228151]\n",
      " [  8.82060718   8.17939282]\n",
      " [547.91536339 508.08463661]\n",
      " [  6.22631095   5.77368905]]\n",
      "The two samples are independent (do not reject null hypothesis)\n",
      "\n"
     ]
    }
   ],
   "source": [
    "time_sig = pd.crosstab(workout_party['time_signature'], workout_party['playlist'], margins = True)\n",
    "\n",
    "\n",
    "observed = time_sig.iloc[0:4,0:2]   # Get table without totals for later use\n",
    "print(time_sig, \"\\n\")\n",
    "\n",
    "chi2, p_val, dof, exp = stats.chi2_contingency(observed= observed)\n",
    "\n",
    "print('time signature', \"\\n--------------------\")\n",
    "print(\"Chi-Squared: %.3f\" % chi2)\n",
    "print(\"P-Value: %f\" % p_val)\n",
    "print(\"Expected:\", exp)\n",
    "if p > 0.05:\n",
    "    print(\"The two samples are independent (do not reject null hypothesis)\\n\")\n",
    "else:\n",
    "    print(\"The two samples are dependent (reject null hypothesis)\\n\")"
   ]
  },
  {
   "cell_type": "markdown",
   "metadata": {},
   "source": [
    "The tests show that all three categorical variables of party and workout playlists are independent of each other. However, for the chi-squared results to be trusted, all expected frequencies have to be greater than 5. Our results from time signature have two expected frequency values less than 5. We cannot trust the chi-squared results for this variable.\n",
    "\n",
    "The reason for the small frequency values is because of the small sample size for time signature category of 1. To fix this, I will test only one category of time signature against all the others combined. Since time signature '4' is the most common value, I will test it against the others to see if there is a dependence on playlist genre. A pandas method is used to create a dummy variable for only the time signature ‘4’ which equals to ‘1’ if it belongs  to that variable and ‘0’ if it does not."
   ]
  },
  {
   "cell_type": "code",
   "execution_count": 61,
   "metadata": {},
   "outputs": [
    {
     "data": {
      "text/html": [
       "<div>\n",
       "<style scoped>\n",
       "    .dataframe tbody tr th:only-of-type {\n",
       "        vertical-align: middle;\n",
       "    }\n",
       "\n",
       "    .dataframe tbody tr th {\n",
       "        vertical-align: top;\n",
       "    }\n",
       "\n",
       "    .dataframe thead th {\n",
       "        text-align: right;\n",
       "    }\n",
       "</style>\n",
       "<table border=\"1\" class=\"dataframe\">\n",
       "  <thead>\n",
       "    <tr style=\"text-align: right;\">\n",
       "      <th></th>\n",
       "      <th>1</th>\n",
       "      <th>3</th>\n",
       "      <th>4</th>\n",
       "      <th>5</th>\n",
       "    </tr>\n",
       "  </thead>\n",
       "  <tbody>\n",
       "    <tr>\n",
       "      <th>0</th>\n",
       "      <td>0</td>\n",
       "      <td>0</td>\n",
       "      <td>1</td>\n",
       "      <td>0</td>\n",
       "    </tr>\n",
       "    <tr>\n",
       "      <th>1</th>\n",
       "      <td>0</td>\n",
       "      <td>0</td>\n",
       "      <td>1</td>\n",
       "      <td>0</td>\n",
       "    </tr>\n",
       "    <tr>\n",
       "      <th>2</th>\n",
       "      <td>0</td>\n",
       "      <td>0</td>\n",
       "      <td>1</td>\n",
       "      <td>0</td>\n",
       "    </tr>\n",
       "    <tr>\n",
       "      <th>3</th>\n",
       "      <td>0</td>\n",
       "      <td>0</td>\n",
       "      <td>1</td>\n",
       "      <td>0</td>\n",
       "    </tr>\n",
       "    <tr>\n",
       "      <th>4</th>\n",
       "      <td>0</td>\n",
       "      <td>0</td>\n",
       "      <td>1</td>\n",
       "      <td>0</td>\n",
       "    </tr>\n",
       "  </tbody>\n",
       "</table>\n",
       "</div>"
      ],
      "text/plain": [
       "   1  3  4  5\n",
       "0  0  0  1  0\n",
       "1  0  0  1  0\n",
       "2  0  0  1  0\n",
       "3  0  0  1  0\n",
       "4  0  0  1  0"
      ]
     },
     "execution_count": 61,
     "metadata": {},
     "output_type": "execute_result"
    }
   ],
   "source": [
    "dummies = pd.get_dummies(workout_party['time_signature'])\n",
    "dummies.head()"
   ]
  },
  {
   "cell_type": "code",
   "execution_count": 64,
   "metadata": {},
   "outputs": [
    {
     "name": "stdout",
     "output_type": "stream",
     "text": [
      "playlist  party  workout   All\n",
      "4                             \n",
      "0            16       15    31\n",
      "1           548      508  1056\n",
      "All         564      523  1087\n",
      "time signature \n",
      "--------------------\n",
      "Chi-Squared: 0.023\n",
      "P-Value: 0.879593\n",
      "Expected: [[ 16.08463661  14.91536339]\n",
      " [547.91536339 508.08463661]]\n",
      "The samples are independent (do not reject null hypothesis)\n",
      "\n"
     ]
    }
   ],
   "source": [
    "timesig_tab = pd.crosstab(dummies[4], workout_party['playlist'], margins = True)\n",
    "\n",
    "\n",
    "observed = timesig_tab.iloc[0:2,0:2]  \n",
    "print(timesig_tab)\n",
    "\n",
    "chi2, p, dof, exp = stats.chi2_contingency(observed= observed)\n",
    "\n",
    "print('time signature', \"\\n--------------------\")\n",
    "print(\"Chi-Squared: %.3f\" % chi2)\n",
    "print(\"P-Value: %f\" % p)\n",
    "print(\"Expected:\", exp)\n",
    "if p > 0.05:\n",
    "    print(\"The samples are independent (do not reject null hypothesis)\\n\")\n",
    "else:\n",
    "    print(\"The samples are dependent (reject null hypothesis)\\n\")"
   ]
  },
  {
   "cell_type": "markdown",
   "metadata": {},
   "source": [
    "\n",
    "### Are variables significantly different across playlist genres?\n",
    "\n",
    "Now lets test if all playlists are significantly different from each other. \n"
   ]
  },
  {
   "cell_type": "markdown",
   "metadata": {},
   "source": [
    "##### Kruskal-Wallis H Test\n",
    "\n",
    "The Kruskal-Wallis test assesses for significant differences on a continuous dependent variable by a categorical independent variable (with two or more groups). It is the non-paramteric counterpart to ANOVA test.\n",
    "\n",
    "H0: the distributions of all categories are equal.\n",
    "\n",
    "H1: the distributions of one or more categories are not equal.\n"
   ]
  },
  {
   "cell_type": "code",
   "execution_count": 30,
   "metadata": {},
   "outputs": [
    {
     "name": "stdout",
     "output_type": "stream",
     "text": [
      "acousticness \n",
      "--------------------\n",
      "Kruskal-Wallis H: 973.123\n",
      "P-Value: 0.000000\n",
      "Distributions are not the same (reject null hypothesis)\n",
      "\n",
      "danceability \n",
      "--------------------\n",
      "Kruskal-Wallis H: 519.786\n",
      "P-Value: 0.000000\n",
      "Distributions are not the same (reject null hypothesis)\n",
      "\n",
      "duration_ms \n",
      "--------------------\n",
      "Kruskal-Wallis H: 98.430\n",
      "P-Value: 0.000000\n",
      "Distributions are not the same (reject null hypothesis)\n",
      "\n",
      "energy \n",
      "--------------------\n",
      "Kruskal-Wallis H: 1121.449\n",
      "P-Value: 0.000000\n",
      "Distributions are not the same (reject null hypothesis)\n",
      "\n",
      "instrumentalness \n",
      "--------------------\n",
      "Kruskal-Wallis H: 1137.366\n",
      "P-Value: 0.000000\n",
      "Distributions are not the same (reject null hypothesis)\n",
      "\n",
      "liveness \n",
      "--------------------\n",
      "Kruskal-Wallis H: 71.343\n",
      "P-Value: 0.000000\n",
      "Distributions are not the same (reject null hypothesis)\n",
      "\n",
      "loudness \n",
      "--------------------\n",
      "Kruskal-Wallis H: 1197.174\n",
      "P-Value: 0.000000\n",
      "Distributions are not the same (reject null hypothesis)\n",
      "\n",
      "speechiness \n",
      "--------------------\n",
      "Kruskal-Wallis H: 507.999\n",
      "P-Value: 0.000000\n",
      "Distributions are not the same (reject null hypothesis)\n",
      "\n",
      "tempo \n",
      "--------------------\n",
      "Kruskal-Wallis H: 98.232\n",
      "P-Value: 0.000000\n",
      "Distributions are not the same (reject null hypothesis)\n",
      "\n",
      "valence \n",
      "--------------------\n",
      "Kruskal-Wallis H: 690.898\n",
      "P-Value: 0.000000\n",
      "Distributions are not the same (reject null hypothesis)\n",
      "\n"
     ]
    }
   ],
   "source": [
    "from scipy.stats import kruskal\n",
    "\n",
    "\n",
    "features = ['acousticness', 'danceability', 'duration_ms', 'energy', 'instrumentalness', \n",
    "            'liveness', 'loudness', 'speechiness', 'tempo', 'valence']\n",
    "\n",
    "for feature in features:\n",
    "    data1, data2, data3, data4 = w[feature], p[feature], c[feature], f[feature]\n",
    "    stat, pval = kruskal(data1, data2, data3, data4)\n",
    "\n",
    "    print(feature, \"\\n--------------------\")\n",
    "    print(\"Kruskal-Wallis H: %.3f\" % stat)\n",
    "    print(\"P-Value: %f\" % pval)\n",
    "    if pval > 0.05:\n",
    "        print(\"Distributions are the same (do not reject null hypothesis)\\n\")\n",
    "    else:\n",
    "        print(\"Distributions are not the same (reject null hypothesis)\\n\")"
   ]
  },
  {
   "cell_type": "markdown",
   "metadata": {},
   "source": [
    "We reject the null hypothesis for all the variables. There is a significant difference between all genre categories. Therefore, we can conclude that all these variables will be good features to include in our model. \n",
    "\n",
    "Kruskal-Wallis is only valid for continuous variables. We will use a different test for our three categorical variables.\n",
    "\n",
    "\n",
    "\n",
    "##### Chi-Squared Test\n",
    "\n",
    "H0: the samples are independent.\n",
    "\n",
    "H1: there is a dependency between the samples.\n",
    "\n"
   ]
  },
  {
   "cell_type": "code",
   "execution_count": 8,
   "metadata": {},
   "outputs": [
    {
     "name": "stdout",
     "output_type": "stream",
     "text": [
      "playlist  chill  focus  party  workout   All\n",
      "mode                                        \n",
      "0           145    183    224      233   785\n",
      "1           392    342    340      290  1364\n",
      "All         537    525    564      523  2149\n"
     ]
    }
   ],
   "source": [
    "mode_tab = pd.crosstab(spotify_songs['mode'], spotify_songs['playlist'], margins = True)\n",
    "\n",
    "\n",
    "observed = mode_tab.iloc[0:2,0:4]   # Get table without totals for later use\n",
    "print(mode_tab)"
   ]
  },
  {
   "cell_type": "code",
   "execution_count": 12,
   "metadata": {},
   "outputs": [
    {
     "name": "stdout",
     "output_type": "stream",
     "text": [
      "mode \n",
      "--------------------\n",
      "Chi-Squared: 38.642\n",
      "P-Value: 0.000000\n",
      "Expected: [[196.15867846 191.7752443  206.0214053  191.04467194]\n",
      " [340.84132154 333.2247557  357.9785947  331.95532806]]\n",
      "The samples are dependent (reject null hypothesis)\n",
      "\n"
     ]
    }
   ],
   "source": [
    "chi2, p, dof, exp = stats.chi2_contingency(observed= observed)\n",
    "\n",
    "print('mode', \"\\n--------------------\")\n",
    "print(\"Chi-Squared: %.3f\" % chi2)\n",
    "print(\"P-Value: %f\" % p)\n",
    "print(\"Expected:\", exp)\n",
    "if p > 0.05:\n",
    "    print(\"The samples are independent (do not reject null hypothesis)\\n\")\n",
    "else:\n",
    "    print(\"The samples are dependent (reject null hypothesis)\\n\")"
   ]
  },
  {
   "cell_type": "code",
   "execution_count": 14,
   "metadata": {},
   "outputs": [
    {
     "name": "stdout",
     "output_type": "stream",
     "text": [
      "playlist  chill  focus  party  workout   All\n",
      "key                                         \n",
      "0            63     68     75       46   252\n",
      "1            39     56     82       68   245\n",
      "2            57     39     35       49   180\n",
      "3            24     25     16       13    78\n",
      "4            45     38     35       30   148\n",
      "5            50     50     45       46   191\n",
      "6            38     39     53       50   180\n",
      "7            65     71     47       51   234\n",
      "8            37     42     32       31   142\n",
      "9            41     38     51       41   171\n",
      "10           33     26     44       39   142\n",
      "11           45     33     49       59   186\n",
      "All         537    525    564      523  2149\n"
     ]
    }
   ],
   "source": [
    "key_tab = pd.crosstab(spotify_songs['key'], spotify_songs['playlist'], margins = True)\n",
    "\n",
    "\n",
    "observed = key_tab.iloc[0:12,0:4]  \n",
    "print(key_tab)"
   ]
  },
  {
   "cell_type": "code",
   "execution_count": 15,
   "metadata": {},
   "outputs": [
    {
     "name": "stdout",
     "output_type": "stream",
     "text": [
      "key \n",
      "--------------------\n",
      "Chi-Squared: 64.504\n",
      "P-Value: 0.000842\n",
      "Expected: [[62.97068404 61.56351792 66.13680782 61.32899023]\n",
      " [61.22149837 59.8534202  64.29967427 59.62540717]\n",
      " [44.97906003 43.97394137 47.24057701 43.80642159]\n",
      " [19.49092601 19.05537459 20.47091671 18.98278269]\n",
      " [36.98278269 36.15635179 38.84225221 36.01861331]\n",
      " [47.72778036 46.66123779 50.12750116 46.48348069]\n",
      " [44.97906003 43.97394137 47.24057701 43.80642159]\n",
      " [58.47277804 57.16612378 61.41275012 56.94834807]\n",
      " [35.48348069 34.69055375 37.26756631 34.55839926]\n",
      " [42.73010703 41.7752443  44.87854816 41.61610051]\n",
      " [35.48348069 34.69055375 37.26756631 34.55839926]\n",
      " [46.47836203 45.43973941 48.81526291 45.26663564]]\n",
      "The samples are dependent (reject null hypothesis)\n",
      "\n"
     ]
    }
   ],
   "source": [
    "chi2, p, dof, exp = stats.chi2_contingency(observed= observed)\n",
    "\n",
    "print('key', \"\\n--------------------\")\n",
    "print(\"Chi-Squared: %.3f\" % chi2)\n",
    "print(\"P-Value: %f\" % p)\n",
    "print(\"Expected:\", exp)\n",
    "if p > 0.05:\n",
    "    print(\"The samples are independent (do not reject null hypothesis)\\n\")\n",
    "else:\n",
    "    print(\"The samples are dependent (reject null hypothesis)\\n\")"
   ]
  },
  {
   "cell_type": "code",
   "execution_count": 32,
   "metadata": {},
   "outputs": [
    {
     "name": "stdout",
     "output_type": "stream",
     "text": [
      "playlist        chill  focus  party  workout   All\n",
      "time_signature                                    \n",
      "1                   5     12      1        1    19\n",
      "3                  36     97      7       10   150\n",
      "4                 485    393    548      508  1934\n",
      "5                  11     23      8        4    46\n",
      "All               537    525    564      523  2149\n"
     ]
    }
   ],
   "source": [
    "timesig_tab = pd.crosstab(spotify_songs['time_signature'], spotify_songs['playlist'], margins = True)\n",
    "\n",
    "\n",
    "observed = timesig_tab.iloc[0:4,0:4]  \n",
    "print(timesig_tab)"
   ]
  },
  {
   "cell_type": "code",
   "execution_count": 33,
   "metadata": {},
   "outputs": [
    {
     "name": "stdout",
     "output_type": "stream",
     "text": [
      "time signature \n",
      "--------------------\n",
      "Chi-Squared: 200.912\n",
      "P-Value: 0.000000\n",
      "Expected: [[  4.74778967   4.64169381   4.98650535   4.62401117]\n",
      " [ 37.48255002  36.64495114  39.36714751  36.50535133]\n",
      " [483.27501163 472.47557003 507.57375523 470.6756631 ]\n",
      " [ 11.49464867  11.23778502  12.0725919   11.19497441]]\n",
      "The samples are dependent (reject null hypothesis)\n",
      "\n"
     ]
    }
   ],
   "source": [
    "chi2, p, dof, exp = stats.chi2_contingency(observed= observed)\n",
    "\n",
    "print('time signature', \"\\n--------------------\")\n",
    "print(\"Chi-Squared: %.3f\" % chi2)\n",
    "print(\"P-Value: %f\" % p)\n",
    "print(\"Expected:\", exp)\n",
    "if p > 0.05:\n",
    "    print(\"The samples are independent (do not reject null hypothesis)\\n\")\n",
    "else:\n",
    "    print(\"The samples are dependent (reject null hypothesis)\\n\")"
   ]
  },
  {
   "cell_type": "markdown",
   "metadata": {},
   "source": [
    "The chi-squared test indicate a significant relationship between mode, key, time signature and playlist genre. However, our results from time signature have four expected frequency values less than 5. Therefore, we cannot trust the chi-squared results for this variable.\n",
    "\n",
    "Since we cannot trust the chi-squared results for time signature since expected values are less than 5, we can perform more granular tests. Since time signature '4' is the most common value, I will test it against all other values to see if there is a dependence on playlist genre. I will use the pandas method to create a dummy variable for the only time signature ‘4’ which equals to ‘1’ if it belongs  to that variable and ‘0’ if it does not. "
   ]
  },
  {
   "cell_type": "code",
   "execution_count": 56,
   "metadata": {},
   "outputs": [
    {
     "data": {
      "text/html": [
       "<div>\n",
       "<style scoped>\n",
       "    .dataframe tbody tr th:only-of-type {\n",
       "        vertical-align: middle;\n",
       "    }\n",
       "\n",
       "    .dataframe tbody tr th {\n",
       "        vertical-align: top;\n",
       "    }\n",
       "\n",
       "    .dataframe thead th {\n",
       "        text-align: right;\n",
       "    }\n",
       "</style>\n",
       "<table border=\"1\" class=\"dataframe\">\n",
       "  <thead>\n",
       "    <tr style=\"text-align: right;\">\n",
       "      <th></th>\n",
       "      <th>1</th>\n",
       "      <th>3</th>\n",
       "      <th>4</th>\n",
       "      <th>5</th>\n",
       "    </tr>\n",
       "  </thead>\n",
       "  <tbody>\n",
       "    <tr>\n",
       "      <th>0</th>\n",
       "      <td>0</td>\n",
       "      <td>0</td>\n",
       "      <td>1</td>\n",
       "      <td>0</td>\n",
       "    </tr>\n",
       "    <tr>\n",
       "      <th>1</th>\n",
       "      <td>0</td>\n",
       "      <td>0</td>\n",
       "      <td>1</td>\n",
       "      <td>0</td>\n",
       "    </tr>\n",
       "    <tr>\n",
       "      <th>2</th>\n",
       "      <td>0</td>\n",
       "      <td>0</td>\n",
       "      <td>1</td>\n",
       "      <td>0</td>\n",
       "    </tr>\n",
       "    <tr>\n",
       "      <th>3</th>\n",
       "      <td>0</td>\n",
       "      <td>0</td>\n",
       "      <td>1</td>\n",
       "      <td>0</td>\n",
       "    </tr>\n",
       "    <tr>\n",
       "      <th>4</th>\n",
       "      <td>0</td>\n",
       "      <td>0</td>\n",
       "      <td>1</td>\n",
       "      <td>0</td>\n",
       "    </tr>\n",
       "  </tbody>\n",
       "</table>\n",
       "</div>"
      ],
      "text/plain": [
       "   1  3  4  5\n",
       "0  0  0  1  0\n",
       "1  0  0  1  0\n",
       "2  0  0  1  0\n",
       "3  0  0  1  0\n",
       "4  0  0  1  0"
      ]
     },
     "execution_count": 56,
     "metadata": {},
     "output_type": "execute_result"
    }
   ],
   "source": [
    "dummies = pd.get_dummies(spotify_songs['time_signature'])\n",
    "dummies.head()"
   ]
  },
  {
   "cell_type": "code",
   "execution_count": 58,
   "metadata": {},
   "outputs": [
    {
     "name": "stdout",
     "output_type": "stream",
     "text": [
      "playlist  chill  focus  party  workout   All\n",
      "4                                           \n",
      "0            52    132     16       15   215\n",
      "1           485    393    548      508  1934\n",
      "All         537    525    564      523  2149\n",
      "time signature \n",
      "--------------------\n",
      "Chi-Squared: 195.453\n",
      "P-Value: 0.000000\n",
      "Expected: [[ 53.72498837  52.52442997  56.42624477  52.3243369 ]\n",
      " [483.27501163 472.47557003 507.57375523 470.6756631 ]]\n",
      "The samples are dependent (reject null hypothesis)\n",
      "\n"
     ]
    }
   ],
   "source": [
    "timesig_tab = pd.crosstab(dummies[4], spotify_songs['playlist'], margins = True)\n",
    "\n",
    "\n",
    "observed = timesig_tab.iloc[0:2,0:4]  \n",
    "print(timesig_tab)\n",
    "\n",
    "chi2, p, dof, exp = stats.chi2_contingency(observed= observed)\n",
    "\n",
    "print('time signature', \"\\n--------------------\")\n",
    "print(\"Chi-Squared: %.3f\" % chi2)\n",
    "print(\"P-Value: %f\" % p)\n",
    "print(\"Expected:\", exp)\n",
    "if p > 0.05:\n",
    "    print(\"The samples are independent (do not reject null hypothesis)\\n\")\n",
    "else:\n",
    "    print(\"The samples are dependent (reject null hypothesis)\\n\")"
   ]
  },
  {
   "cell_type": "markdown",
   "metadata": {},
   "source": [
    "Results show that playlist genre has a significant relationship to tracks having a 4-beat time signature vs other time signatures. \n",
    "\n",
    "\n",
    "\n",
    "### Conclusion:\n",
    "\n",
    "Our tests show that all our variables significantly vary based on playlist genre. All of the features are good candidates for our model.\n",
    "\n",
    "However, we did see that duration, liveness, and speechiness are not significantly different between workout and party playlists. This will be good to keep in mind when evaluating our model. "
   ]
  }
 ],
 "metadata": {
  "kernelspec": {
   "display_name": "Python 3",
   "language": "python",
   "name": "python3"
  },
  "language_info": {
   "codemirror_mode": {
    "name": "ipython",
    "version": 3
   },
   "file_extension": ".py",
   "mimetype": "text/x-python",
   "name": "python",
   "nbconvert_exporter": "python",
   "pygments_lexer": "ipython3",
   "version": "3.7.1"
  }
 },
 "nbformat": 4,
 "nbformat_minor": 2
}
