{
 "cells": [
  {
   "cell_type": "code",
   "execution_count": 3,
   "metadata": {},
   "outputs": [],
   "source": [
    "import pandas as pd\n",
    "\n",
    "#import dataset\n",
    "spotify_songs = pd.read_csv('data/final_spotify_data.csv')\n",
    "\n",
    "#subset data based on playlist genre\n",
    "w = spotify_songs.loc[spotify_songs['playlist'] == 'workout']\n",
    "c = spotify_songs.loc[spotify_songs['playlist'] == 'chill']\n",
    "p = spotify_songs.loc[spotify_songs['playlist'] == 'party']\n",
    "f = spotify_songs.loc[spotify_songs['playlist'] == 'focus']"
   ]
  },
  {
   "cell_type": "markdown",
   "metadata": {},
   "source": [
    "# Inferential Statistics\n",
    "\n",
    "## Are the variable significant in terms of predicting Playlist genre?\n",
    "\n",
    "We will use inferential statistics to determine which variables will be good candidates for our models. To do this, I will use to hypothesis testing to prove that the variables are significantly different across the playlist categories. "
   ]
  },
  {
   "cell_type": "markdown",
   "metadata": {},
   "source": [
    "### Are workout and party playlists significantly different from each other?"
   ]
  },
  {
   "cell_type": "markdown",
   "metadata": {},
   "source": [
    "In the data storytelling stage, we found that there were many duplicate songs shared between Workout and Party playlists. This might indicate that the two playlists are very similar. I want to perform hypothesis testing to confirm if that two playlists are significantly different from each other. "
   ]
  },
  {
   "cell_type": "markdown",
   "metadata": {},
   "source": [
    "##### Two sample T test:\n",
    "\n",
    "H0: the means of the samples are the same.\n",
    "\n",
    "H1: the means of the samples are not the same.\n"
   ]
  },
  {
   "cell_type": "code",
   "execution_count": 6,
   "metadata": {},
   "outputs": [
    {
     "name": "stdout",
     "output_type": "stream",
     "text": [
      "acousticness \n",
      "--------------------\n",
      "T Statistic: -7.784\n",
      "P-Value: 0.000000\n",
      "The means are not the same (reject null hypothesis)\n",
      "\n",
      "danceability \n",
      "--------------------\n",
      "T Statistic: -6.753\n",
      "P-Value: 0.000000\n",
      "The means are not the same (reject null hypothesis)\n",
      "\n",
      "duration_ms \n",
      "--------------------\n",
      "T Statistic: 0.903\n",
      "P-Value: 0.366590\n",
      "The means are the same (do not reject null hypothesis)\n",
      "\n",
      "energy \n",
      "--------------------\n",
      "T Statistic: 7.677\n",
      "P-Value: 0.000000\n",
      "The means are not the same (reject null hypothesis)\n",
      "\n",
      "instrumentalness \n",
      "--------------------\n",
      "T Statistic: 3.432\n",
      "P-Value: 0.000623\n",
      "The means are not the same (reject null hypothesis)\n",
      "\n",
      "liveness \n",
      "--------------------\n",
      "T Statistic: 0.322\n",
      "P-Value: 0.747544\n",
      "The means are the same (do not reject null hypothesis)\n",
      "\n",
      "loudness \n",
      "--------------------\n",
      "T Statistic: 6.251\n",
      "P-Value: 0.000000\n",
      "The means are not the same (reject null hypothesis)\n",
      "\n",
      "speechiness \n",
      "--------------------\n",
      "T Statistic: 1.177\n",
      "P-Value: 0.239262\n",
      "The means are the same (do not reject null hypothesis)\n",
      "\n",
      "tempo \n",
      "--------------------\n",
      "T Statistic: 4.637\n",
      "P-Value: 0.000004\n",
      "The means are not the same (reject null hypothesis)\n",
      "\n",
      "valence \n",
      "--------------------\n",
      "T Statistic: -10.090\n",
      "P-Value: 0.000000\n",
      "The means are not the same (reject null hypothesis)\n",
      "\n"
     ]
    }
   ],
   "source": [
    "from scipy import stats\n",
    "from scipy.stats import ttest_ind\n",
    "\n",
    "\n",
    "features = ['acousticness', 'danceability', 'duration_ms', 'energy', 'instrumentalness', \n",
    "            'liveness', 'loudness', 'speechiness', 'tempo', 'valence']\n",
    "\n",
    "for feature in features:\n",
    "    data1, data2 = w[feature], p[feature]\n",
    "    stat, pval = ttest_ind(data1, data2)\n",
    "\n",
    "    print(feature, \"\\n--------------------\")\n",
    "    print(\"T Statistic: %.3f\" % stat)\n",
    "    print(\"P-Value: %f\" % pval)\n",
    "    if pval > 0.05:\n",
    "        print(\"The means are the same (do not reject null hypothesis)\\n\")\n",
    "    else:\n",
    "        print(\"The means are not the same (reject null hypothesis)\\n\")"
   ]
  },
  {
   "cell_type": "markdown",
   "metadata": {},
   "source": [
    "The results from the t-test show that duration, liveness, and speechiness are not significantly different between workout and party playlist.\n",
    "\n",
    "T-test only tests for continuous variables. For our categorical variables, I will use the chi-squared test.\n",
    "\n",
    "##### Chi-Squared Test\n",
    "\n",
    "H0: the two samples are independent.\n",
    "\n",
    "H1: there is a dependency between the samples."
   ]
  },
  {
   "cell_type": "code",
   "execution_count": 35,
   "metadata": {},
   "outputs": [
    {
     "name": "stdout",
     "output_type": "stream",
     "text": [
      "playlist  party  workout   All\n",
      "mode                          \n",
      "0           224      233   457\n",
      "1           340      290   630\n",
      "All         564      523  1087 \n",
      "\n",
      "mode \n",
      "--------------------\n",
      "Chi-Squared: 2.408\n",
      "P-Value: 0.120707\n",
      "The two samples are independent (do not reject null hypothesis)\n",
      "\n"
     ]
    }
   ],
   "source": [
    "workout_party = spotify_songs[(spotify_songs['playlist'] == 'workout') | (spotify_songs['playlist'] == 'party')]\n",
    "\n",
    "mode = pd.crosstab(workout_party['mode'], workout_party['playlist'], margins = True)\n",
    "\n",
    "\n",
    "observed = mode.iloc[0:2,0:2]   # Get table without totals for later use\n",
    "print(mode, \"\\n\")\n",
    "\n",
    "\n",
    "chi2, p, dof, exp = stats.chi2_contingency(observed= observed)\n",
    "\n",
    "print('mode', \"\\n--------------------\")\n",
    "print(\"Chi-Squared: %.3f\" % chi2)\n",
    "print(\"P-Value: %f\" % p)\n",
    "if p > 0.05:\n",
    "    print(\"The two samples are independent (do not reject null hypothesis)\\n\")\n",
    "else:\n",
    "    print(\"The two samples are dependent (reject null hypothesis)\\n\")"
   ]
  },
  {
   "cell_type": "code",
   "execution_count": 36,
   "metadata": {},
   "outputs": [
    {
     "name": "stdout",
     "output_type": "stream",
     "text": [
      "playlist  party  workout   All\n",
      "key                           \n",
      "0            75       46   121\n",
      "1            82       68   150\n",
      "2            35       49    84\n",
      "3            16       13    29\n",
      "4            35       30    65\n",
      "5            45       46    91\n",
      "6            53       50   103\n",
      "7            47       51    98\n",
      "8            32       31    63\n",
      "9            51       41    92\n",
      "10           44       39    83\n",
      "11           49       59   108\n",
      "All         564      523  1087 \n",
      "\n",
      "key \n",
      "--------------------\n",
      "Chi-Squared: 12.348\n",
      "P-Value: 0.338056\n",
      "The two samples are independent (do not reject null hypothesis)\n",
      "\n"
     ]
    }
   ],
   "source": [
    "key = pd.crosstab(workout_party['key'], workout_party['playlist'], margins = True)\n",
    "\n",
    "\n",
    "observed = key.iloc[0:12,0:2]   # Get table without totals for later use\n",
    "print(key, \"\\n\")\n",
    "\n",
    "chi2, p, dof, exp = stats.chi2_contingency(observed= observed)\n",
    "\n",
    "print('key', \"\\n--------------------\")\n",
    "print(\"Chi-Squared: %.3f\" % chi2)\n",
    "print(\"P-Value: %f\" % p)\n",
    "if p > 0.05:\n",
    "    print(\"The two samples are independent (do not reject null hypothesis)\\n\")\n",
    "else:\n",
    "    print(\"The two samples are dependent (reject null hypothesis)\\n\")"
   ]
  },
  {
   "cell_type": "code",
   "execution_count": 37,
   "metadata": {},
   "outputs": [
    {
     "name": "stdout",
     "output_type": "stream",
     "text": [
      "playlist        party  workout   All\n",
      "time_signature                      \n",
      "1                   1        1     2\n",
      "3                   7       10    17\n",
      "4                 548      508  1056\n",
      "5                   8        4    12\n",
      "All               564      523  1087 \n",
      "\n",
      "time signature \n",
      "--------------------\n",
      "Chi-Squared: 1.834\n",
      "P-Value: 0.607554\n",
      "The two samples are independent (do not reject null hypothesis)\n",
      "\n"
     ]
    }
   ],
   "source": [
    "time_sig = pd.crosstab(workout_party['time_signature'], workout_party['playlist'], margins = True)\n",
    "\n",
    "\n",
    "observed = time_sig.iloc[0:4,0:2]   # Get table without totals for later use\n",
    "print(time_sig, \"\\n\")\n",
    "\n",
    "chi2, p, dof, exp = stats.chi2_contingency(observed= observed)\n",
    "\n",
    "print('time signature', \"\\n--------------------\")\n",
    "print(\"Chi-Squared: %.3f\" % chi2)\n",
    "print(\"P-Value: %f\" % p)\n",
    "if p > 0.05:\n",
    "    print(\"The two samples are independent (do not reject null hypothesis)\\n\")\n",
    "else:\n",
    "    print(\"The two samples are dependent (reject null hypothesis)\\n\")"
   ]
  },
  {
   "cell_type": "markdown",
   "metadata": {},
   "source": [
    "The tests show that all three categorical variables of party and workout playlists are independent of each other. This tells us that these variables may not be good candidates for predicting between the two playlists.\n",
    "\n",
    "\n",
    "### Are variables significantly different across playlist genres?\n",
    "\n",
    "Now lets test if all playlists are significantly different from each other. \n",
    "\n"
   ]
  },
  {
   "cell_type": "markdown",
   "metadata": {},
   "source": [
    "##### Kruskal-Wallis H Test\n",
    "\n",
    "The Kruskal-Wallis test assesses for significant differences on a continuous dependent variable by a categorical independent variable (with two or more groups). It is the non-paramteric counterpart to ANOVA test.\n",
    "\n",
    "H0: the distributions of all categories are equal.\n",
    "\n",
    "H1: the distributions of one or more categories are not equal.\n"
   ]
  },
  {
   "cell_type": "code",
   "execution_count": 48,
   "metadata": {},
   "outputs": [
    {
     "name": "stdout",
     "output_type": "stream",
     "text": [
      "acousticness \n",
      "--------------------\n",
      "Kruskal-Wallis H: 973.123\n",
      "P-Value: 0.000000\n",
      "Distributions are not the same (reject null hypothesis)\n",
      "\n",
      "danceability \n",
      "--------------------\n",
      "Kruskal-Wallis H: 519.786\n",
      "P-Value: 0.000000\n",
      "Distributions are not the same (reject null hypothesis)\n",
      "\n",
      "duration_ms \n",
      "--------------------\n",
      "Kruskal-Wallis H: 98.430\n",
      "P-Value: 0.000000\n",
      "Distributions are not the same (reject null hypothesis)\n",
      "\n",
      "energy \n",
      "--------------------\n",
      "Kruskal-Wallis H: 1121.449\n",
      "P-Value: 0.000000\n",
      "Distributions are not the same (reject null hypothesis)\n",
      "\n",
      "instrumentalness \n",
      "--------------------\n",
      "Kruskal-Wallis H: 1137.366\n",
      "P-Value: 0.000000\n",
      "Distributions are not the same (reject null hypothesis)\n",
      "\n",
      "liveness \n",
      "--------------------\n",
      "Kruskal-Wallis H: 71.343\n",
      "P-Value: 0.000000\n",
      "Distributions are not the same (reject null hypothesis)\n",
      "\n",
      "loudness \n",
      "--------------------\n",
      "Kruskal-Wallis H: 1197.174\n",
      "P-Value: 0.000000\n",
      "Distributions are not the same (reject null hypothesis)\n",
      "\n",
      "speechiness \n",
      "--------------------\n",
      "Kruskal-Wallis H: 507.999\n",
      "P-Value: 0.000000\n",
      "Distributions are not the same (reject null hypothesis)\n",
      "\n",
      "tempo \n",
      "--------------------\n",
      "Kruskal-Wallis H: 98.232\n",
      "P-Value: 0.000000\n",
      "Distributions are not the same (reject null hypothesis)\n",
      "\n",
      "valence \n",
      "--------------------\n",
      "Kruskal-Wallis H: 690.898\n",
      "P-Value: 0.000000\n",
      "Distributions are not the same (reject null hypothesis)\n",
      "\n"
     ]
    }
   ],
   "source": [
    "from scipy.stats import kruskal\n",
    "\n",
    "\n",
    "features = ['acousticness', 'danceability', 'duration_ms', 'energy', 'instrumentalness', \n",
    "            'liveness', 'loudness', 'speechiness', 'tempo', 'valence']\n",
    "\n",
    "for feature in features:\n",
    "    data1, data2, data3, data4 = w[feature], p[feature], c[feature], f[feature]\n",
    "    stat, pval = kruskal(data1, data2, data3, data4)\n",
    "\n",
    "    print(feature, \"\\n--------------------\")\n",
    "    print(\"Kruskal-Wallis H: %.3f\" % stat)\n",
    "    print(\"P-Value: %f\" % pval)\n",
    "    if pval > 0.05:\n",
    "        print(\"Distributions are the same (do not reject null hypothesis)\\n\")\n",
    "    else:\n",
    "        print(\"Distributions are not the same (reject null hypothesis)\\n\")"
   ]
  },
  {
   "cell_type": "markdown",
   "metadata": {},
   "source": [
    "We reject the null hypothesis for all the variables. There is a significant difference between all genre categories. Therefore, we can conclude that all these variables will be good features to include in our model. \n",
    "\n",
    "Kruskal-Wallis is only valid for continuous variables. We will use a different test for our three categorical variables.\n",
    "\n",
    "\n",
    "\n",
    "##### Chi-Squared Test\n",
    "\n",
    "H0: the samples are independent.\n",
    "\n",
    "H1: there is a dependency between the samples.\n",
    "\n"
   ]
  },
  {
   "cell_type": "code",
   "execution_count": 38,
   "metadata": {},
   "outputs": [
    {
     "name": "stdout",
     "output_type": "stream",
     "text": [
      "playlist  chill  focus  party  workout   All\n",
      "mode                                        \n",
      "0           145    183    224      233   785\n",
      "1           392    342    340      290  1364\n",
      "All         537    525    564      523  2149\n"
     ]
    }
   ],
   "source": [
    "mode_tab = pd.crosstab(spotify_songs['mode'], spotify_songs['playlist'], margins = True)\n",
    "\n",
    "\n",
    "observed = mode_tab.iloc[0:2,0:4]   # Get table without totals for later use\n",
    "print(mode_tab)"
   ]
  },
  {
   "cell_type": "code",
   "execution_count": 39,
   "metadata": {},
   "outputs": [
    {
     "name": "stdout",
     "output_type": "stream",
     "text": [
      "mode \n",
      "--------------------\n",
      "Chi-Squared: 38.642\n",
      "P-Value: 0.000000\n",
      "The samples are dependent (reject null hypothesis)\n",
      "\n"
     ]
    }
   ],
   "source": [
    "chi2, p, dof, exp = stats.chi2_contingency(observed= observed)\n",
    "\n",
    "print('mode', \"\\n--------------------\")\n",
    "print(\"Chi-Squared: %.3f\" % chi2)\n",
    "print(\"P-Value: %f\" % p)\n",
    "if p > 0.05:\n",
    "    print(\"The samples are independent (do not reject null hypothesis)\\n\")\n",
    "else:\n",
    "    print(\"The samples are dependent (reject null hypothesis)\\n\")"
   ]
  },
  {
   "cell_type": "code",
   "execution_count": 40,
   "metadata": {},
   "outputs": [
    {
     "name": "stdout",
     "output_type": "stream",
     "text": [
      "playlist  chill  focus  party  workout   All\n",
      "key                                         \n",
      "0            63     68     75       46   252\n",
      "1            39     56     82       68   245\n",
      "2            57     39     35       49   180\n",
      "3            24     25     16       13    78\n",
      "4            45     38     35       30   148\n",
      "5            50     50     45       46   191\n",
      "6            38     39     53       50   180\n",
      "7            65     71     47       51   234\n",
      "8            37     42     32       31   142\n",
      "9            41     38     51       41   171\n",
      "10           33     26     44       39   142\n",
      "11           45     33     49       59   186\n",
      "All         537    525    564      523  2149\n"
     ]
    }
   ],
   "source": [
    "key_tab = pd.crosstab(spotify_songs['key'], spotify_songs['playlist'], margins = True)\n",
    "\n",
    "\n",
    "observed = key_tab.iloc[0:12,0:4]  \n",
    "print(key_tab)"
   ]
  },
  {
   "cell_type": "code",
   "execution_count": 41,
   "metadata": {},
   "outputs": [
    {
     "name": "stdout",
     "output_type": "stream",
     "text": [
      "key \n",
      "--------------------\n",
      "Chi-Squared: 64.504\n",
      "P-Value: 0.000842\n",
      "The samples are dependent (reject null hypothesis)\n",
      "\n"
     ]
    }
   ],
   "source": [
    "chi2, p, dof, exp = stats.chi2_contingency(observed= observed)\n",
    "\n",
    "print('key', \"\\n--------------------\")\n",
    "print(\"Chi-Squared: %.3f\" % chi2)\n",
    "print(\"P-Value: %f\" % p)\n",
    "if p > 0.05:\n",
    "    print(\"The samples are independent (do not reject null hypothesis)\\n\")\n",
    "else:\n",
    "    print(\"The samples are dependent (reject null hypothesis)\\n\")"
   ]
  },
  {
   "cell_type": "code",
   "execution_count": 42,
   "metadata": {},
   "outputs": [
    {
     "name": "stdout",
     "output_type": "stream",
     "text": [
      "playlist        chill  focus  party  workout   All\n",
      "time_signature                                    \n",
      "1                   5     12      1        1    19\n",
      "3                  36     97      7       10   150\n",
      "4                 485    393    548      508  1934\n",
      "5                  11     23      8        4    46\n",
      "All               537    525    564      523  2149\n"
     ]
    }
   ],
   "source": [
    "timesig_tab = pd.crosstab(spotify_songs['time_signature'], spotify_songs['playlist'], margins = True)\n",
    "\n",
    "\n",
    "observed = timesig_tab.iloc[0:4,0:4]  \n",
    "print(timesig_tab)"
   ]
  },
  {
   "cell_type": "code",
   "execution_count": 43,
   "metadata": {},
   "outputs": [
    {
     "name": "stdout",
     "output_type": "stream",
     "text": [
      "time signature \n",
      "--------------------\n",
      "Chi-Squared: 200.912\n",
      "P-Value: 0.000000\n",
      "The samples are dependent (reject null hypothesis)\n",
      "\n"
     ]
    }
   ],
   "source": [
    "chi2, p, dof, exp = stats.chi2_contingency(observed= observed)\n",
    "\n",
    "print('time signature', \"\\n--------------------\")\n",
    "print(\"Chi-Squared: %.3f\" % chi2)\n",
    "print(\"P-Value: %f\" % p)\n",
    "if p > 0.05:\n",
    "    print(\"The samples are independent (do not reject null hypothesis)\\n\")\n",
    "else:\n",
    "    print(\"The samples are dependent (reject null hypothesis)\\n\")"
   ]
  },
  {
   "cell_type": "markdown",
   "metadata": {},
   "source": [
    "The chi-squared test shows a significant relationship between mode, key, time signature and playlist genre. Therefore, these categorical variables are good candidates for our model. \n",
    "\n",
    "### Conclusion:\n",
    "\n",
    "Our tests show that all our variables significantly vary based on playlist genre. All of the features are good candidates for our model.\n",
    "\n",
    "However, we did see that duration, liveness, and speechiness are not significantly different between workout and party playlists. This will be good to keep in mind when evaluating our model. "
   ]
  }
 ],
 "metadata": {
  "kernelspec": {
   "display_name": "Python 3",
   "language": "python",
   "name": "python3"
  },
  "language_info": {
   "codemirror_mode": {
    "name": "ipython",
    "version": 3
   },
   "file_extension": ".py",
   "mimetype": "text/x-python",
   "name": "python",
   "nbconvert_exporter": "python",
   "pygments_lexer": "ipython3",
   "version": "3.7.1"
  }
 },
 "nbformat": 4,
 "nbformat_minor": 2
}
